{
 "cells": [
  {
   "cell_type": "markdown",
   "metadata": {},
   "source": [
    "## Access Modifer"
   ]
  },
  {
   "cell_type": "code",
   "execution_count": 8,
   "metadata": {},
   "outputs": [],
   "source": [
    "class Piaic():\n",
    "    def __init__(self) -> None:\n",
    "        # self.name         access = public\n",
    "        self.piaic_helpline : str = \"0800\"\n",
    "        # self._name        access = protected\n",
    "        self._total_expense: int = 25656464\n",
    "        # __ = dundder\n",
    "        # self.__name       access = private\n",
    "        self.__test : str = \"2/10/23\"\n",
    "    def getter ( self ) -> str:\n",
    "        return self.__test\n",
    "\n",
    "\n",
    "azfar : Piaic = Piaic()\n",
    "\n"
   ]
  },
  {
   "cell_type": "code",
   "execution_count": 2,
   "metadata": {},
   "outputs": [
    {
     "name": "stdout",
     "output_type": "stream",
     "text": [
      "03254154\n"
     ]
    }
   ],
   "source": [
    "azfar.piaic_helpline = \"03254154\"\n",
    "print(azfar.piaic_helpline)"
   ]
  },
  {
   "cell_type": "code",
   "execution_count": 31,
   "metadata": {},
   "outputs": [
    {
     "ename": "AttributeError",
     "evalue": "'StudentLogin' object has no attribute '__test'",
     "output_type": "error",
     "traceback": [
      "\u001b[1;31m---------------------------------------------------------------------------\u001b[0m",
      "\u001b[1;31mAttributeError\u001b[0m                            Traceback (most recent call last)",
      "\u001b[1;32mc:\\Users\\azfar\\OneDrive\\Desktop\\Python\\Class 15 - Callable, Encapsulation And Abstract Class\\class.ipynb Cell 4\u001b[0m line \u001b[0;36m1\n\u001b[1;32m----> <a href='vscode-notebook-cell:/c%3A/Users/azfar/OneDrive/Desktop/Python/Class%2015%20-%20Callable%2C%20Encapsulation%20And%20Abstract%20Class/class.ipynb#W3sZmlsZQ%3D%3D?line=0'>1</a>\u001b[0m \u001b[39mprint\u001b[39m(azfar\u001b[39m.\u001b[39;49m__test)\n",
      "\u001b[1;31mAttributeError\u001b[0m: 'StudentLogin' object has no attribute '__test'"
     ]
    }
   ],
   "source": [
    "print(azfar.__test)"
   ]
  },
  {
   "cell_type": "markdown",
   "metadata": {},
   "source": [
    "# Python is not a Pure Object Oriented Programming Language"
   ]
  },
  {
   "cell_type": "code",
   "execution_count": 58,
   "metadata": {},
   "outputs": [
    {
     "ename": "AttributeError",
     "evalue": "'StudentLogin' object has no attribute '_Piaic__test'",
     "output_type": "error",
     "traceback": [
      "\u001b[1;31m---------------------------------------------------------------------------\u001b[0m",
      "\u001b[1;31mAttributeError\u001b[0m                            Traceback (most recent call last)",
      "\u001b[1;32mc:\\Users\\azfar\\OneDrive\\Desktop\\Python\\Class 15 - Callable, Encapsulation And Abstract Class\\class.ipynb Cell 6\u001b[0m line \u001b[0;36m1\n\u001b[1;32m----> <a href='vscode-notebook-cell:/c%3A/Users/azfar/OneDrive/Desktop/Python/Class%2015%20-%20Callable%2C%20Encapsulation%20And%20Abstract%20Class/class.ipynb#W5sZmlsZQ%3D%3D?line=0'>1</a>\u001b[0m azfar\u001b[39m.\u001b[39;49m_Piaic__test\n",
      "\u001b[1;31mAttributeError\u001b[0m: 'StudentLogin' object has no attribute '_Piaic__test'"
     ]
    }
   ],
   "source": [
    "azfar._Piaic__test\n"
   ]
  },
  {
   "cell_type": "code",
   "execution_count": 7,
   "metadata": {},
   "outputs": [
    {
     "name": "stdout",
     "output_type": "stream",
     "text": [
      "2/10/23\n"
     ]
    }
   ],
   "source": [
    "print(azfar.getter())"
   ]
  },
  {
   "cell_type": "code",
   "execution_count": 22,
   "metadata": {},
   "outputs": [],
   "source": [
    "class StudentLogin:\n",
    "    def __init__(self) -> None:\n",
    "        self.__username : str = \"Admin\" # Private\n",
    "        self.__password : str = \"Admin\" # Private\n",
    "    \n",
    "    def __dbconnectivity(self , user : str , password : str):\n",
    "        print(\"Successfully Connected\")\n",
    "        if user == self.__username and password == self.__password:\n",
    "            return \"Valid User\"\n",
    "        else:\n",
    "            return \"Invalid User\"\n",
    "    \n",
    "    def update_password(self , password : str):\n",
    "        self.__password = password\n",
    "    \n",
    "    def student_login(self, user : str , pass1 : str) : \n",
    "        message : str = self.__dbconnectivity(user,pass1)\n",
    "        print(message)\n",
    "\n",
    "    def display_info(self):\n",
    "        print( f\"Hello {self.__username} and password = {self.__password}\")\n",
    "\n",
    "\n",
    "azfar : StudentLogin = StudentLogin()"
   ]
  },
  {
   "cell_type": "code",
   "execution_count": 17,
   "metadata": {},
   "outputs": [],
   "source": [
    "# will not change password\n",
    "azfar.__password = \"asd\""
   ]
  },
  {
   "cell_type": "code",
   "execution_count": 19,
   "metadata": {},
   "outputs": [
    {
     "name": "stdout",
     "output_type": "stream",
     "text": [
      "Hello Admin and password = Admin\n"
     ]
    }
   ],
   "source": [
    "azfar.display_info()"
   ]
  },
  {
   "cell_type": "code",
   "execution_count": 23,
   "metadata": {},
   "outputs": [
    {
     "name": "stdout",
     "output_type": "stream",
     "text": [
      "Successfully Connected\n",
      "Invalid User\n"
     ]
    }
   ],
   "source": [
    "azfar.student_login(\"azfar\",\"azfar\")"
   ]
  },
  {
   "cell_type": "code",
   "execution_count": 24,
   "metadata": {},
   "outputs": [
    {
     "name": "stdout",
     "output_type": "stream",
     "text": [
      "Successfully Connected\n",
      "Valid User\n"
     ]
    }
   ],
   "source": [
    "azfar.student_login(\"Admin\",\"Admin\")"
   ]
  },
  {
   "cell_type": "code",
   "execution_count": 25,
   "metadata": {},
   "outputs": [],
   "source": [
    "azfar.update_password(\"Azfar\")"
   ]
  },
  {
   "cell_type": "code",
   "execution_count": 26,
   "metadata": {},
   "outputs": [
    {
     "name": "stdout",
     "output_type": "stream",
     "text": [
      "Hello Admin and password = Azfar\n"
     ]
    }
   ],
   "source": [
    "azfar.display_info()"
   ]
  },
  {
   "cell_type": "markdown",
   "metadata": {},
   "source": [
    " __str__"
   ]
  },
  {
   "cell_type": "code",
   "execution_count": 34,
   "metadata": {},
   "outputs": [
    {
     "name": "stdout",
     "output_type": "stream",
     "text": [
      "<__main__.Teacher object at 0x00000276A6FD13A0>\n"
     ]
    }
   ],
   "source": [
    "class Teacher:\n",
    "    def __init__(self,name : str) -> None:\n",
    "        self.name : str = name\n",
    "\n",
    "sirZia : Teacher = Teacher(\"Sir Zia\")\n",
    "print(sirZia)"
   ]
  },
  {
   "cell_type": "markdown",
   "metadata": {},
   "source": [
    "Good Practice to use __str__ to give output without ( )"
   ]
  },
  {
   "cell_type": "code",
   "execution_count": 35,
   "metadata": {},
   "outputs": [
    {
     "name": "stdout",
     "output_type": "stream",
     "text": [
      "The teacher name is Sir Zia\n"
     ]
    }
   ],
   "source": [
    "class Teacher:\n",
    "    def __init__(self,name : str) -> None:\n",
    "        self.name : str = name\n",
    "\n",
    "    def __str__(self) -> str:\n",
    "        return f\"The teacher name is {self.name}\"\n",
    "\n",
    "sirZia : Teacher = Teacher(\"Sir Zia\")\n",
    "print(sirZia)"
   ]
  },
  {
   "cell_type": "markdown",
   "metadata": {},
   "source": [
    "## Abstract Class\n",
    "* A class where you cannot make an object from it directly"
   ]
  },
  {
   "cell_type": "code",
   "execution_count": 42,
   "metadata": {},
   "outputs": [
    {
     "ename": "TypeError",
     "evalue": "Can't instantiate abstract class Animal without an implementation for abstract method '__init__'",
     "output_type": "error",
     "traceback": [
      "\u001b[1;31m---------------------------------------------------------------------------\u001b[0m",
      "\u001b[1;31mTypeError\u001b[0m                                 Traceback (most recent call last)",
      "\u001b[1;32mc:\\Users\\azfar\\OneDrive\\Desktop\\Python\\Class 15 - Callable, Encapsulation And Abstract Class\\class.ipynb Cell 20\u001b[0m line \u001b[0;36m1\n\u001b[0;32m      <a href='vscode-notebook-cell:/c%3A/Users/azfar/OneDrive/Desktop/Python/Class%2015%20-%20Callable%2C%20Encapsulation%20And%20Abstract%20Class/class.ipynb#X26sZmlsZQ%3D%3D?line=6'>7</a>\u001b[0m         \u001b[39msuper\u001b[39m()\u001b[39m.\u001b[39m\u001b[39m__init__\u001b[39m()\n\u001b[0;32m      <a href='vscode-notebook-cell:/c%3A/Users/azfar/OneDrive/Desktop/Python/Class%2015%20-%20Callable%2C%20Encapsulation%20And%20Abstract%20Class/class.ipynb#X26sZmlsZQ%3D%3D?line=7'>8</a>\u001b[0m         \u001b[39mself\u001b[39m\u001b[39m.\u001b[39mliving_thing : \u001b[39mbool\u001b[39m \u001b[39m=\u001b[39m \u001b[39mTrue\u001b[39;00m\n\u001b[1;32m---> <a href='vscode-notebook-cell:/c%3A/Users/azfar/OneDrive/Desktop/Python/Class%2015%20-%20Callable%2C%20Encapsulation%20And%20Abstract%20Class/class.ipynb#X26sZmlsZQ%3D%3D?line=10'>11</a>\u001b[0m huzzi : Animal \u001b[39m=\u001b[39m Animal()\n\u001b[0;32m     <a href='vscode-notebook-cell:/c%3A/Users/azfar/OneDrive/Desktop/Python/Class%2015%20-%20Callable%2C%20Encapsulation%20And%20Abstract%20Class/class.ipynb#X26sZmlsZQ%3D%3D?line=12'>13</a>\u001b[0m \u001b[39mprint\u001b[39m(huzzi\u001b[39m.\u001b[39mliving_thing)\n",
      "\u001b[1;31mTypeError\u001b[0m: Can't instantiate abstract class Animal without an implementation for abstract method '__init__'"
     ]
    }
   ],
   "source": [
    "from abc import ABC , abstractmethod\n",
    "# Abstract Base Classes\n",
    "\n",
    "class Animal(ABC):\n",
    "    @abstractmethod\n",
    "    def __init__(self) -> None:\n",
    "        super().__init__()\n",
    "        self.living_thing : bool = True\n",
    "\n",
    "\n",
    "huzzi : Animal = Animal()\n",
    "\n",
    "print(huzzi.living_thing)"
   ]
  },
  {
   "cell_type": "code",
   "execution_count": 43,
   "metadata": {},
   "outputs": [
    {
     "name": "stdout",
     "output_type": "stream",
     "text": [
      "True\n"
     ]
    }
   ],
   "source": [
    "from abc import ABC , abstractmethod\n",
    "# Abstract Base Classes\n",
    "\n",
    "class Animal(ABC):\n",
    "    @abstractmethod\n",
    "    def __init__(self) -> None:\n",
    "        super().__init__()\n",
    "        self.living_thing : bool = True\n",
    "\n",
    "class Cat(Animal):\n",
    "    def __init__(self) -> None:\n",
    "        super().__init__()\n",
    "\n",
    "huzzi : Cat = Cat()\n",
    "\n",
    "print(huzzi.living_thing)"
   ]
  },
  {
   "cell_type": "code",
   "execution_count": 56,
   "metadata": {},
   "outputs": [
    {
     "ename": "TypeError",
     "evalue": "Can't instantiate abstract class Cat without an implementation for abstract method 'eat'",
     "output_type": "error",
     "traceback": [
      "\u001b[1;31m---------------------------------------------------------------------------\u001b[0m",
      "\u001b[1;31mTypeError\u001b[0m                                 Traceback (most recent call last)",
      "\u001b[1;32mc:\\Users\\azfar\\OneDrive\\Desktop\\Python\\Class 15 - Callable, Encapsulation And Abstract Class\\class.ipynb Cell 22\u001b[0m line \u001b[0;36m1\n\u001b[0;32m     <a href='vscode-notebook-cell:/c%3A/Users/azfar/OneDrive/Desktop/Python/Class%2015%20-%20Callable%2C%20Encapsulation%20And%20Abstract%20Class/class.ipynb#X30sZmlsZQ%3D%3D?line=14'>15</a>\u001b[0m     \u001b[39mdef\u001b[39;00m \u001b[39m__init__\u001b[39m(\u001b[39mself\u001b[39m) \u001b[39m-\u001b[39m\u001b[39m>\u001b[39m \u001b[39mNone\u001b[39;00m:\n\u001b[0;32m     <a href='vscode-notebook-cell:/c%3A/Users/azfar/OneDrive/Desktop/Python/Class%2015%20-%20Callable%2C%20Encapsulation%20And%20Abstract%20Class/class.ipynb#X30sZmlsZQ%3D%3D?line=15'>16</a>\u001b[0m         \u001b[39msuper\u001b[39m()\u001b[39m.\u001b[39m\u001b[39m__init__\u001b[39m()\n\u001b[1;32m---> <a href='vscode-notebook-cell:/c%3A/Users/azfar/OneDrive/Desktop/Python/Class%2015%20-%20Callable%2C%20Encapsulation%20And%20Abstract%20Class/class.ipynb#X30sZmlsZQ%3D%3D?line=17'>18</a>\u001b[0m huzzi : Cat \u001b[39m=\u001b[39m Cat()\n\u001b[0;32m     <a href='vscode-notebook-cell:/c%3A/Users/azfar/OneDrive/Desktop/Python/Class%2015%20-%20Callable%2C%20Encapsulation%20And%20Abstract%20Class/class.ipynb#X30sZmlsZQ%3D%3D?line=19'>20</a>\u001b[0m \u001b[39mprint\u001b[39m(huzzi\u001b[39m.\u001b[39mliving_thing)\n",
      "\u001b[1;31mTypeError\u001b[0m: Can't instantiate abstract class Cat without an implementation for abstract method 'eat'"
     ]
    }
   ],
   "source": [
    "from abc import ABC , abstractmethod\n",
    "# Abstract Base Classes\n",
    "\n",
    "class Animal(ABC):\n",
    "    @abstractmethod\n",
    "    def __init__(self) -> None:\n",
    "        super().__init__()\n",
    "        self.living_thing : bool = True\n",
    "\n",
    "    @abstractmethod\n",
    "    def eat(self, food : str) -> str:\n",
    "        return f\"Eating {food}\"\n",
    "\n",
    "class Cat(Animal):\n",
    "    def __init__(self) -> None:\n",
    "        super().__init__()\n",
    "\n",
    "huzzi : Cat = Cat()\n",
    "\n",
    "print(huzzi.living_thing)"
   ]
  },
  {
   "cell_type": "code",
   "execution_count": 47,
   "metadata": {},
   "outputs": [
    {
     "name": "stdout",
     "output_type": "stream",
     "text": [
      "True\n",
      "Cat is eating mouse\n"
     ]
    }
   ],
   "source": [
    "from abc import ABC , abstractmethod\n",
    "# Abstract Base Classes\n",
    "\n",
    "class Animal(ABC):\n",
    "    @abstractmethod\n",
    "    def __init__(self) -> None:\n",
    "        super().__init__()\n",
    "        self.living_thing : bool = True\n",
    "\n",
    "    @abstractmethod\n",
    "    def eat(self, food : str) -> str:\n",
    "        return f\"Eating {food}\"\n",
    "\n",
    "class Cat(Animal):\n",
    "    def __init__(self) -> None:\n",
    "        super().__init__()\n",
    "\n",
    "    def eat(self , food : str) -> str:\n",
    "        return f\"Cat is eating {food}\"\n",
    "\n",
    "huzzi : Cat = Cat()\n",
    "\n",
    "print(huzzi.living_thing)\n",
    "print(huzzi.eat(\"mouse\"))"
   ]
  },
  {
   "cell_type": "code",
   "execution_count": 57,
   "metadata": {},
   "outputs": [
    {
     "name": "stdout",
     "output_type": "stream",
     "text": [
      "Cat is eating mouse\n"
     ]
    }
   ],
   "source": [
    "from abc import ABC , abstractmethod\n",
    "# Abstract Base Classes\n",
    "\n",
    "class Animal(ABC):\n",
    "    \n",
    "    @abstractmethod\n",
    "    def eat(self, food : str) -> str:\n",
    "        return f\"Eating {food}\"\n",
    "\n",
    "class Cat(Animal):\n",
    "    def __init__(self) -> None:\n",
    "        super().__init__()\n",
    "\n",
    "    def eat(self , food : str) -> str:\n",
    "        return f\"Cat is eating {food}\"\n",
    "\n",
    "huzzi : Cat = Cat()\n",
    "\n",
    "print(huzzi.eat(\"mouse\"))"
   ]
  },
  {
   "cell_type": "markdown",
   "metadata": {},
   "source": [
    "## Duck Typing\n",
    "https://ioflood.com/blog/duck-typing/"
   ]
  },
  {
   "cell_type": "code",
   "execution_count": 54,
   "metadata": {},
   "outputs": [
    {
     "name": "stdout",
     "output_type": "stream",
     "text": [
      "Quack!\n",
      "'I'm Quacking Like a Duck!'\n"
     ]
    }
   ],
   "source": [
    "class Duck:\n",
    "    def quack(self) -> str:\n",
    "        return 'Quack!'\n",
    "\n",
    "class Person:\n",
    "    def quack(self) -> str:\n",
    "        return \"'I'm Quacking Like a Duck!'\"\n",
    "\n",
    "def in_the_forest(malard ):\n",
    "    print(malard.quack())\n",
    "\n",
    "donald : Duck = Duck()\n",
    "john : Person = Person()\n",
    "in_the_forest(donald)\n",
    "in_the_forest(john)\n",
    "\n",
    "# Output:\n",
    "# 'Quack!'\n",
    "# 'I'm Quacking Like a Duck!'"
   ]
  }
 ],
 "metadata": {
  "kernelspec": {
   "display_name": "python12",
   "language": "python",
   "name": "python3"
  },
  "language_info": {
   "codemirror_mode": {
    "name": "ipython",
    "version": 3
   },
   "file_extension": ".py",
   "mimetype": "text/x-python",
   "name": "python",
   "nbconvert_exporter": "python",
   "pygments_lexer": "ipython3",
   "version": "3.12.0"
  }
 },
 "nbformat": 4,
 "nbformat_minor": 2
}
