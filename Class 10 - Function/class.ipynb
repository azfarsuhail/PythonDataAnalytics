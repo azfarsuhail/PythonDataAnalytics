{
 "cells": [
  {
   "cell_type": "markdown",
   "metadata": {},
   "source": [
    "# Functions\n",
    "* Predefined Function\n",
    "    * Provided by in Language\n",
    "* User defined Function\n",
    "    * Custom Function\n",
    "## Similar Properties on Both\n",
    "* Return and Non-Return Function\n",
    "    * Return Function\n",
    "        * We can assign this function output in an variable\n",
    "    * None-Return Function\n",
    "        * Only runs,  We can not assign it to any variable\n",
    "\n",
    "## Components\n",
    "* Function Declaration\n",
    "    * Function Name (Must not be a reserved keyword)\n",
    "    * Parameters\n",
    "        * Parameter Type\n",
    "    * Return output type\n",
    "* Function Body\n",
    "    * Any Logic to be performed\n",
    "* Function Calling\n",
    "    * function()\n",
    "\n",
    "## Syntax\n",
    "```\n",
    "def function_name( param : type , param2 : types , ...) -> return_type: # Declaration\n",
    "    function body\n",
    "\n",
    "function_name(arg1,arg2) # Calling\n",
    "```\n",
    "\n",
    "### Syntax Lambda Function\n",
    "* One line Function\n",
    "* Without Name Function\n",
    "* Only use in this line\n",
    "```\n",
    "lambda param , param2 : function_body\n",
    "  \n",
    "```"
   ]
  },
  {
   "cell_type": "markdown",
   "metadata": {},
   "source": [
    "Non Return Functions"
   ]
  },
  {
   "cell_type": "code",
   "execution_count": null,
   "metadata": {},
   "outputs": [],
   "source": [
    "a : str = print(\"Azfar\")\n",
    "display(a)"
   ]
  },
  {
   "cell_type": "markdown",
   "metadata": {},
   "source": [
    "Return Function"
   ]
  },
  {
   "cell_type": "code",
   "execution_count": null,
   "metadata": {},
   "outputs": [],
   "source": [
    "a : int = len(\"Azfar\")\n",
    "display(a)"
   ]
  },
  {
   "cell_type": "code",
   "execution_count": null,
   "metadata": {},
   "outputs": [],
   "source": [
    "a : int = id(\"Azfar\")\n",
    "display(a)"
   ]
  },
  {
   "cell_type": "markdown",
   "metadata": {},
   "source": [
    "## Difference Between Methods and Function\n",
    "* Method\n",
    "    * Used in Class Objects\n",
    "    * variable.method_name()\n",
    "* Function\n",
    "    * Used globaly\n",
    "    * funtion_name()\n"
   ]
  },
  {
   "cell_type": "markdown",
   "metadata": {},
   "source": [
    "## Default Function\n",
    "    * Does not take any argument\n",
    "    * Does not return anything"
   ]
  },
  {
   "cell_type": "code",
   "execution_count": null,
   "metadata": {},
   "outputs": [],
   "source": [
    "def piaic()->None: # Function Declaration\n",
    "    # Function Body Start\n",
    "    print(\"PIAIC Generative AI\") # Statement 1\n",
    "    print(\"Python Crash Course\") # Statement 2\n",
    "    # Function Body End\n",
    "\n",
    "piaic()"
   ]
  },
  {
   "cell_type": "markdown",
   "metadata": {},
   "source": [
    "Required Parameter Function"
   ]
  },
  {
   "cell_type": "code",
   "execution_count": null,
   "metadata": {},
   "outputs": [],
   "source": [
    "def add_two( num1 : int , num2 : int) -> int : # num1 and num2 are called parameters\n",
    "    return num1 + num2\n",
    "\n",
    "a : int = 2\n",
    "b : int = 20\n",
    "\n",
    "add_two(a,b) # a and b are arguments here"
   ]
  },
  {
   "cell_type": "markdown",
   "metadata": {},
   "source": [
    "Optional Parameter Function"
   ]
  },
  {
   "cell_type": "code",
   "execution_count": null,
   "metadata": {},
   "outputs": [],
   "source": [
    "def add_two( num1 : int , num2 : int = 0) -> int :\n",
    "    return num1 + num2\n",
    "\n",
    "add_two(10)"
   ]
  },
  {
   "cell_type": "markdown",
   "metadata": {},
   "source": [
    "Postional Value Argment"
   ]
  },
  {
   "cell_type": "code",
   "execution_count": null,
   "metadata": {},
   "outputs": [],
   "source": [
    "def add_two( num1 : int , num2 : int = 0) -> int :\n",
    "    print(f\"Number 1 = {num1} and Number 2 = {num2}\")\n",
    "    return num1 + num2\n",
    "\n",
    "add_two(10)"
   ]
  },
  {
   "cell_type": "markdown",
   "metadata": {},
   "source": [
    "Key Value Argument "
   ]
  },
  {
   "cell_type": "code",
   "execution_count": null,
   "metadata": {},
   "outputs": [],
   "source": [
    "def add_two( num1 : int , num2 : int = 0) -> int :\n",
    "    print(f\"Number 1 = {num1} and Number 2 = {num2}\")\n",
    "    return num1 + num2\n",
    "\n",
    "add_two(num2=1,num1=10) # If you use name of the parameter then positons don't matter"
   ]
  },
  {
   "cell_type": "markdown",
   "metadata": {},
   "source": [
    "Lambda Function"
   ]
  },
  {
   "cell_type": "code",
   "execution_count": null,
   "metadata": {},
   "outputs": [],
   "source": [
    "# Saved Lambda function in variable \"a\"\n",
    "a = lambda num1 , num2 : num1 + num2"
   ]
  },
  {
   "cell_type": "code",
   "execution_count": null,
   "metadata": {},
   "outputs": [],
   "source": [
    "data : list[int]= [1,2,3,4,5,6,7,8,9,10]\n",
    "\n",
    "data = list(map(lambda x:x**2,data))\n",
    "\n",
    "data"
   ]
  },
  {
   "cell_type": "code",
   "execution_count": null,
   "metadata": {},
   "outputs": [],
   "source": [
    "data : list[int]= [1,2,3,4,5,6,7,8,9,10]\n",
    "\n",
    "data = list(filter(lambda x:x%2==0,data))\n",
    "\n",
    "data"
   ]
  },
  {
   "cell_type": "markdown",
   "metadata": {},
   "source": [
    "Using Callable to define input data type in lambda functions"
   ]
  },
  {
   "cell_type": "code",
   "execution_count": null,
   "metadata": {},
   "outputs": [],
   "source": [
    "from typing import Callable\n",
    "\n",
    "a = lambda num1 , num2 : num1 + num2\n",
    "#                input  input  output\n",
    "add : Callable[[  int , int  ],int] = lambda x , y : x + y\n",
    " \n",
    "result : int = add(20,50)\n",
    "\n",
    "print(result)"
   ]
  },
  {
   "cell_type": "markdown",
   "metadata": {},
   "source": [
    "## Generator Function\n",
    "* Iterate on element one by one\n",
    "* Always stop after each iteration\n",
    "* Remember old iteration ( last iterate value )\n",
    "* Next iterate\n",
    "    * Go forward from last iterate value\n",
    "* Iterator is a subtype of Generator\n",
    "* Is used to break down large data into smaller more manageable pieces for memory to process\n",
    "* Memory Effienct"
   ]
  },
  {
   "cell_type": "code",
   "execution_count": null,
   "metadata": {},
   "outputs": [],
   "source": [
    "def my_range(start : int , end : int , step : int = 1 ) :\n",
    "    for i in range(start,end,step):\n",
    "        yield i # Making it a generator function\n",
    "\n",
    "a = my_range(1,10000)\n",
    "\n",
    "# print(list(a))\n",
    "print(next(a))\n",
    "print(next(a))\n",
    "print(next(a))\n",
    "print(\"Azfar\")\n",
    "print(next(a))\n",
    "print(next(a))\n",
    "print(next(a))"
   ]
  },
  {
   "cell_type": "code",
   "execution_count": null,
   "metadata": {},
   "outputs": [],
   "source": [
    "from collections.abc import Iterator\n",
    "# collection.abstract base classes\n",
    "\n",
    "MyDictT = dict[str, object]  # for example\n",
    "\n",
    "def yield_func() -> Iterator[MyDictT]:\n",
    "    a: MyDictT = {}\n",
    "    b: MyDictT = {}\n",
    "    ...\n",
    "    yield a\n",
    "    yield b"
   ]
  },
  {
   "cell_type": "code",
   "execution_count": null,
   "metadata": {},
   "outputs": [],
   "source": [
    "from collections.abc import Iterator\n",
    "\n",
    "def my_range(start : int , end : int , step : int = 1 ) -> Iterator[int]:\n",
    "    for i in range(start,end+1,step):\n",
    "        yield i # Making it a generator function\n",
    "\n",
    "iterate_variable : Iterator[int] = my_range(1,10)\n",
    "\n",
    "for i in iterate_variable :\n",
    "    print(i)\n",
    "\n",
    "print(type(a))\n",
    "# print(next(a))\n",
    "# print(next(a))\n",
    "# print(next(a))\n",
    "# print(\"Azfar\")\n",
    "# print(next(a))\n",
    "# print(next(a))\n",
    "# print(next(a))"
   ]
  },
  {
   "cell_type": "code",
   "execution_count": null,
   "metadata": {},
   "outputs": [],
   "source": [
    "# More Memory efficient\n",
    "data = filter(lambda x:x%2==0,range(1,11))\n",
    "\n",
    "print(next(data))"
   ]
  },
  {
   "cell_type": "code",
   "execution_count": null,
   "metadata": {},
   "outputs": [],
   "source": [
    "dir(a)"
   ]
  },
  {
   "cell_type": "markdown",
   "metadata": {},
   "source": [
    "## Pass Unlimited Argument\n",
    "* (*) Translated the data into a tuple\n",
    "* (**) Translated the data into dictionary"
   ]
  },
  {
   "cell_type": "markdown",
   "metadata": {},
   "source": [
    "# Old ways\n"
   ]
  },
  {
   "cell_type": "code",
   "execution_count": null,
   "metadata": {},
   "outputs": [],
   "source": [
    "def abc( *nums ):\n",
    "    print(nums,type(nums))\n",
    "    total = 0\n",
    "    for t in nums:\n",
    "        total+=1\n",
    "    return total\n",
    "abc(1,2,3,4,4,4,4,32,2,4,5,5)"
   ]
  },
  {
   "cell_type": "code",
   "execution_count": null,
   "metadata": {},
   "outputs": [],
   "source": [
    "def xyz ( **ka ):\n",
    "    print(ka,type(ka))\n",
    "\n",
    "xyz(a=3,c=30,b=90,d=384)"
   ]
  },
  {
   "cell_type": "code",
   "execution_count": null,
   "metadata": {},
   "outputs": [],
   "source": [
    "def my_func(a,b,*abc,**xyz):\n",
    "    print(a,b,abc,xyz)\n",
    "\n",
    "my_func()"
   ]
  },
  {
   "cell_type": "markdown",
   "metadata": {},
   "source": [
    "# New Way (Static Data type)"
   ]
  },
  {
   "cell_type": "code",
   "execution_count": null,
   "metadata": {},
   "outputs": [],
   "source": [
    "from typing import Tuple\n",
    "def greet ( *name : Tuple[str,...]):\n",
    "    print(f\"Hello {name}\")\n",
    "\n",
    "greet(\"Azfar\",\"Huzzi\")"
   ]
  },
  {
   "cell_type": "code",
   "execution_count": 54,
   "metadata": {},
   "outputs": [
    {
     "name": "stdout",
     "output_type": "stream",
     "text": [
      "Hello ('Azfar', 'Huzzi', 'Imaz')\n"
     ]
    }
   ],
   "source": [
    "from typing import Dict\n",
    "\n",
    "def my_func (**name : Dict[str,int]):\n",
    "    print(n)\n",
    "\n",
    "greet(\"Azfar\",\"Huzzi\",\"Imaz\")"
   ]
  },
  {
   "cell_type": "markdown",
   "metadata": {},
   "source": [
    "Decorator"
   ]
  },
  {
   "cell_type": "code",
   "execution_count": 64,
   "metadata": {},
   "outputs": [
    {
     "ename": "TypeError",
     "evalue": "'NoneType' object is not callable",
     "output_type": "error",
     "traceback": [
      "\u001b[1;31m---------------------------------------------------------------------------\u001b[0m",
      "\u001b[1;31mTypeError\u001b[0m                                 Traceback (most recent call last)",
      "\u001b[1;32mc:\\Users\\azfar\\OneDrive\\Desktop\\Python\\Class 10 - Function\\class.ipynb Cell 39\u001b[0m line \u001b[0;36m1\n\u001b[0;32m     <a href='vscode-notebook-cell:/c%3A/Users/azfar/OneDrive/Desktop/Python/Class%2010%20-%20Function/class.ipynb#X60sZmlsZQ%3D%3D?line=9'>10</a>\u001b[0m \u001b[39m@my_decorator\u001b[39m\n\u001b[0;32m     <a href='vscode-notebook-cell:/c%3A/Users/azfar/OneDrive/Desktop/Python/Class%2010%20-%20Function/class.ipynb#X60sZmlsZQ%3D%3D?line=10'>11</a>\u001b[0m \u001b[39mdef\u001b[39;00m \u001b[39msay_hello\u001b[39m():\n\u001b[0;32m     <a href='vscode-notebook-cell:/c%3A/Users/azfar/OneDrive/Desktop/Python/Class%2010%20-%20Function/class.ipynb#X60sZmlsZQ%3D%3D?line=11'>12</a>\u001b[0m     \u001b[39mprint\u001b[39m(\u001b[39m\"\u001b[39m\u001b[39mHello\u001b[39m\u001b[39m\"\u001b[39m)\n\u001b[1;32m---> <a href='vscode-notebook-cell:/c%3A/Users/azfar/OneDrive/Desktop/Python/Class%2010%20-%20Function/class.ipynb#X60sZmlsZQ%3D%3D?line=13'>14</a>\u001b[0m say_hello()\n",
      "\u001b[1;31mTypeError\u001b[0m: 'NoneType' object is not callable"
     ]
    }
   ],
   "source": [
    "from typing import Callable\n",
    "\n",
    "def my_decorator(func:Callable[[],None]) -> Callable[[],None]:\n",
    "    def wrapper()-> None:\n",
    "        print(\"Something is happening before the fucntion is called\")\n",
    "        func()\n",
    "        print(\"Something is happening after the function is called\")\n",
    "        return wrapper\n",
    "    \n",
    "@my_decorator\n",
    "def say_hello():\n",
    "    print(\"Hello\")\n",
    "\n",
    "say_hello()"
   ]
  },
  {
   "cell_type": "code",
   "execution_count": 65,
   "metadata": {},
   "outputs": [
    {
     "name": "stdout",
     "output_type": "stream",
     "text": [
      "Something is happening before the function is called\n",
      "Hello\n",
      "Something is happening after the function is called\n"
     ]
    }
   ],
   "source": [
    "from typing import Callable\n",
    "\n",
    "def my_decorator(func: Callable[..., Callable[..., None]]) -> Callable[..., None]:\n",
    "    def wrapper() -> None:\n",
    "        print(\"Something is happening before the function is called\")\n",
    "        func()\n",
    "        print(\"Something is happening after the function is called\")\n",
    "    return wrapper\n",
    "\n",
    "@my_decorator\n",
    "def say_hello():\n",
    "    print(\"Hello\")\n",
    "\n",
    "say_hello()\n"
   ]
  },
  {
   "cell_type": "code",
   "execution_count": 59,
   "metadata": {},
   "outputs": [
    {
     "name": "stdout",
     "output_type": "stream",
     "text": [
      "Something is happening before the function is called.\n",
      "Hello!\n",
      "Something is happening after the function is called.\n"
     ]
    }
   ],
   "source": [
    "# Decorator function\n",
    "def my_decorator(func):\n",
    "    def wrapper():\n",
    "        print(\"Something is happening before the function is called.\")\n",
    "        func()  # Call the original function\n",
    "        print(\"Something is happening after the function is called.\")\n",
    "    return wrapper\n",
    "\n",
    "# Decorate the function using @ syntax\n",
    "@my_decorator\n",
    "def say_hello():\n",
    "    print(\"Hello!\")\n",
    "\n",
    "# Call the decorated function\n",
    "say_hello()"
   ]
  },
  {
   "cell_type": "markdown",
   "metadata": {},
   "source": [
    "Recursive Function\n"
   ]
  },
  {
   "cell_type": "code",
   "execution_count": 70,
   "metadata": {},
   "outputs": [
    {
     "name": "stdout",
     "output_type": "stream",
     "text": [
      "The Factorial of 3 is equal to 6\n"
     ]
    }
   ],
   "source": [
    "def factorial(x:int) -> int:\n",
    "    \"\"\"\"This function is a recursive function\n",
    "    to fuind the factorialof an integer\"\"\"\n",
    "    if x==1:\n",
    "        return 1\n",
    "    else:\n",
    "        return (x*factorial(x-1))\n",
    "num: int = 3\n",
    "print(f\"The Factorial of {num} is equal to {factorial(num)}\")    "
   ]
  }
 ],
 "metadata": {
  "kernelspec": {
   "display_name": "python12",
   "language": "python",
   "name": "python3"
  },
  "language_info": {
   "codemirror_mode": {
    "name": "ipython",
    "version": 3
   },
   "file_extension": ".py",
   "mimetype": "text/x-python",
   "name": "python",
   "nbconvert_exporter": "python",
   "pygments_lexer": "ipython3",
   "version": "3.12.0"
  }
 },
 "nbformat": 4,
 "nbformat_minor": 2
}
