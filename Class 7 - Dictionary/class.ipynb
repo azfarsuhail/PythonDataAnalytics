{
 "cells": [
  {
   "cell_type": "markdown",
   "metadata": {},
   "source": [
    "# Dictionary\n",
    "* key : value (item)\n",
    "    * Key replacement of indexes\n",
    "    * Value item\n",
    "* Dict Variable\n",
    "    * Add New Values\n",
    "    * Update Value"
   ]
  },
  {
   "cell_type": "code",
   "execution_count": 15,
   "metadata": {},
   "outputs": [
    {
     "name": "stdout",
     "output_type": "stream",
     "text": [
      "Huzaifa\n"
     ]
    }
   ],
   "source": [
    "# List                 0        1       2\n",
    "data : list[str] = [\"Azfar\",\"Huzaifa\",\"Imaz\"]\n",
    "print(data[1])"
   ]
  },
  {
   "cell_type": "code",
   "execution_count": 16,
   "metadata": {},
   "outputs": [
    {
     "name": "stdout",
     "output_type": "stream",
     "text": [
      "[1, 2, 3, 4, 5, 8, 9, 42, 43, 48, 64, 98, 456]\n"
     ]
    },
    {
     "data": {
      "text/plain": [
       "['add',\n",
       " 'clear',\n",
       " 'copy',\n",
       " 'difference',\n",
       " 'difference_update',\n",
       " 'discard',\n",
       " 'intersection',\n",
       " 'intersection_update',\n",
       " 'isdisjoint',\n",
       " 'issubset',\n",
       " 'issuperset',\n",
       " 'pop',\n",
       " 'remove',\n",
       " 'symmetric_difference',\n",
       " 'symmetric_difference_update',\n",
       " 'union',\n",
       " 'update']"
      ]
     },
     "execution_count": 16,
     "metadata": {},
     "output_type": "execute_result"
    }
   ],
   "source": [
    "data : set = {1,2,5,456,4,4,5,8,42,3,5,98,43,64,9,5,48,9}\n",
    "print(sorted(data))\n",
    "[i for i in dir(data) if \"__\" not in i]"
   ]
  },
  {
   "cell_type": "markdown",
   "metadata": {},
   "source": [
    "Key only takes hashable data types(unique attribute)"
   ]
  },
  {
   "cell_type": "code",
   "execution_count": 23,
   "metadata": {},
   "outputs": [
    {
     "name": "stdout",
     "output_type": "stream",
     "text": [
      "['clear', 'copy', 'fromkeys', 'get', 'items', 'keys', 'pop', 'popitem', 'setdefault', 'update', 'values']\n"
     ]
    }
   ],
   "source": [
    "from typing import Dict\n",
    "print([i for i in dir(dict) if \"__\" not in i])"
   ]
  },
  {
   "cell_type": "code",
   "execution_count": 22,
   "metadata": {},
   "outputs": [
    {
     "name": "stdout",
     "output_type": "stream",
     "text": [
      "['clear', 'copy', 'fromkeys', 'get', 'items', 'keys', 'pop', 'popitem', 'setdefault', 'update', 'values']\n",
      "{100: 'Pakistan', 'fname': 'Suhail', 'name': 'Azfar', 'occupation': 'Student'}\n",
      "Azfar\n",
      "Suhail\n",
      "Student\n",
      "Pakistan\n"
     ]
    }
   ],
   "source": [
    "from typing import Dict,Union\n",
    "import pprint\n",
    "Key = Union[str,int] # Creating Custom Data Type\n",
    "Value = Union[int,str,list,dict,tuple,set] # Creating Custom Data Type\n",
    "data : Dict[Key,Value] = {\"fname\":\"Suhail\",\n",
    "                        \"name\":\"Azfar\",\n",
    "                        \"occupation\":\"Student\",\n",
    "                        100:\"Pakistan\",\n",
    "}\n",
    "pprint.pprint(data)\n",
    "print(data[\"name\"])\n",
    "print(data[\"fname\"])\n",
    "print(data[\"occupation\"])\n",
    "print(data[100])"
   ]
  },
  {
   "cell_type": "code",
   "execution_count": 19,
   "metadata": {},
   "outputs": [
    {
     "name": "stdout",
     "output_type": "stream",
     "text": [
      "{10: [1, 2, 3],\n",
      " 100: '[123]',\n",
      " 'abc': {1, 2, 3},\n",
      " 'fname': 'Suhail',\n",
      " 'name': 'Azfar',\n",
      " 'occupation': 'Student',\n",
      " 'xyz': 123}\n",
      "Azfar\n",
      "Suhail\n",
      "Student\n",
      "[123]\n"
     ]
    }
   ],
   "source": [
    "from typing import Dict,Union\n",
    "import pprint\n",
    "\n",
    "Key = Union[str,int] # Creating Custom Data Type\n",
    "Value = Union[int,str,list,dict,tuple,set] # Creating Custom Data Type\n",
    "data : Dict[Key,Value] = {\"fname\":\"Suhail\",\n",
    "                        \"name\":\"Azfar\",\n",
    "                        \"occupation\":\"Student\",\n",
    "                        100:\"[123]\",\n",
    "                        \"abc\":{1,2,3},\n",
    "                        \"xyz\":(123),\n",
    "                        10:[1,2,3]\n",
    "}\n",
    "pprint.pprint(data)\n",
    "print(data[\"name\"])\n",
    "print(data[\"fname\"])\n",
    "print(data[\"occupation\"])\n",
    "print(data[100])"
   ]
  },
  {
   "cell_type": "code",
   "execution_count": 26,
   "metadata": {},
   "outputs": [
    {
     "name": "stdout",
     "output_type": "stream",
     "text": [
      "{'Name': 'Azfar'}\n",
      "{'Name': 'Namaloom Afrad'}\n"
     ]
    }
   ],
   "source": [
    "from typing import Dict\n",
    "data : dict[Key,Value] = {}\n",
    "data[\"Name\"] = \"Azfar\" # Add new keys and value\n",
    "print(data)\n",
    "data[\"Name\"]= \"Namaloom Afrad\" # Updating data\n",
    "print(data)"
   ]
  },
  {
   "cell_type": "markdown",
   "metadata": {},
   "source": [
    "Error Handling in keys using .get function"
   ]
  },
  {
   "cell_type": "code",
   "execution_count": 29,
   "metadata": {},
   "outputs": [
    {
     "data": {
      "text/plain": [
       "'Not Available'"
      ]
     },
     "execution_count": 29,
     "metadata": {},
     "output_type": "execute_result"
    }
   ],
   "source": [
    "from typing import Dict,Union\n",
    "import pprint\n",
    "\n",
    "Key = Union[str,int] # Creating Custom Data Type\n",
    "Value = Union[int,str,list,dict,tuple,set] # Creating Custom Data Type\n",
    "data : Dict[Key,Value] = {\"fname\":\"Suhail\",\n",
    "                        \"name\":\"Azfar\",\n",
    "                        \"occupation\":\"Student\",\n",
    "                        100:\"Pakistan\"}\n",
    "data.get('names','Not Available')"
   ]
  },
  {
   "cell_type": "markdown",
   "metadata": {},
   "source": [
    "# Showing Keys"
   ]
  },
  {
   "cell_type": "code",
   "execution_count": 31,
   "metadata": {},
   "outputs": [
    {
     "name": "stdout",
     "output_type": "stream",
     "text": [
      "fname\n",
      "name\n",
      "occupation\n",
      "100\n"
     ]
    }
   ],
   "source": [
    "from typing import Dict,Union\n",
    "\n",
    "Key = Union[str,int] # Creating Custom Data Type\n",
    "Value = Union[int,str,list,dict,tuple,set] # Creating Custom Data Type\n",
    "data : Dict[Key,Value] = {\"fname\":\"Suhail\",\n",
    "                        \"name\":\"Azfar\",\n",
    "                        \"occupation\":\"Student\",\n",
    "                        100:\"Pakistan\"}\n",
    "\n",
    "for d in data: \n",
    "    print(d)"
   ]
  },
  {
   "cell_type": "markdown",
   "metadata": {},
   "source": [
    "# another way to get keys"
   ]
  },
  {
   "cell_type": "code",
   "execution_count": 32,
   "metadata": {},
   "outputs": [
    {
     "name": "stdout",
     "output_type": "stream",
     "text": [
      "dict_keys(['fname', 'name', 'occupation', 100])\n"
     ]
    }
   ],
   "source": [
    "from typing import Dict,Union\n",
    "\n",
    "Key = Union[str,int] # Creating Custom Data Type\n",
    "Value = Union[int,str,list,dict,tuple,set] # Creating Custom Data Type\n",
    "data : Dict[Key,Value] = {\"fname\":\"Suhail\",\n",
    "                        \"name\":\"Azfar\",\n",
    "                        \"occupation\":\"Student\",\n",
    "                        100:\"Pakistan\"}\n",
    "print(data.keys()) "
   ]
  },
  {
   "cell_type": "markdown",
   "metadata": {},
   "source": [
    "# Gives Values"
   ]
  },
  {
   "cell_type": "code",
   "execution_count": 33,
   "metadata": {},
   "outputs": [
    {
     "name": "stdout",
     "output_type": "stream",
     "text": [
      "dict_values(['Suhail', 'Azfar', 'Student', 'Pakistan'])\n"
     ]
    }
   ],
   "source": [
    "from typing import Dict,Union\n",
    "\n",
    "Key = Union[str,int] # Creating Custom Data Type\n",
    "Value = Union[int,str,list,dict,tuple,set] # Creating Custom Data Type\n",
    "data : Dict[Key,Value] = {\"fname\":\"Suhail\",\n",
    "                        \"name\":\"Azfar\",\n",
    "                        \"occupation\":\"Student\",\n",
    "                        100:\"Pakistan\"}\n",
    "print(data.values()) "
   ]
  },
  {
   "cell_type": "markdown",
   "metadata": {},
   "source": [
    "# Shows full items"
   ]
  },
  {
   "cell_type": "code",
   "execution_count": 34,
   "metadata": {},
   "outputs": [
    {
     "name": "stdout",
     "output_type": "stream",
     "text": [
      "dict_items([('fname', 'Suhail'), ('name', 'Azfar'), ('occupation', 'Student'), (100, 'Pakistan')])\n"
     ]
    }
   ],
   "source": [
    "from typing import Dict,Union\n",
    "\n",
    "Key = Union[str,int] # Creating Custom Data Type\n",
    "Value = Union[int,str,list,dict,tuple,set] # Creating Custom Data Type\n",
    "data : Dict[Key,Value] = {\"fname\":\"Suhail\",\n",
    "                        \"name\":\"Azfar\",\n",
    "                        \"occupation\":\"Student\",\n",
    "                        100:\"Pakistan\"}\n",
    "print(data.items()) "
   ]
  },
  {
   "cell_type": "markdown",
   "metadata": {},
   "source": [
    "# Comprehensive style\n",
    "* Using loop to unzip dictionary"
   ]
  },
  {
   "cell_type": "code",
   "execution_count": 37,
   "metadata": {},
   "outputs": [
    {
     "name": "stdout",
     "output_type": "stream",
     "text": [
      "fname Suhail\n",
      "name Azfar\n",
      "occupation Student\n",
      "100 Pakistan\n"
     ]
    },
    {
     "data": {
      "text/plain": [
       "{'fname': 'Suhail', 'name': 'Azfar', 'occupation': 'Student', 100: 'Pakistan'}"
      ]
     },
     "execution_count": 37,
     "metadata": {},
     "output_type": "execute_result"
    }
   ],
   "source": [
    "from typing import Dict,Union\n",
    "\n",
    "Key = Union[str,int] # Creating Custom Data Type\n",
    "Value = Union[int,str,list,dict,tuple,set] # Creating Custom Data Type\n",
    "data : Dict[Key,Value] = {\"fname\":\"Suhail\",\n",
    "                        \"name\":\"Azfar\",\n",
    "                        \"occupation\":\"Student\",\n",
    "                        100:\"Pakistan\"}\n",
    "for k,v in data.items():\n",
    "    print(k,v)\n",
    "{k:v for k,v in data.items()}  # Inline unzip data"
   ]
  },
  {
   "cell_type": "markdown",
   "metadata": {},
   "source": [
    "# Shuffling in python"
   ]
  },
  {
   "cell_type": "code",
   "execution_count": 38,
   "metadata": {},
   "outputs": [
    {
     "name": "stdout",
     "output_type": "stream",
     "text": [
      "7 2\n"
     ]
    }
   ],
   "source": [
    "a : int = 2\n",
    "b : int = 7\n",
    "a,b = b,a\n",
    "print(a,b) "
   ]
  },
  {
   "cell_type": "markdown",
   "metadata": {},
   "source": [
    "# inline function"
   ]
  },
  {
   "cell_type": "code",
   "execution_count": 40,
   "metadata": {},
   "outputs": [
    {
     "name": "stdout",
     "output_type": "stream",
     "text": [
      "{}\n",
      "{'id': None, 'name': None, 'fname': None, 'course': None}\n"
     ]
    }
   ],
   "source": [
    "keys : list[str] = ['id','name','fname','course']\n",
    "data : dict[Key,Value] = {}\n",
    "print(data)\n",
    "data = data.fromkeys(keys) \n",
    "print(data)"
   ]
  },
  {
   "cell_type": "markdown",
   "metadata": {},
   "source": [
    "Only use hashable data types as Key (Constants)(Such as tuples and constants)"
   ]
  },
  {
   "cell_type": "markdown",
   "metadata": {},
   "source": [
    "```\n",
    "( ) = Tuple (Hashable)\n",
    "{ } = Set\n",
    "[ ] = Lists\n",
    "```"
   ]
  },
  {
   "cell_type": "markdown",
   "metadata": {},
   "source": [
    "Getting data from dictionary within dictionary (Nested Dictionary)"
   ]
  },
  {
   "cell_type": "code",
   "execution_count": 5,
   "metadata": {},
   "outputs": [
    {
     "name": "stdout",
     "output_type": "stream",
     "text": [
      "2\n"
     ]
    }
   ],
   "source": [
    "from typing import Dict,Union,Any,TypedDict\n",
    "\n",
    "data2 = TypedDict(\"Data2\",{\"a\":str,\"b\":str})\n",
    "\n",
    "\n",
    "Key = Union[str,int,tuple] # Creating Custom Data Type\n",
    "Value = Union[int,str,list,dict,tuple,set] # Creating Custom Data Type\n",
    "data : Dict[Key,Value] = {\"fname\":\"Suhail\",\n",
    "                        \"name\":\"Azfar\",\n",
    "                        \"occupation\":\"Student\",\n",
    "                        100:\"Pakistan\",\n",
    "                        (1,2,3):\"Hello\",\n",
    "                        'asd':{\"a\":1,\"b\":2}\n",
    "                        }\n",
    "print(data[\"asd\"][\"b\"])"
   ]
  }
 ],
 "metadata": {
  "kernelspec": {
   "display_name": "python12",
   "language": "python",
   "name": "python3"
  },
  "language_info": {
   "codemirror_mode": {
    "name": "ipython",
    "version": 3
   },
   "file_extension": ".py",
   "mimetype": "text/x-python",
   "name": "python",
   "nbconvert_exporter": "python",
   "pygments_lexer": "ipython3",
   "version": "3.12.0"
  }
 },
 "nbformat": 4,
 "nbformat_minor": 2
}
