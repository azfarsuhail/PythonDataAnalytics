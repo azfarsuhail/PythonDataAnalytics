{
 "cells": [
  {
   "cell_type": "markdown",
   "metadata": {},
   "source": [
    "Old way to store multiple data"
   ]
  },
  {
   "cell_type": "code",
   "execution_count": 38,
   "metadata": {},
   "outputs": [],
   "source": [
    "name1 : str = \"Azfar\"\n",
    "name2 : str = \"Huzaifa\"\n",
    "name3 : str = \"Ali\""
   ]
  },
  {
   "cell_type": "markdown",
   "metadata": {},
   "source": [
    "* Dynamic Length\n",
    "* Hetrogenous Data Types (Multiple Data Types)\n",
    "* Indexing\n",
    "    * Postive 0 to n-1\n",
    "    * Negative -1 to Length\n",
    "* Slicing\n",
    "    * variable `names[start:end:step]`\n",
    "        * start : int = include\n",
    "        * end : int = n-1\n",
    "        * step : int = sequence "
   ]
  },
  {
   "cell_type": "markdown",
   "metadata": {},
   "source": [
    "Old way to use lists"
   ]
  },
  {
   "cell_type": "code",
   "execution_count": 39,
   "metadata": {},
   "outputs": [
    {
     "name": "stdout",
     "output_type": "stream",
     "text": [
      "Azfar\n",
      "Azfar\n",
      "Huzaifa\n"
     ]
    }
   ],
   "source": [
    "# ->        0        1       2   Postive Indexing\n",
    "names = [\"Azfar\",\"Huzaifa\",\"Ali\"]\n",
    "# <-      -3       -2       -1   Negative Indexing\n",
    "print(names[0])\n",
    "print(names[-3])\n",
    "print(names[-2])"
   ]
  },
  {
   "cell_type": "markdown",
   "metadata": {},
   "source": [
    "New way to use list"
   ]
  },
  {
   "cell_type": "code",
   "execution_count": 40,
   "metadata": {},
   "outputs": [
    {
     "name": "stdout",
     "output_type": "stream",
     "text": [
      "Azfar\n",
      "Azfar\n",
      "Huzaifa\n",
      "Student 1: Azfar\n",
      "Student 2: Huzaifa\n",
      "Student 3: Ali\n"
     ]
    }
   ],
   "source": [
    "# Importing Data types \n",
    "from typing import List,Tuple,Any\n",
    "# ->                   0        1       2   Postive Indexing\n",
    "names : list[Any] = [\"Azfar\",\"Huzaifa\",\"Ali\"]\n",
    "# <-                  -3       -2       -1   Negative Indexing\n",
    "print(names[0])\n",
    "print(names[-3])\n",
    "print(names[-2])\n",
    "print(f'Student 1: {names[0]}')\n",
    "print(f'Student 2: {names[1]}')\n",
    "print(f'Student 3: {names[2]}')\n",
    "# print(names[start:end:sequence])"
   ]
  },
  {
   "cell_type": "markdown",
   "metadata": {},
   "source": [
    "Using list Function to iterate data"
   ]
  },
  {
   "cell_type": "code",
   "execution_count": 41,
   "metadata": {},
   "outputs": [
    {
     "name": "stdout",
     "output_type": "stream",
     "text": [
      "['A', 'B', 'C', 'D', 'E', 'F', 'G', 'H', 'I', 'J', 'K', 'L', 'M', 'N', 'O', 'P', 'Q', 'R', 'S', 'T', 'U', 'V', 'W', 'X', 'Y', 'Z']\n"
     ]
    }
   ],
   "source": [
    "characters : list[str] = list(\"ABCDEFGHIJKLMNOPQRSTUVWXYZ\")\n",
    "print(characters)"
   ]
  },
  {
   "cell_type": "markdown",
   "metadata": {},
   "source": [
    "Slicing"
   ]
  },
  {
   "cell_type": "code",
   "execution_count": 42,
   "metadata": {},
   "outputs": [
    {
     "name": "stdout",
     "output_type": "stream",
     "text": [
      "['A', 'B']\n",
      "['A', 'B']\n",
      "['A', 'B']\n",
      "['A', 'C', 'E']\n",
      "['G', 'F', 'E', 'D', 'C', 'B']\n",
      "['Z', 'Y', 'X', 'W']\n"
     ]
    }
   ],
   "source": [
    "characters : list[str] = ['A', 'B', 'C', 'D', 'E', 'F', 'G', 'H', 'I', 'J', 'K', 'L', 'M', 'N', 'O', 'P', 'Q', 'R', 'S', 'T', 'U', 'V', 'W', 'X', 'Y', 'Z']\n",
    "# Default slicing go from left to right\n",
    "print(characters[0:2]) # 0 = include : 2 - 1 = 1 (Index)\n",
    "print(characters[:2]) # Not pass any number = all (0)\n",
    "print(characters[-26:-24]) # Negative Indexing\n",
    "print(characters[0:6:2]) # Using steps \n",
    "print(characters[6:0:-1]) # Using reverse steps \n",
    "print(characters[-1:-5:-1]) # Using reverse steps \n",
    "\n",
    "\n"
   ]
  },
  {
   "cell_type": "markdown",
   "metadata": {},
   "source": [
    "List Methods"
   ]
  },
  {
   "cell_type": "code",
   "execution_count": 43,
   "metadata": {},
   "outputs": [
    {
     "name": "stdout",
     "output_type": "stream",
     "text": [
      "['Azfar', 'Huzaifa', 'Ali']\n"
     ]
    },
    {
     "data": {
      "text/plain": [
       "['Azfar', 'Ali']"
      ]
     },
     "execution_count": 43,
     "metadata": {},
     "output_type": "execute_result"
    }
   ],
   "source": [
    "# ->                   0        1       2   Postive Indexing\n",
    "names : list[Any] = [\"Azfar\",\"Huzaifa\",\"Ali\"]\n",
    "# <-                  -3       -2       -1   Negative Indexing\n",
    "print(names)\n",
    "del names[1] # Deleting 1 Index Element\n",
    "names"
   ]
  },
  {
   "cell_type": "markdown",
   "metadata": {},
   "source": [
    "None Returning Function"
   ]
  },
  {
   "cell_type": "code",
   "execution_count": 44,
   "metadata": {},
   "outputs": [
    {
     "name": "stdout",
     "output_type": "stream",
     "text": [
      "Azfar\n"
     ]
    },
    {
     "data": {
      "text/plain": [
       "None"
      ]
     },
     "metadata": {},
     "output_type": "display_data"
    }
   ],
   "source": [
    "a: str = print('Azfar') \n",
    "display(a)"
   ]
  },
  {
   "cell_type": "markdown",
   "metadata": {},
   "source": [
    "Returning Function"
   ]
  },
  {
   "cell_type": "code",
   "execution_count": 45,
   "metadata": {},
   "outputs": [
    {
     "data": {
      "text/plain": [
       "1331098368256"
      ]
     },
     "metadata": {},
     "output_type": "display_data"
    }
   ],
   "source": [
    "a: str = id('Azfar')\n",
    "display(a)"
   ]
  },
  {
   "cell_type": "markdown",
   "metadata": {},
   "source": [
    "Method for list"
   ]
  },
  {
   "cell_type": "code",
   "execution_count": 46,
   "metadata": {},
   "outputs": [
    {
     "data": {
      "text/plain": [
       "['append',\n",
       " 'clear',\n",
       " 'copy',\n",
       " 'count',\n",
       " 'extend',\n",
       " 'index',\n",
       " 'insert',\n",
       " 'pop',\n",
       " 'remove',\n",
       " 'reverse',\n",
       " 'sort']"
      ]
     },
     "execution_count": 46,
     "metadata": {},
     "output_type": "execute_result"
    }
   ],
   "source": [
    "[i for i in dir(list) if \"__\" not in i]"
   ]
  },
  {
   "cell_type": "markdown",
   "metadata": {},
   "source": [
    "# Help\n",
    "    * help(object)\n",
    "    * objext?\n",
    "    * object??\n",
    "    * ?object\n",
    "    * ??object"
   ]
  },
  {
   "cell_type": "markdown",
   "metadata": {},
   "source": [
    "Pop Method "
   ]
  },
  {
   "cell_type": "code",
   "execution_count": 49,
   "metadata": {},
   "outputs": [
    {
     "name": "stdout",
     "output_type": "stream",
     "text": [
      "['Azfar', 'Huzaifa', 'Ali']\n",
      "Azfar\n"
     ]
    },
    {
     "data": {
      "text/plain": [
       "['Huzaifa', 'Ali']"
      ]
     },
     "execution_count": 49,
     "metadata": {},
     "output_type": "execute_result"
    }
   ],
   "source": [
    "# ->                   0        1       2   Postive Indexing\n",
    "names : list[Any] = [\"Azfar\",\"Huzaifa\",\"Ali\"]\n",
    "# <-                  -3       -2       -1   Negative Indexing\n",
    "print(names)\n",
    "a : str = names.pop(0) # Add the index number to remove a specific element\n",
    "print(a)\n",
    "names"
   ]
  },
  {
   "cell_type": "markdown",
   "metadata": {},
   "source": [
    "Append Method adds the element to the last"
   ]
  },
  {
   "cell_type": "code",
   "execution_count": 1,
   "metadata": {},
   "outputs": [
    {
     "data": {
      "text/plain": [
       "['Azfar', 'Huzaifa', 'Ali']"
      ]
     },
     "metadata": {},
     "output_type": "display_data"
    },
    {
     "data": {
      "text/plain": [
       "['Azfar', 'Osman', 'Huzaifa', 'Ali']"
      ]
     },
     "metadata": {},
     "output_type": "display_data"
    }
   ],
   "source": [
    "names : list[str] = []\n",
    "names.append(\"Azfar\")\n",
    "names.append(\"Huzaifa\")\n",
    "names.append(\"Ali\")\n",
    "display(names)"
   ]
  },
  {
   "cell_type": "markdown",
   "metadata": {},
   "source": [
    "Insert Method to add element in specific index"
   ]
  },
  {
   "cell_type": "code",
   "execution_count": null,
   "metadata": {},
   "outputs": [],
   "source": [
    "names : list[str] = []\n",
    "names.append(\"Azfar\")\n",
    "names.append(\"Huzaifa\")\n",
    "names.append(\"Ali\")\n",
    "display(names)\n",
    "names.insert(1,\"Osman\")\n",
    "display(names)"
   ]
  },
  {
   "cell_type": "markdown",
   "metadata": {},
   "source": [
    "Clear Fucntion to empty a list without deleting the variable"
   ]
  },
  {
   "cell_type": "code",
   "execution_count": 4,
   "metadata": {},
   "outputs": [
    {
     "name": "stdout",
     "output_type": "stream",
     "text": [
      "[]\n"
     ]
    }
   ],
   "source": [
    "a : list[int] = [1,2,3,4,5,6,7,8,9]\n",
    "# del a (Can not use cause variable bhi delete horaha hai)\n",
    "a.clear()\n",
    "print(a)"
   ]
  },
  {
   "cell_type": "markdown",
   "metadata": {},
   "source": [
    "Shallow Copy"
   ]
  },
  {
   "cell_type": "code",
   "execution_count": 6,
   "metadata": {},
   "outputs": [
    {
     "name": "stdout",
     "output_type": "stream",
     "text": [
      "['Azfar', 'b', 'c']\n",
      "['Azfar', 'b', 'c']\n"
     ]
    }
   ],
   "source": [
    "a : list[str] = ['a','b','c']\n",
    "b = a\n",
    "b[0]=\"Azfar\"\n",
    "print(a)\n",
    "print(b)"
   ]
  },
  {
   "cell_type": "markdown",
   "metadata": {},
   "source": [
    "Deep Copy"
   ]
  },
  {
   "cell_type": "code",
   "execution_count": 11,
   "metadata": {},
   "outputs": [
    {
     "name": "stdout",
     "output_type": "stream",
     "text": [
      "['a', 'b', 'c']\n",
      "['d', 'b', 'c']\n"
     ]
    }
   ],
   "source": [
    "a : list[str] = ['a','b','c']\n",
    "b = a.copy()\n",
    "b[0] = \"d\"\n",
    "print(a)\n",
    "print(b)"
   ]
  },
  {
   "cell_type": "markdown",
   "metadata": {},
   "source": [
    "Count Function"
   ]
  },
  {
   "cell_type": "code",
   "execution_count": 15,
   "metadata": {},
   "outputs": [
    {
     "name": "stdout",
     "output_type": "stream",
     "text": [
      "3\n"
     ]
    }
   ],
   "source": [
    "a : list[str] = ['a','a','a','b','c']\n",
    "print(a.count('a'))"
   ]
  },
  {
   "cell_type": "markdown",
   "metadata": {},
   "source": [
    "Appends adds the list as an object itself"
   ]
  },
  {
   "cell_type": "code",
   "execution_count": 20,
   "metadata": {},
   "outputs": [
    {
     "name": "stdout",
     "output_type": "stream",
     "text": [
      "['Azfar', 'Huzaifa', 'Osman', 'Ali', 'Aneeq', ['Hassan', 'Azmeer']]\n"
     ]
    }
   ],
   "source": [
    "names : list[str] = ['Azfar','Huzaifa','Osman','Ali','Aneeq']\n",
    "new_names : list[str] = ['Hassan','Azmeer']\n",
    "names.append(new_names)\n",
    "print(names)"
   ]
  },
  {
   "cell_type": "markdown",
   "metadata": {},
   "source": [
    "Extend adds the objects of the list into the main list"
   ]
  },
  {
   "cell_type": "code",
   "execution_count": 19,
   "metadata": {},
   "outputs": [
    {
     "name": "stdout",
     "output_type": "stream",
     "text": [
      "['Azfar', 'Huzaifa', 'Osman', 'Ali', 'Aneeq', 'Hassan', 'Azmeer']\n"
     ]
    }
   ],
   "source": [
    "names : list[str] = ['Azfar','Huzaifa','Osman','Ali','Aneeq']\n",
    "new_names : list[str] = ['Hassan','Azmeer']\n",
    "names.extend(new_names)\n",
    "print(names)"
   ]
  },
  {
   "cell_type": "markdown",
   "metadata": {},
   "source": [
    "Remove Function only removes the first occurence"
   ]
  },
  {
   "cell_type": "code",
   "execution_count": 23,
   "metadata": {},
   "outputs": [
    {
     "data": {
      "text/plain": [
       "['Huzaifa', 'Ali', 'Azfar']"
      ]
     },
     "execution_count": 23,
     "metadata": {},
     "output_type": "execute_result"
    }
   ],
   "source": [
    "names : list[str] = [\"Azfar\",\"Huzaifa\",\"Ali\",\"Azfar\"]\n",
    "names.remove(\"Azfar\")\n",
    "names"
   ]
  },
  {
   "cell_type": "markdown",
   "metadata": {},
   "source": [
    "Index Function"
   ]
  },
  {
   "cell_type": "code",
   "execution_count": 29,
   "metadata": {},
   "outputs": [
    {
     "data": {
      "text/plain": [
       "3"
      ]
     },
     "execution_count": 29,
     "metadata": {},
     "output_type": "execute_result"
    }
   ],
   "source": [
    "names : list[str] = [\"Azfar\",\"Huzaifa\",\"Ali\",\"Azfar\"]\n",
    "names.index(\"Azfar\",1)\n"
   ]
  },
  {
   "cell_type": "markdown",
   "metadata": {},
   "source": [
    "Reverse Function changes the data in memory"
   ]
  },
  {
   "cell_type": "code",
   "execution_count": 32,
   "metadata": {},
   "outputs": [
    {
     "name": "stdout",
     "output_type": "stream",
     "text": [
      "['Azfar', 'Huzaifa', 'Ali']\n",
      "['Ali', 'Huzaifa', 'Azfar']\n"
     ]
    }
   ],
   "source": [
    "names : list[str] = [\"Azfar\",\"Huzaifa\",\"Ali\"]\n",
    "print(names)\n",
    "names.reverse()\n",
    "print(names)"
   ]
  },
  {
   "cell_type": "markdown",
   "metadata": {},
   "source": [
    "Sort Function alter in memory"
   ]
  },
  {
   "cell_type": "code",
   "execution_count": 36,
   "metadata": {},
   "outputs": [
    {
     "name": "stdout",
     "output_type": "stream",
     "text": [
      "['A', 'B', 'C', 'D', 'E', 'F']\n",
      "['F', 'E', 'D', 'C', 'B', 'A']\n",
      "['A', 'B', 'C', 'D', 'E', 'F']\n"
     ]
    }
   ],
   "source": [
    "names : list[str] = list(\"ABCDEF\")\n",
    "print(names)\n",
    "names.reverse()\n",
    "print(names)\n",
    "names.sort()\n",
    "print(names)\n"
   ]
  }
 ],
 "metadata": {
  "kernelspec": {
   "display_name": "python12",
   "language": "python",
   "name": "python3"
  },
  "language_info": {
   "codemirror_mode": {
    "name": "ipython",
    "version": 3
   },
   "file_extension": ".py",
   "mimetype": "text/x-python",
   "name": "python",
   "nbconvert_exporter": "python",
   "pygments_lexer": "ipython3",
   "version": "3.12.0"
  }
 },
 "nbformat": 4,
 "nbformat_minor": 2
}
