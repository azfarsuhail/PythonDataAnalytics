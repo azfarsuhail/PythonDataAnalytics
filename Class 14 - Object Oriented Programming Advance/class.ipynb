{
 "cells": [
  {
   "cell_type": "markdown",
   "metadata": {},
   "source": [
    "# Object Oriented Programming Advance"
   ]
  },
  {
   "cell_type": "markdown",
   "metadata": {},
   "source": [
    "Multiple Inheritance"
   ]
  },
  {
   "cell_type": "code",
   "execution_count": 9,
   "metadata": {},
   "outputs": [],
   "source": [
    "class Mother:\n",
    "    def __init__(self, name : str) -> None:\n",
    "        self.name : str = name\n",
    "        self.eye_color : str = \"Blue\"\n",
    "\n",
    "    def speaking(self, words : str) -> str:\n",
    "        return f\"Mother is speaking {words}\"\n",
    "\n",
    "class Father:\n",
    "    def __init__(self, name : str) -> None:\n",
    "        self.name : str = name\n",
    "        self.height : str = \"6 Feet\"\n",
    "\n",
    "class Child(Mother,Father):\n",
    "    def __init__(self, mname: str , fname : str , name : str) -> None:\n",
    "        Mother.__init__(self,mname)\n",
    "        Father.__init__(self,fname)\n",
    "        self.name : str = name\n",
    "        # super().__init__(name)\n",
    "\n",
    "azfar : Child = Child(\"Lubna\",\"Suhail\",\"Azfar\")"
   ]
  },
  {
   "cell_type": "code",
   "execution_count": 10,
   "metadata": {},
   "outputs": [
    {
     "data": {
      "text/plain": [
       "['eye_color', 'height', 'name', 'speaking']"
      ]
     },
     "execution_count": 10,
     "metadata": {},
     "output_type": "execute_result"
    }
   ],
   "source": [
    "[i for i in dir(azfar) if \"__\" not in i]"
   ]
  },
  {
   "cell_type": "code",
   "execution_count": 11,
   "metadata": {},
   "outputs": [
    {
     "name": "stdout",
     "output_type": "stream",
     "text": [
      "Object Height= 6 Feet\n",
      "Eye Color= Blue\n",
      "Mother is speaking Maaf kar bhai\n"
     ]
    }
   ],
   "source": [
    "print(f\"Object Height= {azfar.height}\")\n",
    "print(f\"Eye Color= {azfar.eye_color}\")\n",
    "print(azfar.speaking(\"Maaf kar bhai\"))"
   ]
  },
  {
   "cell_type": "markdown",
   "metadata": {},
   "source": [
    "## Overriding\n"
   ]
  },
  {
   "cell_type": "code",
   "execution_count": 12,
   "metadata": {},
   "outputs": [],
   "source": [
    "class Mother:\n",
    "    def __init__(self, name : str) -> None:\n",
    "        self.name : str = name\n",
    "        self.eye_color : str = \"Blue\"\n",
    "\n",
    "    def speaking(self, words : str) -> str:\n",
    "        return f\"Mother is speaking {words}\"\n",
    "\n",
    "class Father:\n",
    "    def __init__(self, name : str) -> None:\n",
    "        self.name : str = name\n",
    "        self.height : str = \"6 Feet\"\n",
    "\n",
    "    def speaking(self, words : str) -> str:\n",
    "        return f\"Father is speaking {words}\"\n",
    "\n",
    "#  First class inheirted will have the power of overriding\n",
    "class Child(Father,Mother):\n",
    "    def __init__(self, mname: str , fname : str , name : str) -> None:\n",
    "        Mother.__init__(self,mname)\n",
    "        Father.__init__(self,fname)\n",
    "        self.name : str = name\n",
    "        # super().__init__(name)\n",
    "\n",
    "azfar : Child = Child(\"Lubna\",\"Suhail\",\"Azfar\")"
   ]
  },
  {
   "cell_type": "code",
   "execution_count": 13,
   "metadata": {},
   "outputs": [
    {
     "name": "stdout",
     "output_type": "stream",
     "text": [
      "Object Height= 6 Feet\n",
      "Eye Color= Blue\n",
      "Father is speaking Maaf kar bhai\n"
     ]
    }
   ],
   "source": [
    "print(f\"Object Height= {azfar.height}\")\n",
    "print(f\"Eye Color= {azfar.eye_color}\")\n",
    "print(azfar.speaking(\"Maaf kar bhai\"))"
   ]
  },
  {
   "cell_type": "markdown",
   "metadata": {},
   "source": [
    "## Function Overloading\n"
   ]
  },
  {
   "cell_type": "code",
   "execution_count": 16,
   "metadata": {},
   "outputs": [
    {
     "name": "stdout",
     "output_type": "stream",
     "text": [
      "100\n"
     ]
    }
   ],
   "source": [
    "from typing import Union\n",
    "from typing import overload\n",
    "\n",
    "\n",
    "@overload\n",
    "def add ( x : int , y : int) -> int:\n",
    "        ...\n",
    "\n",
    "@overload\n",
    "def add ( x : float , y : float) -> float:\n",
    "        ...\n",
    "    \n",
    "@overload\n",
    "def add ( x : str , y : str) -> str:\n",
    "        ...\n",
    "\n",
    "def add(x : Union[int,float,str] , y : Union[int,float,str]) -> Union[int,float,str]:\n",
    "        if isinstance(x,int) and isinstance (y,int):\n",
    "                return x + y\n",
    "        elif isinstance(x,float) and isinstance (y,float):\n",
    "                return x + y\n",
    "        elif isinstance(x,str) and isinstance (y,str):\n",
    "                return x + y\n",
    "        \n",
    "print(add(50,50))"
   ]
  },
  {
   "cell_type": "markdown",
   "metadata": {},
   "source": [
    "Using Default Values to overload function"
   ]
  },
  {
   "cell_type": "code",
   "execution_count": null,
   "metadata": {},
   "outputs": [],
   "source": [
    "class Calculator:\n",
    "    def add(self, x, y=0, z=0):\n",
    "        return x + y + z\n",
    "\n",
    "calc = Calculator()\n",
    "\n",
    "result1 = calc.add(1)\n",
    "result2 = calc.add(1, 2)\n",
    "result3 = calc.add(1, 2, 3)\n",
    "\n",
    "print(result1)  # Output: 1\n",
    "print(result2)  # Output: 3\n",
    "print(result3)  # Output: 6\n"
   ]
  },
  {
   "cell_type": "markdown",
   "metadata": {},
   "source": [
    "Having Numorous Inputs"
   ]
  },
  {
   "cell_type": "code",
   "execution_count": 20,
   "metadata": {},
   "outputs": [
    {
     "name": "stdout",
     "output_type": "stream",
     "text": [
      "45\n"
     ]
    }
   ],
   "source": [
    "def my_sum(*nums : int) -> int:\n",
    "    total : int = 0 \n",
    "    for i in nums:\n",
    "        total += i\n",
    "    return total\n",
    "\n",
    "print(my_sum(1,2,3,4,23,2,2,4,4))"
   ]
  },
  {
   "cell_type": "markdown",
   "metadata": {},
   "source": [
    "## Method Overloading"
   ]
  },
  {
   "cell_type": "code",
   "execution_count": 27,
   "metadata": {},
   "outputs": [
    {
     "name": "stdout",
     "output_type": "stream",
     "text": [
      "Invalid Arugmets\n"
     ]
    }
   ],
   "source": [
    "from typing import Union , overload\n",
    "\n",
    "\n",
    "class Adder:\n",
    "    @overload\n",
    "    def add(self, x : int , y : int) -> int:\n",
    "        ...\n",
    "\n",
    "    @overload\n",
    "    def add(self, x : float , y : float) -> float:\n",
    "        ...\n",
    "\n",
    "    @overload\n",
    "    def add(self, x : str , y : str) -> str:\n",
    "        ...\n",
    "\n",
    "    def add(self , x : Union[int,float,str] , y : Union[int,float,str]) -> Union[int,float,str]:  # type: ignore\n",
    "        if isinstance(x,int) and isinstance (y,int):\n",
    "                return x + y\n",
    "        elif isinstance(x,float) and isinstance (y,float):\n",
    "                return x + y\n",
    "        elif isinstance(x,str) and isinstance (y,str):\n",
    "                return x + y\n",
    "        else:\n",
    "              print(\"Invalid Arugmets\")\n",
    "\n",
    "x : Adder = Adder()\n",
    "\n",
    "x.add(10,10)"
   ]
  },
  {
   "cell_type": "markdown",
   "metadata": {},
   "source": [
    "## Overriding"
   ]
  },
  {
   "cell_type": "code",
   "execution_count": 24,
   "metadata": {},
   "outputs": [
    {
     "name": "stdout",
     "output_type": "stream",
     "text": [
      "The bird is eating Dana\n",
      "The animal is eating Grass\n",
      "The bird is eating Grass\n"
     ]
    }
   ],
   "source": [
    "class Animal():\n",
    "    def eating(self, food : str) -> None:\n",
    "        print(f\"The animal is eating {food}\")\n",
    "\n",
    "class Bird(Animal):\n",
    "    def eating(self,food : str) -> None:\n",
    "        print(f\"The bird is eating {food}\")\n",
    "\n",
    "bird : Bird = Bird()\n",
    "bird.eating(\"Dana\")\n",
    "\n",
    "animal : Animal = Animal()\n",
    "animal.eating(\"Grass\")"
   ]
  },
  {
   "cell_type": "markdown",
   "metadata": {},
   "source": [
    "This shows relationship between class"
   ]
  },
  {
   "cell_type": "code",
   "execution_count": 4,
   "metadata": {},
   "outputs": [
    {
     "name": "stdout",
     "output_type": "stream",
     "text": [
      "The bird is eating Dana\n",
      "The animal is eating Grass\n"
     ]
    }
   ],
   "source": [
    "class Animal():\n",
    "    def eating(self, food : str) -> None:\n",
    "        print(f\"The animal is eating {food}\")\n",
    "\n",
    "class Bird(Animal):\n",
    "    def eating(self,food : str) -> None:\n",
    "        print(f\"The bird is eating {food}\")\n",
    "\n",
    "bird : Bird = Bird()\n",
    "bird.eating(\"Dana\")\n",
    "\n",
    "animal : Animal = Animal()\n",
    "animal.eating(\"Grass\")\n"
   ]
  },
  {
   "cell_type": "markdown",
   "metadata": {},
   "source": [
    "## Polymorphism"
   ]
  },
  {
   "cell_type": "markdown",
   "metadata": {},
   "source": [
    "Achieving Polymorphism using method overriding\n",
    "```\n",
    "It is decided on run-time which object method wil be run\n",
    "```"
   ]
  },
  {
   "cell_type": "code",
   "execution_count": 5,
   "metadata": {},
   "outputs": [
    {
     "name": "stdout",
     "output_type": "stream",
     "text": [
      "The bird is eating Grass\n"
     ]
    }
   ],
   "source": [
    "animal : Animal = Bird()\n",
    "animal.eating(\"Grass\")"
   ]
  },
  {
   "cell_type": "code",
   "execution_count": 6,
   "metadata": {},
   "outputs": [
    {
     "name": "stdout",
     "output_type": "stream",
     "text": [
      "The bird is eating Grass\n",
      "<class '__main__.Bird'>\n"
     ]
    }
   ],
   "source": [
    "animal : Animal = Bird()\n",
    "animal.eating(\"Grass\")\n",
    "print(type(animal))"
   ]
  },
  {
   "cell_type": "markdown",
   "metadata": {},
   "source": [
    "## Static Method and Attributes(Class Variable)"
   ]
  },
  {
   "cell_type": "code",
   "execution_count": 12,
   "metadata": {},
   "outputs": [
    {
     "name": "stdout",
     "output_type": "stream",
     "text": [
      "PIAIC 20 100\n"
     ]
    }
   ],
   "source": [
    "class MathOperations:\n",
    "    counter  : int = 100\n",
    "    organization : str = \"PIAIC\"\n",
    "    \n",
    "\n",
    "    @staticmethod\n",
    "    def add( x: int , y : int) -> int :\n",
    "        return x + y\n",
    "    \n",
    "    @staticmethod\n",
    "    def multiply( x : int , y : int) -> int :\n",
    "        return x * y\n",
    "\n",
    "# Using static methods\n",
    "\n",
    "result_add = MathOperations.add(10,10)\n",
    "result_mul = MathOperations.multiply(10,10)\n",
    "print(MathOperations.organization,result_add,result_mul)\n",
    "\n",
    "    "
   ]
  },
  {
   "cell_type": "markdown",
   "metadata": {},
   "source": [
    "# Everything in Python is an Object\n",
    "https://www.codingninjas.com/studio/library/how-everything-in-python-is-an-object"
   ]
  },
  {
   "cell_type": "code",
   "execution_count": 15,
   "metadata": {},
   "outputs": [
    {
     "name": "stdout",
     "output_type": "stream",
     "text": [
      "Human is eating Biryani\n"
     ]
    }
   ],
   "source": [
    "class Human():\n",
    "    def eating(self,food : str) -> None:\n",
    "        print(f\"Human is eating {food}\")\n",
    "obj1 : Human = Human()\n",
    "obj1.eating(\"Biryani\")"
   ]
  },
  {
   "cell_type": "code",
   "execution_count": 16,
   "metadata": {},
   "outputs": [
    {
     "data": {
      "text/plain": [
       "['__class__',\n",
       " '__delattr__',\n",
       " '__dict__',\n",
       " '__dir__',\n",
       " '__doc__',\n",
       " '__eq__',\n",
       " '__format__',\n",
       " '__ge__',\n",
       " '__getattribute__',\n",
       " '__getstate__',\n",
       " '__gt__',\n",
       " '__hash__',\n",
       " '__init__',\n",
       " '__init_subclass__',\n",
       " '__le__',\n",
       " '__lt__',\n",
       " '__module__',\n",
       " '__ne__',\n",
       " '__new__',\n",
       " '__reduce__',\n",
       " '__reduce_ex__',\n",
       " '__repr__',\n",
       " '__setattr__',\n",
       " '__sizeof__',\n",
       " '__str__',\n",
       " '__subclasshook__',\n",
       " '__weakref__',\n",
       " 'eating']"
      ]
     },
     "execution_count": 16,
     "metadata": {},
     "output_type": "execute_result"
    }
   ],
   "source": [
    "dir(obj1)"
   ]
  },
  {
   "cell_type": "code",
   "execution_count": 17,
   "metadata": {},
   "outputs": [
    {
     "data": {
      "text/plain": [
       "['__class__',\n",
       " '__delattr__',\n",
       " '__dir__',\n",
       " '__doc__',\n",
       " '__eq__',\n",
       " '__format__',\n",
       " '__ge__',\n",
       " '__getattribute__',\n",
       " '__getstate__',\n",
       " '__gt__',\n",
       " '__hash__',\n",
       " '__init__',\n",
       " '__init_subclass__',\n",
       " '__le__',\n",
       " '__lt__',\n",
       " '__ne__',\n",
       " '__new__',\n",
       " '__reduce__',\n",
       " '__reduce_ex__',\n",
       " '__repr__',\n",
       " '__setattr__',\n",
       " '__sizeof__',\n",
       " '__str__',\n",
       " '__subclasshook__']"
      ]
     },
     "execution_count": 17,
     "metadata": {},
     "output_type": "execute_result"
    }
   ],
   "source": [
    "dir(object)"
   ]
  },
  {
   "cell_type": "code",
   "execution_count": 19,
   "metadata": {},
   "outputs": [
    {
     "name": "stdout",
     "output_type": "stream",
     "text": [
      "Human is eating Nihari \n"
     ]
    }
   ],
   "source": [
    "class Human(object):\n",
    "    def eating (self , food : str) -> None:\n",
    "        print( f\"Human is eating {food} \")\n",
    "\n",
    "obj2 : Human = Human()\n",
    "obj2.eating(\"Nihari\")"
   ]
  },
  {
   "cell_type": "markdown",
   "metadata": {},
   "source": [
    "## Callable"
   ]
  },
  {
   "cell_type": "markdown",
   "metadata": {},
   "source": [
    "https://realpython.com/python-callable-instances/"
   ]
  },
  {
   "cell_type": "code",
   "execution_count": 28,
   "metadata": {},
   "outputs": [
    {
     "name": "stdout",
     "output_type": "stream",
     "text": [
      "Human is eating Biryani \n",
      "Human is eating Pizza \n"
     ]
    },
    {
     "data": {
      "text/plain": [
       "<__main__.Human1 at 0x1faa87edeb0>"
      ]
     },
     "execution_count": 28,
     "metadata": {},
     "output_type": "execute_result"
    }
   ],
   "source": [
    "from typing import Any\n",
    "\n",
    "\n",
    "class Human1(object):\n",
    "    def eating (self , food : str) -> None:\n",
    "        print( f\"Human is eating {food} \")\n",
    "    \n",
    "    def __call__(self) -> None:\n",
    "        self.eating(\"Pizza\")\n",
    "        \n",
    "obj3 : Human1 = Human1()\n",
    "\n",
    "obj3.eating(\"Biryani\")\n",
    "obj3.__call__()\n",
    "\n",
    "Human1()\n"
   ]
  }
 ],
 "metadata": {
  "kernelspec": {
   "display_name": "python12",
   "language": "python",
   "name": "python3"
  },
  "language_info": {
   "codemirror_mode": {
    "name": "ipython",
    "version": 3
   },
   "file_extension": ".py",
   "mimetype": "text/x-python",
   "name": "python",
   "nbconvert_exporter": "python",
   "pygments_lexer": "ipython3",
   "version": "3.12.0"
  }
 },
 "nbformat": 4,
 "nbformat_minor": 2
}
