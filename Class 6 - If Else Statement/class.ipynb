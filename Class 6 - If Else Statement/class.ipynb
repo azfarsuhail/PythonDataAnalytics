{
 "cells": [
  {
   "cell_type": "markdown",
   "metadata": {},
   "source": [
    "# If Else Elif\n",
    "\n",
    "``` \n",
    "Only runs one block \n",
    "if logic : \n",
    "    True_block\n",
    "else:\n",
    "    False_block\n",
    "```\n",
    "\n",
    " ## Comprehensive Style\n",
    "```\n",
    "True_block if logic else False_block\n",
    "```\n",
    "* if\n",
    "* if-else\n",
    "* if-elif-else"
   ]
  },
  {
   "cell_type": "code",
   "execution_count": 8,
   "metadata": {},
   "outputs": [
    {
     "name": "stdout",
     "output_type": "stream",
     "text": [
      "True araha hai\n"
     ]
    }
   ],
   "source": [
    "if True:\n",
    "    print(\"True araha hai\")\n",
    "else:\n",
    "    print(\"False araha hai\")"
   ]
  },
  {
   "cell_type": "code",
   "execution_count": 9,
   "metadata": {},
   "outputs": [
    {
     "name": "stdout",
     "output_type": "stream",
     "text": [
      "True araha hai\n"
     ]
    }
   ],
   "source": [
    "#           True_block      Logic               False_block\n",
    "print(\"True araha hai\") if True else print(\"False araha hai\")"
   ]
  },
  {
   "cell_type": "code",
   "execution_count": 10,
   "metadata": {},
   "outputs": [
    {
     "name": "stdout",
     "output_type": "stream",
     "text": [
      "False araha hai\n"
     ]
    }
   ],
   "source": [
    "#           True_block      Logic               False_block\n",
    "print(\"True araha hai\") if False else print(\"False araha hai\")\n"
   ]
  },
  {
   "cell_type": "markdown",
   "metadata": {},
   "source": [
    "# Comparision Operator\n",
    "    * ==\n",
    "    * <=\n",
    "    * >=\n",
    "    * !=\n",
    "## Logic\n",
    "    * and\n",
    "    * or\n",
    "    * mot\n"
   ]
  },
  {
   "cell_type": "code",
   "execution_count": 11,
   "metadata": {},
   "outputs": [
    {
     "name": "stdout",
     "output_type": "stream",
     "text": [
      "True\n"
     ]
    }
   ],
   "source": [
    "if True:\n",
    "    print(\"True\")\n",
    "elif False:\n",
    "    print(\"Elif1\")\n",
    "elif False:\n",
    "    print(\"Elif2\")\n",
    "else:\n",
    "    print(\"Else\")"
   ]
  },
  {
   "cell_type": "code",
   "execution_count": 12,
   "metadata": {},
   "outputs": [
    {
     "name": "stdout",
     "output_type": "stream",
     "text": [
      "Elif1\n"
     ]
    }
   ],
   "source": [
    "if False:\n",
    "    print(\"True\")\n",
    "elif True:\n",
    "    print(\"Elif1\")\n",
    "elif False:\n",
    "    print(\"Elif2\")\n",
    "else:\n",
    "    print(\"Else\")\n"
   ]
  },
  {
   "cell_type": "code",
   "execution_count": 13,
   "metadata": {},
   "outputs": [
    {
     "name": "stdout",
     "output_type": "stream",
     "text": [
      "Elif2\n"
     ]
    }
   ],
   "source": [
    "if False:\n",
    "    print(\"True\")\n",
    "elif False:\n",
    "    print(\"Elif1\")\n",
    "elif True:\n",
    "    print(\"Elif2\")\n",
    "else:\n",
    "    print(\"Else\")"
   ]
  },
  {
   "cell_type": "code",
   "execution_count": 14,
   "metadata": {},
   "outputs": [
    {
     "name": "stdout",
     "output_type": "stream",
     "text": [
      "Elif1\n"
     ]
    }
   ],
   "source": [
    "if False:\n",
    "    print(\"True\")\n",
    "elif True:\n",
    "    print(\"Elif1\")\n",
    "elif True:\n",
    "    print(\"Elif2\")\n",
    "else:\n",
    "    print(\"Else\")"
   ]
  },
  {
   "cell_type": "markdown",
   "metadata": {},
   "source": [
    "Grading Rule"
   ]
  },
  {
   "cell_type": "code",
   "execution_count": null,
   "metadata": {},
   "outputs": [],
   "source": [
    "from typing import Union\n",
    "grade : Union[int,float] = 242"
   ]
  },
  {
   "cell_type": "code",
   "execution_count": 17,
   "metadata": {},
   "outputs": [
    {
     "name": "stdout",
     "output_type": "stream",
     "text": [
      "<class 'float'>\n"
     ]
    }
   ],
   "source": [
    "percent : float or int = 88.0\n",
    "# percent = 65\n",
    "print(type(percent))\n"
   ]
  },
  {
   "cell_type": "markdown",
   "metadata": {},
   "source": [
    "```\n",
    "Optional defaults to None\n",
    "Union is basically 'or'\n",
    "```"
   ]
  },
  {
   "cell_type": "code",
   "execution_count": 24,
   "metadata": {},
   "outputs": [
    {
     "name": "stdout",
     "output_type": "stream",
     "text": [
      "Dear student your percentage is 55.5 and your calculated grade is C\n"
     ]
    }
   ],
   "source": [
    "from typing import Union,Optional\n",
    "grade : Optional[str] = None\n",
    "percent :  Union[int,float] = float(input(\"Enter Your Percentage:\\t\")) \n",
    "if percent >= 80:\n",
    "    grade=\"A+\"\n",
    "elif percent>= 70:\n",
    "    grade=\"A\"\n",
    "elif percent>= 60:\n",
    "    grade=\"B\"\n",
    "elif percent>= 50:\n",
    "    grade=\"C\"\n",
    "elif percent>= 40:\n",
    "    grade=\"D\"\n",
    "elif percent>= 30:\n",
    "    grade=\"E\"\n",
    "else:\n",
    "    grade=\"Fail\"\n",
    "print(f\"Dear student your percentage is {percent} and your calculated grade is {grade}\")"
   ]
  },
  {
   "cell_type": "markdown",
   "metadata": {},
   "source": [
    "Custom Data Type"
   ]
  },
  {
   "cell_type": "code",
   "execution_count": 49,
   "metadata": {},
   "outputs": [
    {
     "name": "stdout",
     "output_type": "stream",
     "text": [
      "Dear student your percentage is 12 and your calculated grade is Fail\n",
      "Dear student your percentage is 56 and your calculated grade is C\n",
      "Dear student your percentage is 45 and your calculated grade is D\n",
      "Dear student your percentage is 99 and your calculated grade is A+\n",
      "Dear student your percentage is 90 and your calculated grade is A+\n",
      "Dear student your percentage is 85 and your calculated grade is A+\n",
      "Dear student your percentage is 65 and your calculated grade is B\n",
      "Dear student your percentage is 63 and your calculated grade is B\n",
      "Dear student your percentage is 45 and your calculated grade is D\n",
      "[(0, 12, 'Fail'), (1, 56, 'C'), (2, 45, 'D'), (3, 99, 'A+'), (4, 90, 'A+'), (5, 85, 'A+'), (6, 65, 'B'), (7, 63, 'B'), (8, 45, 'D')]\n"
     ]
    }
   ],
   "source": [
    "from typing import Union,Optional\n",
    "PerType = Union[float,int]\n",
    "percentage : list[float] = [12,56,45,99,90,85,65,63,45]\n",
    "record : list \n",
    "grade : Optional[str] = None\n",
    "grades : list[str] = []\n",
    "roll : int = range(len(percentage))\n",
    "\n",
    "for percent in percentage:\n",
    "    \n",
    "    if percent >= 80:\n",
    "        grade=\"A+\"\n",
    "    elif percent>= 70:\n",
    "        grade=\"A\"\n",
    "    elif percent>= 60:\n",
    "        grade=\"B\"\n",
    "    elif percent>= 50:\n",
    "        grade=\"C\"\n",
    "    elif percent>= 40:\n",
    "        grade=\"D\"\n",
    "    elif percent>= 30:\n",
    "        grade=\"E\"\n",
    "    else:\n",
    "        grade=\"Fail\"\n",
    "\n",
    "      \n",
    "    grades.append(grade)\n",
    "    print(f\"Dear student your percentage is {percent} and your calculated grade is {grade}\")\n",
    "\n",
    "record = list(zip(roll,percentage,grades))\n",
    "print(record)"
   ]
  },
  {
   "cell_type": "code",
   "execution_count": 53,
   "metadata": {},
   "outputs": [
    {
     "data": {
      "text/plain": [
       "[(3, 99, 'A+'),\n",
       " (4, 90, 'A+'),\n",
       " (5, 85, 'A+'),\n",
       " (6, 65, 'B'),\n",
       " (7, 63, 'B'),\n",
       " (1, 56, 'C'),\n",
       " (2, 45, 'D'),\n",
       " (8, 45, 'D'),\n",
       " (0, 12, 'Fail')]"
      ]
     },
     "execution_count": 53,
     "metadata": {},
     "output_type": "execute_result"
    }
   ],
   "source": [
    "from typing import Union,Optional\n",
    "PerType = Union[float,int]\n",
    "percentage : list[float] = [12,56,45,99,90,85,65,63,45]\n",
    "record : list \n",
    "grade : Optional[str] = None\n",
    "grades : list[str] = []\n",
    "roll : int = range(len(percentage))\n",
    "\n",
    "for percent in percentage:\n",
    "    \n",
    "    if percent >= 80:\n",
    "        grade=\"A+\"\n",
    "    elif percent>= 70:\n",
    "        grade=\"A\"\n",
    "    elif percent>= 60:\n",
    "        grade=\"B\"\n",
    "    elif percent>= 50:\n",
    "        grade=\"C\"\n",
    "    elif percent>= 40:\n",
    "        grade=\"D\"\n",
    "    elif percent>= 30:\n",
    "        grade=\"E\"\n",
    "    else:\n",
    "        grade=\"Fail\"\n",
    "\n",
    "      \n",
    "    grades.append(grade)\n",
    "    # print(f\"Dear student your percentage is {percent} and your calculated grade is {grade}\")\n",
    "\n",
    "record = list(zip(roll,percentage,grades))\n",
    "sorted(record,key=lambda x:x[1],reverse=True)"
   ]
  },
  {
   "cell_type": "code",
   "execution_count": 55,
   "metadata": {},
   "outputs": [
    {
     "name": "stdout",
     "output_type": "stream",
     "text": [
      "You are old enough to vote!\n",
      "Have you registered to vote yet?\n"
     ]
    }
   ],
   "source": [
    "age = 50\n",
    "if age >= 18:\n",
    " print(\"You are old enough to vote!\")\n",
    " print(\"Have you registered to vote yet?\")\n",
    "else:\n",
    " print(\"Sorry, you are too young to vote.\")\n",
    " print(\"Please register to vote as soon as you turn 18!\")"
   ]
  },
  {
   "cell_type": "code",
   "execution_count": 57,
   "metadata": {},
   "outputs": [
    {
     "name": "stdout",
     "output_type": "stream",
     "text": [
      "Adding mushrooms.\n",
      "Adding extra cheese.\n"
     ]
    }
   ],
   "source": [
    "requested_toppings = ['mushrooms', 'extra cheese']\n",
    "if 'mushrooms' in requested_toppings:\n",
    " print(\"Adding mushrooms.\")\n",
    "if 'pepperoni' in requested_toppings:\n",
    " print(\"Adding pepperoni.\")\n",
    "if 'extra cheese' in requested_toppings:\n",
    " print(\"Adding extra cheese.\")"
   ]
  }
 ],
 "metadata": {
  "kernelspec": {
   "display_name": "python12",
   "language": "python",
   "name": "python3"
  },
  "language_info": {
   "codemirror_mode": {
    "name": "ipython",
    "version": 3
   },
   "file_extension": ".py",
   "mimetype": "text/x-python",
   "name": "python",
   "nbconvert_exporter": "python",
   "pygments_lexer": "ipython3",
   "version": "3.12.0"
  }
 },
 "nbformat": 4,
 "nbformat_minor": 2
}
