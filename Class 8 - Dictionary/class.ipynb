{
 "cells": [
  {
   "cell_type": "code",
   "execution_count": 1,
   "metadata": {},
   "outputs": [
    {
     "name": "stdout",
     "output_type": "stream",
     "text": [
      "['clear', 'copy', 'fromkeys', 'get', 'items', 'keys', 'pop', 'popitem', 'setdefault', 'update', 'values']\n"
     ]
    }
   ],
   "source": [
    "from typing import Dict\n",
    "method : list[str] = ([i for i in dir(dict) if \"__\" not in i])\n",
    "print(method)"
   ]
  },
  {
   "cell_type": "markdown",
   "metadata": {},
   "source": [
    "```\n",
    "Clear = epmties the data but the variable stay\n",
    "copy = shallow copy\n",
    "pop = removing and saving the removed given argument \n",
    "popitem = removes last item from the dictionary\n",
    "setdefault = adds the key if not found in dictionary and can also add a default value to the key\n",
    "get = helps in error handling if the given key isnt in the dictionary\n",
    "\n",
    "```"
   ]
  },
  {
   "cell_type": "markdown",
   "metadata": {},
   "source": [
    "Usage of Update function"
   ]
  },
  {
   "cell_type": "code",
   "execution_count": 2,
   "metadata": {},
   "outputs": [
    {
     "name": "stdout",
     "output_type": "stream",
     "text": [
      "{'fname': 'Suhail', 'name': 'Azfar Suhail', 'occupation': 'Student', 100: 'Pakistan', 'Uni': 'IOBM'}\n"
     ]
    }
   ],
   "source": [
    "from typing import Dict,Union\n",
    "import pprint\n",
    "Key = Union[str,int] # Creating Custom Data Type\n",
    "Value = Union[int,str,list,dict,tuple,set] # Creating Custom Data Type\n",
    "data : Dict[Key,Value] = {\"fname\":\"Suhail\",\n",
    "                        \"name\":\"Azfar\",\n",
    "                        \"occupation\":\"Student\",\n",
    "                        100:\"Pakistan\",\n",
    "}\n",
    "d1 : Dict[Key,Value]= {\"name\":\"Azfar Suhail\",\n",
    "                       \"Uni\":\"IOBM\"\n",
    "                       }\n",
    "data.update(d1)\n",
    "print(data)"
   ]
  },
  {
   "cell_type": "code",
   "execution_count": 7,
   "metadata": {},
   "outputs": [
    {
     "data": {
      "text/html": [
       "<div>\n",
       "<style scoped>\n",
       "    .dataframe tbody tr th:only-of-type {\n",
       "        vertical-align: middle;\n",
       "    }\n",
       "\n",
       "    .dataframe tbody tr th {\n",
       "        vertical-align: top;\n",
       "    }\n",
       "\n",
       "    .dataframe thead th {\n",
       "        text-align: right;\n",
       "    }\n",
       "</style>\n",
       "<table border=\"1\" class=\"dataframe\">\n",
       "  <thead>\n",
       "    <tr style=\"text-align: right;\">\n",
       "      <th></th>\n",
       "      <th>RollNo</th>\n",
       "      <th>Name</th>\n",
       "      <th>Education</th>\n",
       "    </tr>\n",
       "  </thead>\n",
       "  <tbody>\n",
       "    <tr>\n",
       "      <th>0</th>\n",
       "      <td>1</td>\n",
       "      <td>Azfar</td>\n",
       "      <td>BSCS</td>\n",
       "    </tr>\n",
       "    <tr>\n",
       "      <th>1</th>\n",
       "      <td>2</td>\n",
       "      <td>Huzi</td>\n",
       "      <td>BS Media Science</td>\n",
       "    </tr>\n",
       "    <tr>\n",
       "      <th>2</th>\n",
       "      <td>3</td>\n",
       "      <td>Imaz</td>\n",
       "      <td>ACCA</td>\n",
       "    </tr>\n",
       "  </tbody>\n",
       "</table>\n",
       "</div>"
      ],
      "text/plain": [
       "   RollNo   Name         Education\n",
       "0       1  Azfar              BSCS\n",
       "1       2   Huzi  BS Media Science\n",
       "2       3   Imaz              ACCA"
      ]
     },
     "execution_count": 7,
     "metadata": {},
     "output_type": "execute_result"
    }
   ],
   "source": [
    "import pandas as pd\n",
    "from typing import Any\n",
    "\n",
    "student_data : Dict[str,list[any]] = {\n",
    "    \"RollNo\" : [1,2,3],\n",
    "    \"Name\": [\"Azfar\",\"Huzi\",\"Imaz\"],\n",
    "    \"Education\" : [\"BSCS\",\"BS Media Science\",\"ACCA\"]\n",
    "} \n",
    "\n",
    "df : pd.DataFrame = pd.DataFrame(student_data)\n",
    "df"
   ]
  },
  {
   "cell_type": "markdown",
   "metadata": {},
   "source": [
    "Book example"
   ]
  },
  {
   "cell_type": "code",
   "execution_count": 6,
   "metadata": {},
   "outputs": [
    {
     "name": "stdout",
     "output_type": "stream",
     "text": [
      "Original position: 0\n",
      "New position: 2\n"
     ]
    }
   ],
   "source": [
    "alien_0 = {'x_position': 0, 'y_position': 25, 'speed': 'medium'}\n",
    "print(f\"Original position: {alien_0['x_position']}\")\n",
    "# Move the alien to the right.\n",
    "# Determine how far to move the alien based on its current speed.\n",
    "if alien_0['speed'] == 'slow':\n",
    "    x_increment = 1\n",
    "elif alien_0['speed'] == 'medium':\n",
    "    x_increment = 2\n",
    "else:\n",
    " # This must be a fast alien.\n",
    "    x_increment = 3\n",
    "# The new position is the old position plus the increment.\n",
    "alien_0['x_position'] = alien_0['x_position'] + x_increment\n",
    "print(f\"New position: {alien_0['x_position']}\")"
   ]
  },
  {
   "cell_type": "markdown",
   "metadata": {},
   "source": [
    "Can search in substring as well with 'in'"
   ]
  },
  {
   "cell_type": "code",
   "execution_count": 8,
   "metadata": {},
   "outputs": [
    {
     "data": {
      "text/plain": [
       "True"
      ]
     },
     "execution_count": 8,
     "metadata": {},
     "output_type": "execute_result"
    }
   ],
   "source": [
    "\"Azfar\" in \"\"\"My Name is Azfar\"\"\""
   ]
  },
  {
   "cell_type": "code",
   "execution_count": 9,
   "metadata": {},
   "outputs": [
    {
     "name": "stdout",
     "output_type": "stream",
     "text": [
      "{'color': 'green', 'points': 5}\n",
      "{'color': 'yellow', 'points': 10}\n",
      "{'color': 'red', 'points': 15}\n"
     ]
    }
   ],
   "source": [
    "alien_0 : Dict[Key,Value]  = {'color': 'green', 'points': 5}\n",
    "alien_1 : Dict[Key,Value]   = {'color': 'yellow', 'points': 10}\n",
    "alien_2 : Dict[Key,Value]   = {'color': 'red', 'points': 15}\n",
    "\n",
    "aliens : list[Dict[Key,Value]] = [alien_0, alien_1, alien_2]\n",
    "for alien in aliens:\n",
    " print(alien)"
   ]
  },
  {
   "cell_type": "code",
   "execution_count": 13,
   "metadata": {},
   "outputs": [
    {
     "name": "stdout",
     "output_type": "stream",
     "text": [
      "{'color': 'red', 'points': 15}\n"
     ]
    }
   ],
   "source": [
    "# Make an empty list for storing aliens.\n",
    "aliens = []\n",
    "# Make 30 green aliens.\n",
    "for alien_number in range(30):\n",
    "    new_alien = {'color': 'green', 'points': 5, 'speed': 'slow'}\n",
    "    aliens.append(new_alien)\n",
    "pprint.pprint(alien)"
   ]
  },
  {
   "cell_type": "markdown",
   "metadata": {},
   "source": [
    "Making json file with dictionary"
   ]
  },
  {
   "cell_type": "code",
   "execution_count": 14,
   "metadata": {},
   "outputs": [
    {
     "name": "stdout",
     "output_type": "stream",
     "text": [
      "<class 'dict'>\n"
     ]
    }
   ],
   "source": [
    "from typing import Dict,Union\n",
    "import pprint\n",
    "Key = Union[str,int] # Creating Custom Data Type\n",
    "Value = Union[int,str,list,dict,tuple,set] # Creating Custom Data Type\n",
    "data : Dict[Key,Value] = {\"fname\":\"Suhail\",\n",
    "                        \"name\":\"Azfar\",\n",
    "                        \"occupation\":\"Student\",\n",
    "                        100:\"Pakistan\",}\n",
    "\n",
    "print(type(data))"
   ]
  },
  {
   "cell_type": "code",
   "execution_count": 20,
   "metadata": {},
   "outputs": [
    {
     "name": "stdout",
     "output_type": "stream",
     "text": [
      "{\n",
      "  \"fname\": \"Suhail\",\n",
      "  \"name\": \"Azfar\",\n",
      "  \"occupation\": \"Student\",\n",
      "  \"100\": \"Pakistan\"\n",
      "}\n",
      "<class 'str'>\n"
     ]
    }
   ],
   "source": [
    "import json\n",
    "data1 = json.dumps(data,indent=2)\n",
    "print(data1)\n",
    "print(type(data1))"
   ]
  },
  {
   "cell_type": "code",
   "execution_count": 23,
   "metadata": {},
   "outputs": [
    {
     "name": "stdout",
     "output_type": "stream",
     "text": [
      "['JSONDecodeError',\n",
      " 'JSONDecoder',\n",
      " 'JSONEncoder',\n",
      " '_default_decoder',\n",
      " '_default_encoder',\n",
      " 'codecs',\n",
      " 'decoder',\n",
      " 'detect_encoding',\n",
      " 'dump',\n",
      " 'dumps',\n",
      " 'encoder',\n",
      " 'load',\n",
      " 'loads',\n",
      " 'scanner']\n"
     ]
    }
   ],
   "source": [
    "method : json = ([i for i in dir(json) if \"__\" not in i])\n",
    "\n",
    "pprint.pprint(method)"
   ]
  }
 ],
 "metadata": {
  "kernelspec": {
   "display_name": "python12",
   "language": "python",
   "name": "python3"
  },
  "language_info": {
   "codemirror_mode": {
    "name": "ipython",
    "version": 3
   },
   "file_extension": ".py",
   "mimetype": "text/x-python",
   "name": "python",
   "nbconvert_exporter": "python",
   "pygments_lexer": "ipython3",
   "version": "3.12.0"
  }
 },
 "nbformat": 4,
 "nbformat_minor": 2
}
