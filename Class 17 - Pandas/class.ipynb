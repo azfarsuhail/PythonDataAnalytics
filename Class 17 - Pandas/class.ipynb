{
 "cells": [
  {
   "cell_type": "markdown",
   "metadata": {},
   "source": [
    "# Pandas"
   ]
  },
  {
   "cell_type": "markdown",
   "metadata": {},
   "source": [
    "```\n",
    "In Excel    (Sheets)  (Coloums) (Row) (Column/Row Name) \n",
    "in Pandas (DataFrame) (Series)  (Row) (Column/Row Index)\n",
    "```"
   ]
  },
  {
   "cell_type": "markdown",
   "metadata": {},
   "source": [
    "## Pandas Core Components\n",
    "* DataFrame types\n",
    "* Series types"
   ]
  },
  {
   "cell_type": "code",
   "execution_count": 31,
   "metadata": {},
   "outputs": [],
   "source": [
    "import pandas as pd\n",
    "import pandera as pa\n",
    "import numpy as np\n",
    "import nptyping"
   ]
  },
  {
   "cell_type": "markdown",
   "metadata": {},
   "source": [
    "## Series Basics"
   ]
  },
  {
   "cell_type": "markdown",
   "metadata": {},
   "source": [
    "List we can use for creating series"
   ]
  },
  {
   "cell_type": "code",
   "execution_count": 15,
   "metadata": {},
   "outputs": [
    {
     "ename": "TypeError",
     "evalue": "type 'Series' is not subscriptable",
     "output_type": "error",
     "traceback": [
      "\u001b[1;31m---------------------------------------------------------------------------\u001b[0m",
      "\u001b[1;31mTypeError\u001b[0m                                 Traceback (most recent call last)",
      "\u001b[1;32mc:\\Users\\azfar\\OneDrive\\Desktop\\Python\\Class 17 - Pandas\\class.ipynb Cell 5\u001b[0m line \u001b[0;36m1\n\u001b[1;32m----> <a href='vscode-notebook-cell:/c%3A/Users/azfar/OneDrive/Desktop/Python/Class%2017%20-%20Pandas/class.ipynb#W5sZmlsZQ%3D%3D?line=0'>1</a>\u001b[0m s1 :pd\u001b[39m.\u001b[39;49mSeries[\u001b[39mint\u001b[39;49m] \u001b[39m=\u001b[39m pd\u001b[39m.\u001b[39mSeries([\u001b[39m1\u001b[39m,\u001b[39m2\u001b[39m,\u001b[39m3\u001b[39m,\u001b[39m4\u001b[39m,\u001b[39m5\u001b[39m]) \u001b[39m# Pandas do not support static type\u001b[39;00m\n\u001b[0;32m      <a href='vscode-notebook-cell:/c%3A/Users/azfar/OneDrive/Desktop/Python/Class%2017%20-%20Pandas/class.ipynb#W5sZmlsZQ%3D%3D?line=1'>2</a>\u001b[0m s1\n",
      "\u001b[1;31mTypeError\u001b[0m: type 'Series' is not subscriptable"
     ]
    }
   ],
   "source": [
    "s1 :pd.Series[int] = pd.Series([1,2,3,4,5]) # Pandas do not support static type\n",
    "s1"
   ]
  },
  {
   "cell_type": "code",
   "execution_count": 14,
   "metadata": {},
   "outputs": [
    {
     "data": {
      "text/plain": [
       "[1, 2, 3, 4, 5]"
      ]
     },
     "execution_count": 14,
     "metadata": {},
     "output_type": "execute_result"
    }
   ],
   "source": [
    "l1 : list[int] = [1,2,3,4,5]\n",
    "l1"
   ]
  },
  {
   "cell_type": "code",
   "execution_count": 10,
   "metadata": {},
   "outputs": [
    {
     "data": {
      "text/plain": [
       "0    1\n",
       "1    2\n",
       "2    3\n",
       "3    4\n",
       "4    5\n",
       "dtype: int64"
      ]
     },
     "execution_count": 10,
     "metadata": {},
     "output_type": "execute_result"
    }
   ],
   "source": [
    "s1 :pd.Series = pd.Series([1,2,3,4,5]) # List\n",
    "s1"
   ]
  },
  {
   "cell_type": "code",
   "execution_count": 12,
   "metadata": {},
   "outputs": [
    {
     "data": {
      "text/plain": [
       "0    1\n",
       "1    2\n",
       "2    3\n",
       "3    4\n",
       "4    5\n",
       "dtype: int64"
      ]
     },
     "execution_count": 12,
     "metadata": {},
     "output_type": "execute_result"
    }
   ],
   "source": [
    "s1 :pd.Series = pd.Series((1,2,3,4,5)) # Tuple\n",
    "s1"
   ]
  },
  {
   "cell_type": "code",
   "execution_count": 16,
   "metadata": {},
   "outputs": [
    {
     "ename": "TypeError",
     "evalue": "'set' type is unordered",
     "output_type": "error",
     "traceback": [
      "\u001b[1;31m---------------------------------------------------------------------------\u001b[0m",
      "\u001b[1;31mTypeError\u001b[0m                                 Traceback (most recent call last)",
      "\u001b[1;32mc:\\Users\\azfar\\OneDrive\\Desktop\\Python\\Class 17 - Pandas\\class.ipynb Cell 9\u001b[0m line \u001b[0;36m1\n\u001b[1;32m----> <a href='vscode-notebook-cell:/c%3A/Users/azfar/OneDrive/Desktop/Python/Class%2017%20-%20Pandas/class.ipynb#X13sZmlsZQ%3D%3D?line=0'>1</a>\u001b[0m s1 :pd\u001b[39m.\u001b[39mSeries \u001b[39m=\u001b[39m pd\u001b[39m.\u001b[39;49mSeries({\u001b[39m1\u001b[39;49m,\u001b[39m2\u001b[39;49m,\u001b[39m3\u001b[39;49m,\u001b[39m4\u001b[39;49m,\u001b[39m5\u001b[39;49m}) \u001b[39m# \u001b[39;00m\n\u001b[0;32m      <a href='vscode-notebook-cell:/c%3A/Users/azfar/OneDrive/Desktop/Python/Class%2017%20-%20Pandas/class.ipynb#X13sZmlsZQ%3D%3D?line=1'>2</a>\u001b[0m s1\n",
      "File \u001b[1;32mc:\\Users\\azfar\\anaconda3\\envs\\python12\\Lib\\site-packages\\pandas\\core\\series.py:512\u001b[0m, in \u001b[0;36mSeries.__init__\u001b[1;34m(self, data, index, dtype, name, copy, fastpath)\u001b[0m\n\u001b[0;32m    510\u001b[0m         data \u001b[39m=\u001b[39m data\u001b[39m.\u001b[39mcopy()\n\u001b[0;32m    511\u001b[0m \u001b[39melse\u001b[39;00m:\n\u001b[1;32m--> 512\u001b[0m     data \u001b[39m=\u001b[39m sanitize_array(data, index, dtype, copy)\n\u001b[0;32m    514\u001b[0m     manager \u001b[39m=\u001b[39m get_option(\u001b[39m\"\u001b[39m\u001b[39mmode.data_manager\u001b[39m\u001b[39m\"\u001b[39m)\n\u001b[0;32m    515\u001b[0m     \u001b[39mif\u001b[39;00m manager \u001b[39m==\u001b[39m \u001b[39m\"\u001b[39m\u001b[39mblock\u001b[39m\u001b[39m\"\u001b[39m:\n",
      "File \u001b[1;32mc:\\Users\\azfar\\anaconda3\\envs\\python12\\Lib\\site-packages\\pandas\\core\\construction.py:619\u001b[0m, in \u001b[0;36msanitize_array\u001b[1;34m(data, index, dtype, copy, allow_2d)\u001b[0m\n\u001b[0;32m    610\u001b[0m     \u001b[39mreturn\u001b[39;00m sanitize_array(\n\u001b[0;32m    611\u001b[0m         data,\n\u001b[0;32m    612\u001b[0m         index\u001b[39m=\u001b[39mindex,\n\u001b[1;32m   (...)\u001b[0m\n\u001b[0;32m    615\u001b[0m         allow_2d\u001b[39m=\u001b[39mallow_2d,\n\u001b[0;32m    616\u001b[0m     )\n\u001b[0;32m    618\u001b[0m \u001b[39melse\u001b[39;00m:\n\u001b[1;32m--> 619\u001b[0m     _sanitize_non_ordered(data)\n\u001b[0;32m    620\u001b[0m     \u001b[39m# materialize e.g. generators, convert e.g. tuples, abc.ValueView\u001b[39;00m\n\u001b[0;32m    621\u001b[0m     data \u001b[39m=\u001b[39m \u001b[39mlist\u001b[39m(data)\n",
      "File \u001b[1;32mc:\\Users\\azfar\\anaconda3\\envs\\python12\\Lib\\site-packages\\pandas\\core\\construction.py:670\u001b[0m, in \u001b[0;36m_sanitize_non_ordered\u001b[1;34m(data)\u001b[0m\n\u001b[0;32m    666\u001b[0m \u001b[39m\u001b[39m\u001b[39m\"\"\"\u001b[39;00m\n\u001b[0;32m    667\u001b[0m \u001b[39mRaise only for unordered sets, e.g., not for dict_keys\u001b[39;00m\n\u001b[0;32m    668\u001b[0m \u001b[39m\"\"\"\u001b[39;00m\n\u001b[0;32m    669\u001b[0m \u001b[39mif\u001b[39;00m \u001b[39misinstance\u001b[39m(data, (\u001b[39mset\u001b[39m, \u001b[39mfrozenset\u001b[39m)):\n\u001b[1;32m--> 670\u001b[0m     \u001b[39mraise\u001b[39;00m \u001b[39mTypeError\u001b[39;00m(\u001b[39mf\u001b[39m\u001b[39m\"\u001b[39m\u001b[39m'\u001b[39m\u001b[39m{\u001b[39;00m\u001b[39mtype\u001b[39m(data)\u001b[39m.\u001b[39m\u001b[39m__name__\u001b[39m\u001b[39m}\u001b[39;00m\u001b[39m'\u001b[39m\u001b[39m type is unordered\u001b[39m\u001b[39m\"\u001b[39m)\n",
      "\u001b[1;31mTypeError\u001b[0m: 'set' type is unordered"
     ]
    }
   ],
   "source": [
    "s1 :pd.Series = pd.Series({1,2,3,4,5}) # Set is not supported\n",
    "s1"
   ]
  },
  {
   "cell_type": "code",
   "execution_count": 17,
   "metadata": {},
   "outputs": [
    {
     "data": {
      "text/plain": [
       "a    10\n",
       "b    20\n",
       "c    30\n",
       "d    40\n",
       "e    50\n",
       "dtype: int64"
      ]
     },
     "execution_count": 17,
     "metadata": {},
     "output_type": "execute_result"
    }
   ],
   "source": [
    "s1 :pd.Series = pd.Series({\"a\":10,\n",
    "                           \"b\":20,\n",
    "                           \"c\":30,\n",
    "                           \"d\":40,\n",
    "                           \"e\":50}) # Dictionary\n",
    "s1"
   ]
  },
  {
   "cell_type": "code",
   "execution_count": 19,
   "metadata": {},
   "outputs": [
    {
     "data": {
      "text/plain": [
       "a    1\n",
       "b    2\n",
       "c    3\n",
       "d    4\n",
       "e    5\n",
       "dtype: int64"
      ]
     },
     "execution_count": 19,
     "metadata": {},
     "output_type": "execute_result"
    }
   ],
   "source": [
    "values : list[int] = [1,2,3,4,5]\n",
    "index1 : list[str] = ['a','b','c','d','e']\n",
    "\n",
    "s1 : pd.Series = pd.Series(values, index=index1)\n",
    "s1"
   ]
  },
  {
   "cell_type": "markdown",
   "metadata": {},
   "source": [
    "## List of list in Pandas Series"
   ]
  },
  {
   "cell_type": "code",
   "execution_count": 20,
   "metadata": {},
   "outputs": [
    {
     "data": {
      "text/plain": [
       "a1  a    1\n",
       "    b    2\n",
       "    c    3\n",
       "b1  d    4\n",
       "    e    5\n",
       "dtype: int64"
      ]
     },
     "execution_count": 20,
     "metadata": {},
     "output_type": "execute_result"
    }
   ],
   "source": [
    "values : list[int] = [1,2,3,4,5]\n",
    "index1 : list[list[str]] = [['a1','a1','a1','b1','b1'],['a','b','c','d','e']]\n",
    "\n",
    "\n",
    "s1 : pd.Series = pd.Series(values, index=index1)\n",
    "s1"
   ]
  },
  {
   "cell_type": "code",
   "execution_count": 24,
   "metadata": {},
   "outputs": [
    {
     "data": {
      "text/plain": [
       "a1  a    1\n",
       "    b    2\n",
       "    c    3\n",
       "b1  d    4\n",
       "    e    5\n",
       "Name: Student_Data, dtype: int64"
      ]
     },
     "execution_count": 24,
     "metadata": {},
     "output_type": "execute_result"
    }
   ],
   "source": [
    "values : list[int] = [1,2,3,4,5]\n",
    "index1 : list[list[str]] = [['a1','a1','a1','b1','b1'],['a','b','c','d','e']]\n",
    "\n",
    "\n",
    "s1 : pd.Series = pd.Series(values, index=index1 , name=\"Student_Data\")\n",
    "s1"
   ]
  },
  {
   "cell_type": "code",
   "execution_count": 30,
   "metadata": {},
   "outputs": [
    {
     "data": {
      "text/plain": [
       "a1  a    1\n",
       "    b    2\n",
       "    c    3\n",
       "b1  d    4\n",
       "    e    5\n",
       "Name: Student_Data, dtype: int32"
      ]
     },
     "execution_count": 30,
     "metadata": {},
     "output_type": "execute_result"
    }
   ],
   "source": [
    "values : list[int] = [1,2,3,4,5]\n",
    "index1 : list[list[str]] = [['a1','a1','a1','b1','b1'],['a','b','c','d','e']]\n",
    "\n",
    "\n",
    "s1 : pd.Series = pd.Series(values,\n",
    "                           index=index1 ,\n",
    "                           name=\"Student_Data\",\n",
    "                           dtype=np.int32)\n",
    "s1"
   ]
  },
  {
   "cell_type": "code",
   "execution_count": 59,
   "metadata": {},
   "outputs": [
    {
     "name": "stdout",
     "output_type": "stream",
     "text": [
      "   column1  column2  column3\n",
      "0        1     -1.3  value_1\n",
      "1        4     -1.4  value_2\n",
      "2        0     -2.9  value_3\n",
      "3       10    -10.1  value_2\n",
      "4        9    -20.4  value_1\n"
     ]
    }
   ],
   "source": [
    "import pandas as pd\n",
    "import pandera as pa\n",
    "\n",
    "# data to validate\n",
    "df = pd.DataFrame({\n",
    "    \"column1\": [1, 4, 0, 10, 9],\n",
    "    \"column2\": [-1.3, -1.4, -2.9, -10.1, -20.4],\n",
    "    \"column3\": [\"value_1\", \"value_2\", \"value_3\", \"value_2\", \"value_1\"],\n",
    "})\n",
    "\n",
    "# define schema\n",
    "schema = pa.DataFrameSchema({\n",
    "    \"column1\": pa.Column(int, checks=pa.Check.le(10)),\n",
    "    \"column2\": pa.Column(float, checks=pa.Check.lt(-1.2)),\n",
    "    \"column3\": pa.Column(str, checks=[\n",
    "        pa.Check.str_startswith(\"value_\"),\n",
    "        # define custom checks as functions that take a series as input and\n",
    "        # outputs a boolean or boolean Series\n",
    "        pa.Check(lambda s: s.str.split(\"_\", expand=True).shape[1] == 2)\n",
    "    ]),\n",
    "})\n",
    "\n",
    "validated_df = schema(df)\n",
    "print(validated_df)"
   ]
  },
  {
   "cell_type": "markdown",
   "metadata": {},
   "source": [
    "## DataFrame"
   ]
  },
  {
   "cell_type": "code",
   "execution_count": 42,
   "metadata": {},
   "outputs": [
    {
     "data": {
      "text/html": [
       "<div>\n",
       "<style scoped>\n",
       "    .dataframe tbody tr th:only-of-type {\n",
       "        vertical-align: middle;\n",
       "    }\n",
       "\n",
       "    .dataframe tbody tr th {\n",
       "        vertical-align: top;\n",
       "    }\n",
       "\n",
       "    .dataframe thead th {\n",
       "        text-align: right;\n",
       "    }\n",
       "</style>\n",
       "<table border=\"1\" class=\"dataframe\">\n",
       "  <thead>\n",
       "    <tr style=\"text-align: right;\">\n",
       "      <th></th>\n",
       "      <th>0</th>\n",
       "      <th>1</th>\n",
       "      <th>2</th>\n",
       "      <th>3</th>\n",
       "      <th>4</th>\n",
       "    </tr>\n",
       "  </thead>\n",
       "  <tbody>\n",
       "    <tr>\n",
       "      <th>Student ID</th>\n",
       "      <td>1</td>\n",
       "      <td>2</td>\n",
       "      <td>3</td>\n",
       "      <td>4</td>\n",
       "      <td>5</td>\n",
       "    </tr>\n",
       "    <tr>\n",
       "      <th>Student Score</th>\n",
       "      <td>10</td>\n",
       "      <td>20</td>\n",
       "      <td>30</td>\n",
       "      <td>40</td>\n",
       "      <td>50</td>\n",
       "    </tr>\n",
       "    <tr>\n",
       "      <th>Student Name</th>\n",
       "      <td>Azfar</td>\n",
       "      <td>Huzzi</td>\n",
       "      <td>Imaz</td>\n",
       "      <td>Osman</td>\n",
       "      <td>Ali</td>\n",
       "    </tr>\n",
       "  </tbody>\n",
       "</table>\n",
       "</div>"
      ],
      "text/plain": [
       "                   0      1     2      3    4\n",
       "Student ID         1      2     3      4    5\n",
       "Student Score     10     20    30     40   50\n",
       "Student Name   Azfar  Huzzi  Imaz  Osman  Ali"
      ]
     },
     "execution_count": 42,
     "metadata": {},
     "output_type": "execute_result"
    }
   ],
   "source": [
    "s1 : pd.Series = pd.Series([1,2,3,4,5],name = \"Student ID\")\n",
    "s2 : pd.Series = pd.Series([10,20,30,40,50], name = \"Student Score\")\n",
    "s3 : pd.Series = pd.Series([\"Azfar\",\"Huzzi\",\"Imaz\",\"Osman\",\"Ali\"],name = \"Student Name\")\n",
    "\n",
    "df1 : pd.DataFrame = pd.DataFrame((s1,s2,s3))\n",
    "df1"
   ]
  },
  {
   "cell_type": "code",
   "execution_count": 40,
   "metadata": {},
   "outputs": [
    {
     "data": {
      "text/html": [
       "<div>\n",
       "<style scoped>\n",
       "    .dataframe tbody tr th:only-of-type {\n",
       "        vertical-align: middle;\n",
       "    }\n",
       "\n",
       "    .dataframe tbody tr th {\n",
       "        vertical-align: top;\n",
       "    }\n",
       "\n",
       "    .dataframe thead th {\n",
       "        text-align: right;\n",
       "    }\n",
       "</style>\n",
       "<table border=\"1\" class=\"dataframe\">\n",
       "  <thead>\n",
       "    <tr style=\"text-align: right;\">\n",
       "      <th></th>\n",
       "      <th>Student ID</th>\n",
       "      <th>Student Score</th>\n",
       "      <th>Student Name</th>\n",
       "    </tr>\n",
       "  </thead>\n",
       "  <tbody>\n",
       "    <tr>\n",
       "      <th>0</th>\n",
       "      <td>1</td>\n",
       "      <td>10</td>\n",
       "      <td>Azfar</td>\n",
       "    </tr>\n",
       "    <tr>\n",
       "      <th>1</th>\n",
       "      <td>2</td>\n",
       "      <td>20</td>\n",
       "      <td>Huzzi</td>\n",
       "    </tr>\n",
       "    <tr>\n",
       "      <th>2</th>\n",
       "      <td>3</td>\n",
       "      <td>30</td>\n",
       "      <td>Imaz</td>\n",
       "    </tr>\n",
       "    <tr>\n",
       "      <th>3</th>\n",
       "      <td>4</td>\n",
       "      <td>40</td>\n",
       "      <td>Osman</td>\n",
       "    </tr>\n",
       "    <tr>\n",
       "      <th>4</th>\n",
       "      <td>5</td>\n",
       "      <td>50</td>\n",
       "      <td>Ali</td>\n",
       "    </tr>\n",
       "  </tbody>\n",
       "</table>\n",
       "</div>"
      ],
      "text/plain": [
       "   Student ID  Student Score Student Name\n",
       "0           1             10        Azfar\n",
       "1           2             20        Huzzi\n",
       "2           3             30         Imaz\n",
       "3           4             40        Osman\n",
       "4           5             50          Ali"
      ]
     },
     "execution_count": 40,
     "metadata": {},
     "output_type": "execute_result"
    }
   ],
   "source": [
    "s1 : pd.Series = pd.Series([1,2,3,4,5],name = \"Student ID\")\n",
    "s2 : pd.Series = pd.Series([10,20,30,40,50], name = \"Student Score\")\n",
    "s3 : pd.Series = pd.Series([\"Azfar\",\"Huzzi\",\"Imaz\",\"Osman\",\"Ali\"],name = \"Student Name\")\n",
    "\n",
    "df1 : pd.DataFrame = pd.concat([s1, s2, s3], axis =1)\n",
    "df1"
   ]
  },
  {
   "cell_type": "code",
   "execution_count": 43,
   "metadata": {},
   "outputs": [
    {
     "data": {
      "text/html": [
       "<div>\n",
       "<style scoped>\n",
       "    .dataframe tbody tr th:only-of-type {\n",
       "        vertical-align: middle;\n",
       "    }\n",
       "\n",
       "    .dataframe tbody tr th {\n",
       "        vertical-align: top;\n",
       "    }\n",
       "\n",
       "    .dataframe thead th {\n",
       "        text-align: right;\n",
       "    }\n",
       "</style>\n",
       "<table border=\"1\" class=\"dataframe\">\n",
       "  <thead>\n",
       "    <tr style=\"text-align: right;\">\n",
       "      <th></th>\n",
       "      <th>ID</th>\n",
       "      <th>Score</th>\n",
       "      <th>Name</th>\n",
       "    </tr>\n",
       "  </thead>\n",
       "  <tbody>\n",
       "    <tr>\n",
       "      <th>0</th>\n",
       "      <td>1</td>\n",
       "      <td>10</td>\n",
       "      <td>Azfar</td>\n",
       "    </tr>\n",
       "    <tr>\n",
       "      <th>1</th>\n",
       "      <td>2</td>\n",
       "      <td>20</td>\n",
       "      <td>Huzzi</td>\n",
       "    </tr>\n",
       "    <tr>\n",
       "      <th>2</th>\n",
       "      <td>3</td>\n",
       "      <td>30</td>\n",
       "      <td>Imaz</td>\n",
       "    </tr>\n",
       "    <tr>\n",
       "      <th>3</th>\n",
       "      <td>4</td>\n",
       "      <td>40</td>\n",
       "      <td>Osman</td>\n",
       "    </tr>\n",
       "    <tr>\n",
       "      <th>4</th>\n",
       "      <td>5</td>\n",
       "      <td>50</td>\n",
       "      <td>Ali</td>\n",
       "    </tr>\n",
       "  </tbody>\n",
       "</table>\n",
       "</div>"
      ],
      "text/plain": [
       "   ID  Score   Name\n",
       "0   1     10  Azfar\n",
       "1   2     20  Huzzi\n",
       "2   3     30   Imaz\n",
       "3   4     40  Osman\n",
       "4   5     50    Ali"
      ]
     },
     "execution_count": 43,
     "metadata": {},
     "output_type": "execute_result"
    }
   ],
   "source": [
    "s1 : pd.Series = pd.Series([1,2,3,4,5])\n",
    "s2 : pd.Series = pd.Series([10,20,30,40,50])\n",
    "s3 : pd.Series = pd.Series([\"Azfar\",\"Huzzi\",\"Imaz\",\"Osman\",\"Ali\"])\n",
    "\n",
    "df1 : pd.DataFrame = pd.DataFrame({\"ID\":s1,\"Score\":s2,\"Name\":s3})\n",
    "df1"
   ]
  },
  {
   "cell_type": "code",
   "execution_count": 45,
   "metadata": {},
   "outputs": [
    {
     "data": {
      "text/html": [
       "<div>\n",
       "<style scoped>\n",
       "    .dataframe tbody tr th:only-of-type {\n",
       "        vertical-align: middle;\n",
       "    }\n",
       "\n",
       "    .dataframe tbody tr th {\n",
       "        vertical-align: top;\n",
       "    }\n",
       "\n",
       "    .dataframe thead th {\n",
       "        text-align: right;\n",
       "    }\n",
       "</style>\n",
       "<table border=\"1\" class=\"dataframe\">\n",
       "  <thead>\n",
       "    <tr style=\"text-align: right;\">\n",
       "      <th></th>\n",
       "      <th>A</th>\n",
       "      <th>B</th>\n",
       "      <th>C</th>\n",
       "    </tr>\n",
       "  </thead>\n",
       "  <tbody>\n",
       "    <tr>\n",
       "      <th>X</th>\n",
       "      <td>1</td>\n",
       "      <td>2</td>\n",
       "      <td>3</td>\n",
       "    </tr>\n",
       "    <tr>\n",
       "      <th>Y</th>\n",
       "      <td>4</td>\n",
       "      <td>5</td>\n",
       "      <td>6</td>\n",
       "    </tr>\n",
       "    <tr>\n",
       "      <th>Z</th>\n",
       "      <td>7</td>\n",
       "      <td>8</td>\n",
       "      <td>9</td>\n",
       "    </tr>\n",
       "  </tbody>\n",
       "</table>\n",
       "</div>"
      ],
      "text/plain": [
       "   A  B  C\n",
       "X  1  2  3\n",
       "Y  4  5  6\n",
       "Z  7  8  9"
      ]
     },
     "execution_count": 45,
     "metadata": {},
     "output_type": "execute_result"
    }
   ],
   "source": [
    "data : list[list[int]] = [[1,2,3],\n",
    "                          [4,5,6],\n",
    "                          [7,8,9]]\n",
    "\n",
    "# key = name\n",
    "# value = iterable\n",
    "# length should be same as of other series\n",
    "df : pd.DataFrame = pd.DataFrame(data,columns=[\"A\",\"B\",\"C\"],index=['X','Y','Z'])\n",
    "\n",
    "df"
   ]
  },
  {
   "cell_type": "code",
   "execution_count": 47,
   "metadata": {},
   "outputs": [
    {
     "data": {
      "text/plain": [
       "array([[ 0,  1,  2,  3,  4,  5,  6,  7,  8,  9],\n",
       "       [10, 11, 12, 13, 14, 15, 16, 17, 18, 19],\n",
       "       [20, 21, 22, 23, 24, 25, 26, 27, 28, 29],\n",
       "       [30, 31, 32, 33, 34, 35, 36, 37, 38, 39],\n",
       "       [40, 41, 42, 43, 44, 45, 46, 47, 48, 49],\n",
       "       [50, 51, 52, 53, 54, 55, 56, 57, 58, 59],\n",
       "       [60, 61, 62, 63, 64, 65, 66, 67, 68, 69],\n",
       "       [70, 71, 72, 73, 74, 75, 76, 77, 78, 79],\n",
       "       [80, 81, 82, 83, 84, 85, 86, 87, 88, 89],\n",
       "       [90, 91, 92, 93, 94, 95, 96, 97, 98, 99]])"
      ]
     },
     "execution_count": 47,
     "metadata": {},
     "output_type": "execute_result"
    }
   ],
   "source": [
    "from nptyping import Int64, NDArray, Shape\n",
    "\n",
    "\n",
    "data : NDArray[Shape[\"Size,Size\"] , Int64] = np.arange(10*10).reshape(10,10)\n",
    "\n",
    "data"
   ]
  },
  {
   "cell_type": "code",
   "execution_count": 53,
   "metadata": {},
   "outputs": [
    {
     "data": {
      "text/html": [
       "<div>\n",
       "<style scoped>\n",
       "    .dataframe tbody tr th:only-of-type {\n",
       "        vertical-align: middle;\n",
       "    }\n",
       "\n",
       "    .dataframe tbody tr th {\n",
       "        vertical-align: top;\n",
       "    }\n",
       "\n",
       "    .dataframe thead th {\n",
       "        text-align: right;\n",
       "    }\n",
       "</style>\n",
       "<table border=\"1\" class=\"dataframe\">\n",
       "  <thead>\n",
       "    <tr style=\"text-align: right;\">\n",
       "      <th></th>\n",
       "      <th>A</th>\n",
       "      <th>B</th>\n",
       "      <th>C</th>\n",
       "      <th>D</th>\n",
       "      <th>E</th>\n",
       "      <th>F</th>\n",
       "      <th>G</th>\n",
       "      <th>H</th>\n",
       "      <th>I</th>\n",
       "      <th>J</th>\n",
       "    </tr>\n",
       "  </thead>\n",
       "  <tbody>\n",
       "    <tr>\n",
       "      <th>a</th>\n",
       "      <td>0</td>\n",
       "      <td>1</td>\n",
       "      <td>2</td>\n",
       "      <td>3</td>\n",
       "      <td>4</td>\n",
       "      <td>5</td>\n",
       "      <td>6</td>\n",
       "      <td>7</td>\n",
       "      <td>8</td>\n",
       "      <td>9</td>\n",
       "    </tr>\n",
       "    <tr>\n",
       "      <th>b</th>\n",
       "      <td>10</td>\n",
       "      <td>11</td>\n",
       "      <td>12</td>\n",
       "      <td>13</td>\n",
       "      <td>14</td>\n",
       "      <td>15</td>\n",
       "      <td>16</td>\n",
       "      <td>17</td>\n",
       "      <td>18</td>\n",
       "      <td>19</td>\n",
       "    </tr>\n",
       "    <tr>\n",
       "      <th>c</th>\n",
       "      <td>20</td>\n",
       "      <td>21</td>\n",
       "      <td>22</td>\n",
       "      <td>23</td>\n",
       "      <td>24</td>\n",
       "      <td>25</td>\n",
       "      <td>26</td>\n",
       "      <td>27</td>\n",
       "      <td>28</td>\n",
       "      <td>29</td>\n",
       "    </tr>\n",
       "    <tr>\n",
       "      <th>d</th>\n",
       "      <td>30</td>\n",
       "      <td>31</td>\n",
       "      <td>32</td>\n",
       "      <td>33</td>\n",
       "      <td>34</td>\n",
       "      <td>35</td>\n",
       "      <td>36</td>\n",
       "      <td>37</td>\n",
       "      <td>38</td>\n",
       "      <td>39</td>\n",
       "    </tr>\n",
       "    <tr>\n",
       "      <th>e</th>\n",
       "      <td>40</td>\n",
       "      <td>41</td>\n",
       "      <td>42</td>\n",
       "      <td>43</td>\n",
       "      <td>44</td>\n",
       "      <td>45</td>\n",
       "      <td>46</td>\n",
       "      <td>47</td>\n",
       "      <td>48</td>\n",
       "      <td>49</td>\n",
       "    </tr>\n",
       "    <tr>\n",
       "      <th>f</th>\n",
       "      <td>50</td>\n",
       "      <td>51</td>\n",
       "      <td>52</td>\n",
       "      <td>53</td>\n",
       "      <td>54</td>\n",
       "      <td>55</td>\n",
       "      <td>56</td>\n",
       "      <td>57</td>\n",
       "      <td>58</td>\n",
       "      <td>59</td>\n",
       "    </tr>\n",
       "    <tr>\n",
       "      <th>g</th>\n",
       "      <td>60</td>\n",
       "      <td>61</td>\n",
       "      <td>62</td>\n",
       "      <td>63</td>\n",
       "      <td>64</td>\n",
       "      <td>65</td>\n",
       "      <td>66</td>\n",
       "      <td>67</td>\n",
       "      <td>68</td>\n",
       "      <td>69</td>\n",
       "    </tr>\n",
       "    <tr>\n",
       "      <th>h</th>\n",
       "      <td>70</td>\n",
       "      <td>71</td>\n",
       "      <td>72</td>\n",
       "      <td>73</td>\n",
       "      <td>74</td>\n",
       "      <td>75</td>\n",
       "      <td>76</td>\n",
       "      <td>77</td>\n",
       "      <td>78</td>\n",
       "      <td>79</td>\n",
       "    </tr>\n",
       "    <tr>\n",
       "      <th>i</th>\n",
       "      <td>80</td>\n",
       "      <td>81</td>\n",
       "      <td>82</td>\n",
       "      <td>83</td>\n",
       "      <td>84</td>\n",
       "      <td>85</td>\n",
       "      <td>86</td>\n",
       "      <td>87</td>\n",
       "      <td>88</td>\n",
       "      <td>89</td>\n",
       "    </tr>\n",
       "    <tr>\n",
       "      <th>j</th>\n",
       "      <td>90</td>\n",
       "      <td>91</td>\n",
       "      <td>92</td>\n",
       "      <td>93</td>\n",
       "      <td>94</td>\n",
       "      <td>95</td>\n",
       "      <td>96</td>\n",
       "      <td>97</td>\n",
       "      <td>98</td>\n",
       "      <td>99</td>\n",
       "    </tr>\n",
       "  </tbody>\n",
       "</table>\n",
       "</div>"
      ],
      "text/plain": [
       "    A   B   C   D   E   F   G   H   I   J\n",
       "a   0   1   2   3   4   5   6   7   8   9\n",
       "b  10  11  12  13  14  15  16  17  18  19\n",
       "c  20  21  22  23  24  25  26  27  28  29\n",
       "d  30  31  32  33  34  35  36  37  38  39\n",
       "e  40  41  42  43  44  45  46  47  48  49\n",
       "f  50  51  52  53  54  55  56  57  58  59\n",
       "g  60  61  62  63  64  65  66  67  68  69\n",
       "h  70  71  72  73  74  75  76  77  78  79\n",
       "i  80  81  82  83  84  85  86  87  88  89\n",
       "j  90  91  92  93  94  95  96  97  98  99"
      ]
     },
     "execution_count": 53,
     "metadata": {},
     "output_type": "execute_result"
    }
   ],
   "source": [
    "df1 : pd.DataFrame = pd.DataFrame(data,columns=list(\"ABCDEFGHIJ\"),index=list(\"abcdefghij\"))\n",
    "df1"
   ]
  },
  {
   "cell_type": "code",
   "execution_count": 55,
   "metadata": {},
   "outputs": [
    {
     "data": {
      "text/html": [
       "<div>\n",
       "<style scoped>\n",
       "    .dataframe tbody tr th:only-of-type {\n",
       "        vertical-align: middle;\n",
       "    }\n",
       "\n",
       "    .dataframe tbody tr th {\n",
       "        vertical-align: top;\n",
       "    }\n",
       "\n",
       "    .dataframe thead th {\n",
       "        text-align: right;\n",
       "    }\n",
       "</style>\n",
       "<table border=\"1\" class=\"dataframe\">\n",
       "  <thead>\n",
       "    <tr style=\"text-align: right;\">\n",
       "      <th></th>\n",
       "      <th>Operator</th>\n",
       "      <th>Example</th>\n",
       "      <th>Same As</th>\n",
       "      <th>Try it</th>\n",
       "    </tr>\n",
       "  </thead>\n",
       "  <tbody>\n",
       "    <tr>\n",
       "      <th>0</th>\n",
       "      <td>=</td>\n",
       "      <td>x = 5</td>\n",
       "      <td>x = 5</td>\n",
       "      <td>Try it »</td>\n",
       "    </tr>\n",
       "    <tr>\n",
       "      <th>1</th>\n",
       "      <td>+=</td>\n",
       "      <td>x += 3</td>\n",
       "      <td>x = x + 3</td>\n",
       "      <td>Try it »</td>\n",
       "    </tr>\n",
       "    <tr>\n",
       "      <th>2</th>\n",
       "      <td>-=</td>\n",
       "      <td>x -= 3</td>\n",
       "      <td>x = x - 3</td>\n",
       "      <td>Try it »</td>\n",
       "    </tr>\n",
       "    <tr>\n",
       "      <th>3</th>\n",
       "      <td>*=</td>\n",
       "      <td>x *= 3</td>\n",
       "      <td>x = x * 3</td>\n",
       "      <td>Try it »</td>\n",
       "    </tr>\n",
       "    <tr>\n",
       "      <th>4</th>\n",
       "      <td>/=</td>\n",
       "      <td>x /= 3</td>\n",
       "      <td>x = x / 3</td>\n",
       "      <td>Try it »</td>\n",
       "    </tr>\n",
       "    <tr>\n",
       "      <th>5</th>\n",
       "      <td>%=</td>\n",
       "      <td>x %= 3</td>\n",
       "      <td>x = x % 3</td>\n",
       "      <td>Try it »</td>\n",
       "    </tr>\n",
       "    <tr>\n",
       "      <th>6</th>\n",
       "      <td>//=</td>\n",
       "      <td>x //= 3</td>\n",
       "      <td>x = x // 3</td>\n",
       "      <td>Try it »</td>\n",
       "    </tr>\n",
       "    <tr>\n",
       "      <th>7</th>\n",
       "      <td>**=</td>\n",
       "      <td>x **= 3</td>\n",
       "      <td>x = x ** 3</td>\n",
       "      <td>Try it »</td>\n",
       "    </tr>\n",
       "    <tr>\n",
       "      <th>8</th>\n",
       "      <td>&amp;=</td>\n",
       "      <td>x &amp;= 3</td>\n",
       "      <td>x = x &amp; 3</td>\n",
       "      <td>Try it »</td>\n",
       "    </tr>\n",
       "    <tr>\n",
       "      <th>9</th>\n",
       "      <td>|=</td>\n",
       "      <td>x |= 3</td>\n",
       "      <td>x = x | 3</td>\n",
       "      <td>Try it »</td>\n",
       "    </tr>\n",
       "    <tr>\n",
       "      <th>10</th>\n",
       "      <td>^=</td>\n",
       "      <td>x ^= 3</td>\n",
       "      <td>x = x ^ 3</td>\n",
       "      <td>Try it »</td>\n",
       "    </tr>\n",
       "    <tr>\n",
       "      <th>11</th>\n",
       "      <td>&gt;&gt;=</td>\n",
       "      <td>x &gt;&gt;= 3</td>\n",
       "      <td>x = x &gt;&gt; 3</td>\n",
       "      <td>Try it »</td>\n",
       "    </tr>\n",
       "    <tr>\n",
       "      <th>12</th>\n",
       "      <td>&lt;&lt;=</td>\n",
       "      <td>x &lt;&lt;= 3</td>\n",
       "      <td>x = x &lt;&lt; 3</td>\n",
       "      <td>Try it »</td>\n",
       "    </tr>\n",
       "  </tbody>\n",
       "</table>\n",
       "</div>"
      ],
      "text/plain": [
       "   Operator  Example     Same As    Try it\n",
       "0         =    x = 5       x = 5  Try it »\n",
       "1        +=   x += 3   x = x + 3  Try it »\n",
       "2        -=   x -= 3   x = x - 3  Try it »\n",
       "3        *=   x *= 3   x = x * 3  Try it »\n",
       "4        /=   x /= 3   x = x / 3  Try it »\n",
       "5        %=   x %= 3   x = x % 3  Try it »\n",
       "6       //=  x //= 3  x = x // 3  Try it »\n",
       "7       **=  x **= 3  x = x ** 3  Try it »\n",
       "8        &=   x &= 3   x = x & 3  Try it »\n",
       "9        |=   x |= 3   x = x | 3  Try it »\n",
       "10       ^=   x ^= 3   x = x ^ 3  Try it »\n",
       "11      >>=  x >>= 3  x = x >> 3  Try it »\n",
       "12      <<=  x <<= 3  x = x << 3  Try it »"
      ]
     },
     "execution_count": 55,
     "metadata": {},
     "output_type": "execute_result"
    }
   ],
   "source": [
    "dfl : list[pd.DataFrame] = pd.read_html(\"https://www.w3schools.com/python/python_operators.asp\")\n",
    "\n",
    "dfl[1]"
   ]
  },
  {
   "cell_type": "markdown",
   "metadata": {},
   "source": [
    "Using Pandas to read json in dataframe"
   ]
  },
  {
   "cell_type": "code",
   "execution_count": 58,
   "metadata": {},
   "outputs": [
    {
     "data": {
      "text/html": [
       "<div>\n",
       "<style scoped>\n",
       "    .dataframe tbody tr th:only-of-type {\n",
       "        vertical-align: middle;\n",
       "    }\n",
       "\n",
       "    .dataframe tbody tr th {\n",
       "        vertical-align: top;\n",
       "    }\n",
       "\n",
       "    .dataframe thead th {\n",
       "        text-align: right;\n",
       "    }\n",
       "</style>\n",
       "<table border=\"1\" class=\"dataframe\">\n",
       "  <thead>\n",
       "    <tr style=\"text-align: right;\">\n",
       "      <th></th>\n",
       "      <th>Duration</th>\n",
       "      <th>Pulse</th>\n",
       "      <th>Maxpulse</th>\n",
       "      <th>Calories</th>\n",
       "    </tr>\n",
       "  </thead>\n",
       "  <tbody>\n",
       "    <tr>\n",
       "      <th>0</th>\n",
       "      <td>60</td>\n",
       "      <td>110</td>\n",
       "      <td>130</td>\n",
       "      <td>409.1</td>\n",
       "    </tr>\n",
       "    <tr>\n",
       "      <th>1</th>\n",
       "      <td>60</td>\n",
       "      <td>117</td>\n",
       "      <td>145</td>\n",
       "      <td>479.0</td>\n",
       "    </tr>\n",
       "    <tr>\n",
       "      <th>2</th>\n",
       "      <td>60</td>\n",
       "      <td>103</td>\n",
       "      <td>135</td>\n",
       "      <td>340.0</td>\n",
       "    </tr>\n",
       "    <tr>\n",
       "      <th>3</th>\n",
       "      <td>45</td>\n",
       "      <td>109</td>\n",
       "      <td>175</td>\n",
       "      <td>282.4</td>\n",
       "    </tr>\n",
       "    <tr>\n",
       "      <th>4</th>\n",
       "      <td>45</td>\n",
       "      <td>117</td>\n",
       "      <td>148</td>\n",
       "      <td>406.0</td>\n",
       "    </tr>\n",
       "    <tr>\n",
       "      <th>...</th>\n",
       "      <td>...</td>\n",
       "      <td>...</td>\n",
       "      <td>...</td>\n",
       "      <td>...</td>\n",
       "    </tr>\n",
       "    <tr>\n",
       "      <th>164</th>\n",
       "      <td>60</td>\n",
       "      <td>105</td>\n",
       "      <td>140</td>\n",
       "      <td>290.8</td>\n",
       "    </tr>\n",
       "    <tr>\n",
       "      <th>165</th>\n",
       "      <td>60</td>\n",
       "      <td>110</td>\n",
       "      <td>145</td>\n",
       "      <td>300.4</td>\n",
       "    </tr>\n",
       "    <tr>\n",
       "      <th>166</th>\n",
       "      <td>60</td>\n",
       "      <td>115</td>\n",
       "      <td>145</td>\n",
       "      <td>310.2</td>\n",
       "    </tr>\n",
       "    <tr>\n",
       "      <th>167</th>\n",
       "      <td>75</td>\n",
       "      <td>120</td>\n",
       "      <td>150</td>\n",
       "      <td>320.4</td>\n",
       "    </tr>\n",
       "    <tr>\n",
       "      <th>168</th>\n",
       "      <td>75</td>\n",
       "      <td>125</td>\n",
       "      <td>150</td>\n",
       "      <td>330.4</td>\n",
       "    </tr>\n",
       "  </tbody>\n",
       "</table>\n",
       "<p>169 rows × 4 columns</p>\n",
       "</div>"
      ],
      "text/plain": [
       "     Duration  Pulse  Maxpulse  Calories\n",
       "0          60    110       130     409.1\n",
       "1          60    117       145     479.0\n",
       "2          60    103       135     340.0\n",
       "3          45    109       175     282.4\n",
       "4          45    117       148     406.0\n",
       "..        ...    ...       ...       ...\n",
       "164        60    105       140     290.8\n",
       "165        60    110       145     300.4\n",
       "166        60    115       145     310.2\n",
       "167        75    120       150     320.4\n",
       "168        75    125       150     330.4\n",
       "\n",
       "[169 rows x 4 columns]"
      ]
     },
     "execution_count": 58,
     "metadata": {},
     "output_type": "execute_result"
    }
   ],
   "source": [
    "df : pd.DataFrame = pd.read_json(\"https://www.w3schools.com/python/pandas/data.js\")\n",
    "df"
   ]
  },
  {
   "cell_type": "code",
   "execution_count": 61,
   "metadata": {},
   "outputs": [
    {
     "data": {
      "text/plain": [
       "['__call__',\n",
       " '__class__',\n",
       " '__delattr__',\n",
       " '__dict__',\n",
       " '__dir__',\n",
       " '__doc__',\n",
       " '__eq__',\n",
       " '__format__',\n",
       " '__ge__',\n",
       " '__getattribute__',\n",
       " '__getstate__',\n",
       " '__gt__',\n",
       " '__hash__',\n",
       " '__init__',\n",
       " '__init_subclass__',\n",
       " '__le__',\n",
       " '__lt__',\n",
       " '__module__',\n",
       " '__ne__',\n",
       " '__new__',\n",
       " '__reduce__',\n",
       " '__reduce_ex__',\n",
       " '__repr__',\n",
       " '__setattr__',\n",
       " '__sizeof__',\n",
       " '__slotnames__',\n",
       " '__str__',\n",
       " '__subclasshook__',\n",
       " '__weakref__',\n",
       " '_get_check_fn_code',\n",
       " 'between',\n",
       " 'eq',\n",
       " 'equal_to',\n",
       " 'equal_to',\n",
       " 'from_builtin_check_name',\n",
       " 'ge',\n",
       " 'get_backend',\n",
       " 'get_builtin_check_fn',\n",
       " 'greater_than',\n",
       " 'greater_than',\n",
       " 'greater_than_or_equal_to',\n",
       " 'greater_than_or_equal_to',\n",
       " 'gt',\n",
       " 'in_range',\n",
       " 'in_range',\n",
       " 'isin',\n",
       " 'isin',\n",
       " 'le',\n",
       " 'less_than',\n",
       " 'less_than',\n",
       " 'less_than_or_equal_to',\n",
       " 'less_than_or_equal_to',\n",
       " 'lt',\n",
       " 'ne',\n",
       " 'not_equal_to',\n",
       " 'not_equal_to',\n",
       " 'notin',\n",
       " 'notin',\n",
       " 'one_sample_ttest',\n",
       " 'register_backend',\n",
       " 'register_builtin_check_fn',\n",
       " 'str_contains',\n",
       " 'str_contains',\n",
       " 'str_endswith',\n",
       " 'str_endswith',\n",
       " 'str_length',\n",
       " 'str_length',\n",
       " 'str_matches',\n",
       " 'str_matches',\n",
       " 'str_startswith',\n",
       " 'str_startswith',\n",
       " 'two_sample_ttest',\n",
       " 'unique_values_eq',\n",
       " 'unique_values_eq']"
      ]
     },
     "execution_count": 61,
     "metadata": {},
     "output_type": "execute_result"
    }
   ],
   "source": [
    "dir(pa.Check)"
   ]
  },
  {
   "cell_type": "markdown",
   "metadata": {},
   "source": [
    "## Slicing And Indexing\n",
    "\n",
    "* series_variable[index]\n",
    "* DataFrame\n",
    "    * loc\n",
    "    * iloc \n",
    "    * at \n",
    "    * iat"
   ]
  },
  {
   "cell_type": "code",
   "execution_count": 66,
   "metadata": {},
   "outputs": [
    {
     "data": {
      "text/plain": [
       "0    1\n",
       "1    2\n",
       "2    3\n",
       "3    4\n",
       "4    5\n",
       "dtype: int64"
      ]
     },
     "metadata": {},
     "output_type": "display_data"
    },
    {
     "name": "stdout",
     "output_type": "stream",
     "text": [
      "Applying Slicing\n"
     ]
    },
    {
     "data": {
      "text/plain": [
       "1    2\n",
       "2    3\n",
       "3    4\n",
       "dtype: int64"
      ]
     },
     "metadata": {},
     "output_type": "display_data"
    }
   ],
   "source": [
    "s1 : pd.Series = pd.Series([1,2,3,4,5])\n",
    "display(s1)\n",
    "print(\"Applying Slicing\")\n",
    "display(s1[1:4])"
   ]
  },
  {
   "cell_type": "code",
   "execution_count": 67,
   "metadata": {},
   "outputs": [
    {
     "data": {
      "text/plain": [
       "0    1\n",
       "1    2\n",
       "2    3\n",
       "3    4\n",
       "4    5\n",
       "dtype: int64"
      ]
     },
     "metadata": {},
     "output_type": "display_data"
    },
    {
     "name": "stdout",
     "output_type": "stream",
     "text": [
      "Applying Slicing\n"
     ]
    },
    {
     "data": {
      "text/plain": [
       "1    2\n",
       "2    3\n",
       "3    4\n",
       "dtype: int64"
      ]
     },
     "metadata": {},
     "output_type": "display_data"
    }
   ],
   "source": [
    "s1 : pd.Series = pd.Series([1,2,3,4,5])\n",
    "display(s1)\n",
    "print(\"Applying Slicing\")\n",
    "display(s1.iloc[1:4]) # Index Location (Numbers) same as numpy slicing"
   ]
  },
  {
   "cell_type": "code",
   "execution_count": 68,
   "metadata": {},
   "outputs": [
    {
     "data": {
      "text/plain": [
       "a    1\n",
       "b    2\n",
       "c    3\n",
       "d    4\n",
       "e    5\n",
       "dtype: int64"
      ]
     },
     "metadata": {},
     "output_type": "display_data"
    },
    {
     "name": "stdout",
     "output_type": "stream",
     "text": [
      "Applying Slicing\n"
     ]
    },
    {
     "data": {
      "text/plain": [
       "b    2\n",
       "c    3\n",
       "d    4\n",
       "dtype: int64"
      ]
     },
     "metadata": {},
     "output_type": "display_data"
    }
   ],
   "source": [
    "s1 : pd.Series = pd.Series([1,2,3,4,5],index=['a', 'b', 'c', 'd', 'e'])\n",
    "display(s1)\n",
    "print(\"Applying Slicing\")\n",
    "display(s1.iloc[1:4]) # Index Location (Numbers) same as numpy slicing"
   ]
  },
  {
   "cell_type": "code",
   "execution_count": 69,
   "metadata": {},
   "outputs": [
    {
     "data": {
      "text/plain": [
       "a    1\n",
       "b    2\n",
       "c    3\n",
       "d    4\n",
       "e    5\n",
       "dtype: int64"
      ]
     },
     "metadata": {},
     "output_type": "display_data"
    },
    {
     "name": "stdout",
     "output_type": "stream",
     "text": [
      "Applying Slicing\n"
     ]
    },
    {
     "data": {
      "text/plain": [
       "a    1\n",
       "b    2\n",
       "c    3\n",
       "d    4\n",
       "dtype: int64"
      ]
     },
     "metadata": {},
     "output_type": "display_data"
    }
   ],
   "source": [
    "s1 : pd.Series = pd.Series([1,2,3,4,5],index=['a', 'b', 'c', 'd', 'e'])\n",
    "display(s1)\n",
    "print(\"Applying Slicing\")\n",
    "display(s1.loc['a':'d']) # Location (label) end is inclusive"
   ]
  },
  {
   "cell_type": "code",
   "execution_count": 74,
   "metadata": {},
   "outputs": [
    {
     "data": {
      "text/plain": [
       "a    1\n",
       "b    2\n",
       "c    3\n",
       "d    4\n",
       "e    5\n",
       "dtype: int64"
      ]
     },
     "metadata": {},
     "output_type": "display_data"
    },
    {
     "name": "stdout",
     "output_type": "stream",
     "text": [
      "Applying Slicing\n"
     ]
    },
    {
     "data": {
      "text/plain": [
       "1"
      ]
     },
     "metadata": {},
     "output_type": "display_data"
    }
   ],
   "source": [
    "s1 : pd.Series = pd.Series([1,2,3,4,5],index=['a', 'b', 'c', 'd', 'e'])\n",
    "display(s1)\n",
    "print(\"Applying Slicing\")\n",
    "display(s1.iat[0]) # Index Location (Numbers) extract one cell and can update it"
   ]
  },
  {
   "cell_type": "code",
   "execution_count": 73,
   "metadata": {},
   "outputs": [
    {
     "data": {
      "text/plain": [
       "a    1\n",
       "b    2\n",
       "c    3\n",
       "d    4\n",
       "e    5\n",
       "dtype: int64"
      ]
     },
     "metadata": {},
     "output_type": "display_data"
    },
    {
     "name": "stdout",
     "output_type": "stream",
     "text": [
      "Applying Slicing\n"
     ]
    },
    {
     "data": {
      "text/plain": [
       "1"
      ]
     },
     "metadata": {},
     "output_type": "display_data"
    }
   ],
   "source": [
    "s1 : pd.Series = pd.Series([1,2,3,4,5],index=['a', 'b', 'c', 'd', 'e'])\n",
    "display(s1)\n",
    "print(\"Applying Slicing\")\n",
    "display(s1.at['a'])  # Index Location (Numbers) extract one cell and can update it"
   ]
  },
  {
   "cell_type": "code",
   "execution_count": 92,
   "metadata": {},
   "outputs": [
    {
     "data": {
      "text/plain": [
       "[('21:41:42', 'Altaf Hussain', 'PIAIC-173738'),\n",
       " ('21:41:51', 'Hina Zargham', 'PIAIC101499'),\n",
       " ('21:41:51', 'Ahmed Siddiqui', 'PIAIC123456'),\n",
       " ('21:41:57', 'Rehan Baig - PIAIC73919', 'PIAIC73919'),\n",
       " ('21:42:00', '.', 'PIAIC210905'),\n",
       " ('21:42:08', 'Arshad Siddiqui', 'PIAIC120702'),\n",
       " ('21:42:10', 'Azfar Suhail', 'PIAIC218333'),\n",
       " ('21:42:17', 'Ayesha Arshad', 'PIAIC-225620'),\n",
       " ('21:42:31', 'Arif Najmi', 'PIAIC 125657'),\n",
       " ('21:42:34', 'Ahmed', 'PIAIC-216511'),\n",
       " ('21:42:43', 'M Qasim', 'PIAIC178397'),\n",
       " ('21:42:56', 'IMRAN', 'PIAIC216423'),\n",
       " ('21:43:26', 'Zeeshan Abbas', 'PIAIC221479'),\n",
       " ('21:44:10', 'Ahsan', 'PIAIC185091')]"
      ]
     },
     "execution_count": 92,
     "metadata": {},
     "output_type": "execute_result"
    }
   ],
   "source": [
    "x : str = '''\n",
    "20:03:08 From Dr. Ghulam Shabbir To Everyone:\n",
    "\tAoA Honorable Sir Qasim Sb. Stay blessed always iA.\n",
    "20:03:39 From M Qasim To Everyone:\n",
    "\tsir aj payare lag rahy hy\n",
    "20:03:59 From Dr. Ghulam Shabbir To Everyone:\n",
    "\tFantastic\n",
    "20:04:34 From jhon wick To Everyone:\n",
    "\tReacted to \"sir aj payare lag ra...\" with 😂\n",
    "20:04:41 From M Qasim To Everyone:\n",
    "\tReacted to \"sir aj payare lag ra...\" with 😂\n",
    "20:04:52 From M Qasim To Everyone:\n",
    "\tRemoved a 😂 reaction from \"sir aj payare lag ra...\"\n",
    "20:04:54 From M Qasim To Everyone:\n",
    "\tReacted to \"sir aj payare lag ra...\" with 😂\n",
    "20:04:55 From M Qasim To Everyone:\n",
    "\tRemoved a 😂 reaction from \"sir aj payare lag ra...\"\n",
    "20:06:01 From Abdullah To Everyone:\n",
    "\tsir ap kal ki class me ni ayen gy kia??\n",
    "20:06:02 From M Qasim To Everyone:\n",
    "\tSir Faisalabad b a rahy hy kya ap?\n",
    "20:06:47 From Yasir To Everyone:\n",
    "\tSir generative ai ki class online b hogi na?????\n",
    "20:07:01 From Sheikh Hamza To Everyone:\n",
    "\tSir data analytics ke liye maths statistics and probability ani chaye??\n",
    "20:07:22 From Yasir To Everyone:\n",
    "\tReplying to \"Sir generative ai ki...\"\n",
    "\t\n",
    "\t@Ikhlas Bhojani PLease ask from sir?\n",
    "20:07:55 From Ikhlas Bhojani To Everyone:\n",
    "\tReplying to \"Sir generative ai ki...\"\n",
    "\t\n",
    "\tok wait\n",
    "20:08:50 From Dr. Ghulam Shabbir To Everyone:\n",
    "\tSir Qasim Sb. You were frequently discussed and were given honored and salute in our today's class at Islamabad. Dr. Ghulam Shabbir\n",
    "20:09:10 From STONE To Everyone:\n",
    "\tReacted to \"Sir Qasim Sb. You we...\" with 👍\n",
    "20:09:12 From Hatif Humayun To Everyone:\n",
    "\tReacted to \"Sir Qasim Sb. You we...\" with 👍\n",
    "20:09:17 From Dr. Ghulam Shabbir To Everyone:\n",
    "\tReacted to \"Sir Qasim Sb. You we...\" with 👍\n",
    "20:09:24 From STONE To Everyone:\n",
    "\tRemoved a 👍 reaction from \"Sir Qasim Sb. You we...\"\n",
    "20:09:31 From STONE To Everyone:\n",
    "\tReacted to \"Sir Qasim Sb. You we...\" with 👍\n",
    "20:09:32 From STONE To Everyone:\n",
    "\tRemoved a 👍 reaction from \"Sir Qasim Sb. You we...\"\n",
    "20:12:00 From Amanat Wattoo To Everyone:\n",
    "\tPd kia convention h\n",
    "20:12:17 From Amanat Wattoo To Everyone:\n",
    "\tYa koi or be naam de skte hn\n",
    "20:12:31 From farhan To Everyone:\n",
    "\tConvention hey\n",
    "20:12:47 From KifayatUllah To Everyone:\n",
    "\tscreen is not visible to me, may be network issue or something else\n",
    "20:14:14 From Rehan Alı WAKKAS To Everyone:\n",
    "\tImport pandas as pd and import pandora as pa.\n",
    "\tWhat is pd and pa ?\n",
    "20:14:26 From farhan To Everyone:\n",
    "\tJust names\n",
    "20:15:03 From Ikhlas Bhojani To Everyone:\n",
    "\tkoi question ho tw hand raise kriyea jese i moka milega me unmute krdonga\n",
    "20:15:38 From Talha To Everyone:\n",
    "\tReplying to \"Import pandas as pd ...\"\n",
    "\t\n",
    "\tAlias, instead of writing long words pandas and pandora, we can write pd and pa as their short form\n",
    "20:15:42 From Rehan Alı WAKKAS To Everyone:\n",
    "\t@Ikhlas Bhojani  \n",
    "\tImport pandas as pd and import pandora as pa.\n",
    "\tWhat is pd and pa ?\n",
    "20:16:22 From Ikhlas Bhojani To Everyone:\n",
    "\tReplying to \"@Ikhlas Bhojani  \n",
    "\tIm...\"\n",
    "\t\n",
    "\talias\n",
    "20:16:41 From Jazil Hashmi To Everyone:\n",
    "\tImport pandas could not be resolved from source. Why is this error coming? @Ikhlas Bhojani\n",
    "20:16:53 From Ikhlas Bhojani To Everyone:\n",
    "\tReplying to \"@Ikhlas Bhojani  \n",
    "\tIm...\"\n",
    "\t\n",
    "\tlike nick name\n",
    "20:17:34 From Ikhlas Bhojani To Everyone:\n",
    "\t!pip install pandas\n",
    "20:17:44 From Rehan Alı WAKKAS To Everyone:\n",
    "\tReplying to \"@Ikhlas Bhojani  \n",
    "\tIm...\"\n",
    "\t\n",
    "\tDo they refer to Directories or what ?\n",
    "20:19:56 From Abdullah To Everyone:\n",
    "\tPandas is usually imported under the pd alias. alias: In Python alias are an alternate name for referring to the same thing. Create an alias with the as keyword while importing: import pandas as pd. Now the Pandas package can be referred to as pd instead of pandas .\n",
    "20:20:27 From farhan To Everyone:\n",
    "\tThese are nicknames used by community\n",
    "20:25:00 From ahsan rasheed To Everyone:\n",
    "\tMary kush lectures rah gy hain\n",
    "20:25:13 From ahsan rasheed To Everyone:\n",
    "\tKia ya lecture record ho rhy hain\n",
    "20:25:21 From ABDUL KHALIQ To Everyone:\n",
    "\tg\n",
    "20:25:24 From ABDUL KHALIQ To Everyone:\n",
    "\tyoutube\n",
    "20:25:29 From ABDUL KHALIQ To Everyone:\n",
    "\tpanaverse dao\n",
    "20:25:46 From ahsan rasheed To Everyone:\n",
    "\tThanks\n",
    "20:26:27 From Kamran Ahmed To Everyone:\n",
    "\ttabular form in panada\n",
    "20:26:44 From Sarwar Faridi To Everyone:\n",
    "\tTABULAR\n",
    "20:26:52 From Sarwar Faridi To Everyone:\n",
    "\t2D\n",
    "20:26:54 From Kamran Ahmed To Everyone:\n",
    "\tindex value also shown\n",
    "20:27:04 From Ahmed Siddiqui To Everyone:\n",
    "\tmatrix\n",
    "20:27:05 From Kamal Hassan To Everyone:\n",
    "\tseries men indexing h or tabular form mn h\n",
    "20:29:55 From Kaleem To Everyone:\n",
    "\tsir series ma duplicate values bhi dy kar daikhain!!\n",
    "20:35:08 From Zeeshan Abbas To Everyone:\n",
    "\tSir what is INT64\n",
    "20:37:17 From Ikhlas Bhojani To Everyone:\n",
    "\tkoi question he tw hand raise krke rakhen\n",
    "20:37:49 From Zeeshan Abbas To Everyone:\n",
    "\tmera question hai what is INT64\n",
    "20:38:02 From Abdullah To Everyone:\n",
    "\tsmj e ni aya \n",
    "\trepeat krwa dyen\n",
    "20:39:23 From Altaf Hussain To Everyone:\n",
    "\tJust like Chart of accounts in Accounting...\n",
    "20:39:41 From Ahmed Siddiqui To Everyone:\n",
    "\tReacted to \"Just like Chart of a...\" with 👍\n",
    "20:40:31 From hi To Everyone:\n",
    "\twhat is int 64\n",
    "20:40:43 From hi To Everyone:\n",
    "\tdtype: int 64\n",
    "20:40:52 From Zeeshan Abbas To Everyone:\n",
    "\tSir why is showing INT64 in below\n",
    "20:40:56 From Ikhlas Bhojani To Everyone:\n",
    "\tReplying to \"mera question hai wh...\"\n",
    "\t\n",
    "\ttype hoti he data ki\n",
    "20:42:21 From Kaleem To Everyone:\n",
    "\tin our structure data types of data we use key, value /key, pair values to define our data, how to translate that data Series?\n",
    "20:42:25 From Asif Ali Shaikh To Everyone:\n",
    "\tint 64 is memory\n",
    "20:42:42 From Asif Ali Shaikh To Everyone:\n",
    "\tWeb3\n",
    "20:45:08 From Zeeshan Abbas To Everyone:\n",
    "\tReacted to \"Web3\" with 👍\n",
    "20:46:12 From Galaxy To Everyone:\n",
    "\tSir g account udaar dy dy\n",
    "20:46:23 From Galaxy To Everyone:\n",
    "\tReacted to Sir g account udaar ... with \"😂\"\n",
    "20:46:37 From Ayesha Arshad To Everyone:\n",
    "\tReacted to \"Sir g account udaar ...\" with 😂\n",
    "20:46:38 From Ayesha Arshad To Everyone:\n",
    "\tRemoved a 😂 reaction from \"Sir g account udaar ...\"\n",
    "20:46:39 From jhon wick To Everyone:\n",
    "\tReacted to \"Sir g account udaar ...\" with 😂\n",
    "20:46:40 From Ayesha Arshad To Everyone:\n",
    "\tReacted to \"Sir g account udaar ...\" with 😂\n",
    "20:46:51 From Taif Ullah To Everyone:\n",
    "\tis bing equal to gpt 4\n",
    "20:49:03 From fahad rasheed To Everyone:\n",
    "\t2 dimension data hy pora select krna parhyga \"\" mn\n",
    "20:49:08 From Azfar Suhail To Everyone:\n",
    "\tfrom nptyping import DataFrame as DF, Structure as S\n",
    "\t\n",
    "\ts2 : DF[S[\"Abc : str\"]] = pd.Series(['a','b','c','d','e'])\n",
    "\ts2\n",
    "20:49:17 From Azfar Suhail To Everyone:\n",
    "\tthis is working\n",
    "20:51:54 From Saboor Hussain To Everyone:\n",
    "\tReacted to \"Sir g account udaa...\" with 😂\n",
    "20:51:55 From Saboor Hussain To Everyone:\n",
    "\tRemoved a 😂 from \"Sir g account udaa...\"\n",
    "20:58:37 From jhon wick To Everyone:\n",
    "\tyes\n",
    "20:59:02 From farhan To Everyone:\n",
    "\tKindly unmute\n",
    "20:59:20 From Ikhlas Bhojani To Everyone:\n",
    "\tReplying to \"Kindly unmute\"\n",
    "\t\n",
    "\twait\n",
    "21:00:41 From PIAIC80919 Muhammad Asad To Everyone:\n",
    "\tAssalamu Aliakum\n",
    "21:01:30 From Faizan Hassan To Everyone:\n",
    "\ts1.name kar k kar saktay hon ge\n",
    "21:01:41 From PIAIC80919 Muhammad Asad To Everyone:\n",
    "\tI joined late on zoom meet so kindly share links that sir share until now\n",
    "21:02:23 From Taif Ullah To Everyone:\n",
    "\tReplying to \"I joined late on zoo...\"\n",
    "\t\n",
    "\tevery thing will be on github\n",
    "21:04:16 From PIAIC80919 Muhammad Asad To Everyone:\n",
    "\tNumpy aur Pandas kay liya sir nay koi book share ki hai kay nahi\n",
    "21:04:40 From Amanat Wattoo To Everyone:\n",
    "\tReplying to \"Numpy aur Pandas kay...\"\n",
    "\t\n",
    "\tno\n",
    "21:05:16 From PIAIC80919 Muhammad Asad To Everyone:\n",
    "\taur python kay liya koi alag WhatsApp group hai to please uska b link share kardien\n",
    "21:05:52 From Amanat Wattoo To Everyone:\n",
    "\tReplying to \"aur python kay liya ...\"\n",
    "\t\n",
    "\tno koi group nhi bnia h\n",
    "21:07:15 From Abdullah To Everyone:\n",
    "\tupper array wala code knsa ha??\n",
    "21:07:49 From Hamza To Everyone:\n",
    "\t\"Shape\", \"Shape\"\n",
    "21:08:07 From Hamza To Everyone:\n",
    "\t\"Size\", \"Size\"\n",
    "21:08:24 From SheikhMAqib To Everyone:\n",
    "\tDouble coat\n",
    "21:08:30 From Azfar Suhail To Everyone:\n",
    "\tShape turtle se import kara hai\n",
    "21:08:48 From Azfar Suhail To Everyone:\n",
    "\tshape nptyping se import nhi howa\n",
    "21:09:31 From Muhammad Uzair To Everyone:\n",
    "\tshape galat import ha\n",
    "21:09:33 From Khadija Zahid To Everyone:\n",
    "\tshape ko kindly ek br explain kr den dbra\n",
    "21:09:48 From Yasir To Everyone:\n",
    "\tshape import\n",
    "21:09:51 From Yasir To Everyone:\n",
    "\tmissing\n",
    "21:09:53 From Muhammad Uzair To Everyone:\n",
    "\tfrom import typing shape\n",
    "21:10:08 From Saboor Hussain To Everyone:\n",
    "\tsir\n",
    "21:10:16 From Saboor Hussain To Everyone:\n",
    "\taap nptyping se shape ko import karen\n",
    "21:10:19 From Yasir To Everyone:\n",
    "\timport nhi kia shape\n",
    "21:10:21 From farhan To Everyone:\n",
    "\tShape import nahi thi\n",
    "21:10:22 From Azfar Suhail To Everyone:\n",
    "\tturtle se import kara hai\n",
    "21:14:08 From sadia To Everyone:\n",
    "\tcan we get values 0 1 2 3 4 5 6 7 8 in vertical, abhi data horizontal arha hai\n",
    "21:18:07 From Faiz M To Everyone:\n",
    "\tSir chezy hard sy hard hoti ja rahe hy. aaj tho sir k oper oper ja raha hy.\n",
    "21:18:53 From Qasim(CGAIO) To Everyone:\n",
    "\thttps://www.w3schools.com/python/pandas/data.js\n",
    "21:19:18 From Khadija Zahid To Everyone:\n",
    "\thtml wala b ek br code dekha k bta de plz\n",
    "21:19:19 From Abdullah To Everyone:\n",
    "\tkindly class k bd groups me sessions ka link send kr dia kryen\n",
    "21:21:24 From Abdullah To Everyone:\n",
    "\tReplying to \"kindly class k bd gr...\"\n",
    "\t\n",
    "\t@Ikhlas Bhojani\n",
    "21:22:09 From Ahmed Siddiqui To Everyone:\n",
    "\twhat if data size in millions, what kind of preprocessing is required before handing over to pandas?\n",
    "21:22:38 From Ikhlas Bhojani To Everyone:\n",
    "\tReplying to \"kindly class k bd gr...\"\n",
    "\t\n",
    "\tme ap logo ke group me nhi hn\n",
    "21:22:57 From Abdullah To Everyone:\n",
    "\tReplying to \"kindly class k bd gr...\"\n",
    "\t\n",
    "\tbro sir sy kah dyen \n",
    "\tya sir Imran sy request kr dyen\n",
    "21:24:11 From Ikhlas Bhojani To Everyone:\n",
    "\tReplying to \"html wala b ek br co...\"\n",
    "\t\n",
    "\tpd.read_html(\"url\")\n",
    "21:26:00 From Kaleem To Everyone:\n",
    "\thow to make identical data ?\n",
    "21:26:17 From Afifa Dar To Everyone:\n",
    "\tcolmn3 k chexk me ==2 se kya horaha ?\n",
    "21:32:26 From Ali Zar FSD To Everyone:\n",
    "\tsliding\n",
    "21:32:38 From Ali Zar FSD To Everyone:\n",
    "\tlikha gya sir\n",
    "21:32:57 From fahad rasheed To Everyone:\n",
    "\tsir thora data large kryn plx\n",
    "21:33:16 From fahad rasheed To Everyone:\n",
    "\tfor slicing thora data bardhae\n",
    "21:39:52 From raheela To Everyone:\n",
    "\tName is tort ???\n",
    "21:40:43 From Naveed Delattre To Everyone:\n",
    "\tit’s toad\n",
    "21:41:42 From Altaf Hussain To Everyone:\n",
    "\tPIAIC-173738\n",
    "21:41:48 From Hamza To Everyone:\n",
    "\tPIAIC-201785\n",
    "21:41:49 From jhon wick To Everyone:\n",
    "\tpiaic 223880\n",
    "21:41:51 From Hina Zargham To Everyone:\n",
    "\tPIAIC101499\n",
    "21:41:51 From Hatif Humayun To Everyone:\n",
    "\tPIAIC-52822\n",
    "21:41:51 From Ahmed Siddiqui To Everyone:\n",
    "\tPIAIC123456\n",
    "21:41:54 From Arif Najmi To Everyone:\n",
    "\t125657\n",
    "21:41:57 From Rehan Baig - PIAIC73919 To Everyone:\n",
    "\tPIAIC73919\n",
    "21:41:57 From STONE To Everyone:\n",
    "\tZAM - 786\n",
    "21:41:58 From M. Waheed Iqbal (PIAIC_126369) To Everyone:\n",
    "\tPIAIC_126369\n",
    "21:42:00 From . To Everyone:\n",
    "\tPIAIC210905\n",
    "21:42:03 From ABDUL KHALIQ To Everyone:\n",
    "\tPIAIC-604031\n",
    "21:42:08 From Arshad Siddiqui To Everyone:\n",
    "\tPIAIC120702\n",
    "21:42:10 From Ali Zar FSD To Everyone:\n",
    "\tPIaic 223972\n",
    "21:42:10 From Azfar Suhail To Everyone:\n",
    "\tPIAIC218333\n",
    "21:42:11 From Kamran Ahmed To Everyone:\n",
    "\tPIAIC139495\n",
    "21:42:15 From Ahmed To Everyone:\n",
    "\t216511\n",
    "21:42:17 From Ayesha Arshad To Everyone:\n",
    "\tPIAIC-225620\n",
    "21:42:22 From Kamal Hassan To Everyone:\n",
    "\tPIAIC58320\n",
    "21:42:26 From Ahmed To Everyone:\n",
    "\tPIAIC-2165111\n",
    "21:42:27 From Kaleem To Everyone:\n",
    "\tPIAIC:001100\n",
    "21:42:31 From Arif Najmi To Everyone:\n",
    "\tPIAIC 125657\n",
    "21:42:33 From Yasir To Everyone:\n",
    "\tPIAIC63502\n",
    "21:42:34 From Ahmed To Everyone:\n",
    "\tPIAIC-216511\n",
    "21:42:39 From Ali To Everyone:\n",
    "\tPIAIC76588\n",
    "21:42:43 From M Qasim To Everyone:\n",
    "\tPIAIC178397\n",
    "21:42:52 From Dr. Ghulam Shabbir To Everyone:\n",
    "\tPIAIC208889\n",
    "21:42:56 From IMRAN To Everyone:\n",
    "\tPIAIC216423\n",
    "21:43:02 From Ahmed To Everyone:\n",
    "\tPIAIC-216511\n",
    "21:43:13 From Kamal Hassan To Everyone:\n",
    "\tPIAIC,58321\n",
    "21:43:26 From Zeeshan Abbas To Everyone:\n",
    "\tPIAIC221479\n",
    "21:43:40 From Amanat Wattoo To Everyone:\n",
    "\tPIAIC174651\n",
    "21:44:10 From Ahsan To Everyone:\n",
    "\tPIAIC185091\n",
    "21:44:23 From Amanat Wattoo To Everyone:\n",
    "\t@Ikhlas Bhojani bhai chat ko save kaisy save krwia h\n",
    "'''\n",
    "import re\n",
    "\n",
    "pattern : str = r'''\n",
    "(\\d{2}:\\d{2}:\\d{2}) From (.*) To Everyone:\n",
    "\t(PIAIC-? ?\\d{5,6})\n",
    "'''\n",
    "\n",
    "\n",
    "data :list[list[str]] = re.findall(pattern, x)\n",
    "\n",
    "data\n"
   ]
  },
  {
   "cell_type": "code",
   "execution_count": 101,
   "metadata": {},
   "outputs": [
    {
     "data": {
      "text/html": [
       "<div>\n",
       "<style scoped>\n",
       "    .dataframe tbody tr th:only-of-type {\n",
       "        vertical-align: middle;\n",
       "    }\n",
       "\n",
       "    .dataframe tbody tr th {\n",
       "        vertical-align: top;\n",
       "    }\n",
       "\n",
       "    .dataframe thead th {\n",
       "        text-align: right;\n",
       "    }\n",
       "</style>\n",
       "<table border=\"1\" class=\"dataframe\">\n",
       "  <thead>\n",
       "    <tr style=\"text-align: right;\">\n",
       "      <th></th>\n",
       "      <th>Time</th>\n",
       "      <th>Name</th>\n",
       "      <th>ID</th>\n",
       "    </tr>\n",
       "  </thead>\n",
       "  <tbody>\n",
       "    <tr>\n",
       "      <th>0</th>\n",
       "      <td>21:41:42</td>\n",
       "      <td>Altaf Hussain</td>\n",
       "      <td>PIAIC-173738</td>\n",
       "    </tr>\n",
       "    <tr>\n",
       "      <th>1</th>\n",
       "      <td>21:41:51</td>\n",
       "      <td>Hina Zargham</td>\n",
       "      <td>PIAIC101499</td>\n",
       "    </tr>\n",
       "    <tr>\n",
       "      <th>2</th>\n",
       "      <td>21:41:51</td>\n",
       "      <td>Ahmed Siddiqui</td>\n",
       "      <td>PIAIC123456</td>\n",
       "    </tr>\n",
       "    <tr>\n",
       "      <th>3</th>\n",
       "      <td>21:41:57</td>\n",
       "      <td>Rehan Baig - PIAIC73919</td>\n",
       "      <td>PIAIC73919</td>\n",
       "    </tr>\n",
       "    <tr>\n",
       "      <th>4</th>\n",
       "      <td>21:42:00</td>\n",
       "      <td>.</td>\n",
       "      <td>PIAIC210905</td>\n",
       "    </tr>\n",
       "    <tr>\n",
       "      <th>5</th>\n",
       "      <td>21:42:08</td>\n",
       "      <td>Arshad Siddiqui</td>\n",
       "      <td>PIAIC120702</td>\n",
       "    </tr>\n",
       "    <tr>\n",
       "      <th>6</th>\n",
       "      <td>21:42:10</td>\n",
       "      <td>Azfar Suhail</td>\n",
       "      <td>PIAIC218333</td>\n",
       "    </tr>\n",
       "    <tr>\n",
       "      <th>7</th>\n",
       "      <td>21:42:17</td>\n",
       "      <td>Ayesha Arshad</td>\n",
       "      <td>PIAIC-225620</td>\n",
       "    </tr>\n",
       "    <tr>\n",
       "      <th>8</th>\n",
       "      <td>21:42:31</td>\n",
       "      <td>Arif Najmi</td>\n",
       "      <td>PIAIC 125657</td>\n",
       "    </tr>\n",
       "    <tr>\n",
       "      <th>9</th>\n",
       "      <td>21:42:34</td>\n",
       "      <td>Ahmed</td>\n",
       "      <td>PIAIC-216511</td>\n",
       "    </tr>\n",
       "    <tr>\n",
       "      <th>10</th>\n",
       "      <td>21:42:43</td>\n",
       "      <td>M Qasim</td>\n",
       "      <td>PIAIC178397</td>\n",
       "    </tr>\n",
       "    <tr>\n",
       "      <th>11</th>\n",
       "      <td>21:42:56</td>\n",
       "      <td>IMRAN</td>\n",
       "      <td>PIAIC216423</td>\n",
       "    </tr>\n",
       "    <tr>\n",
       "      <th>12</th>\n",
       "      <td>21:43:26</td>\n",
       "      <td>Zeeshan Abbas</td>\n",
       "      <td>PIAIC221479</td>\n",
       "    </tr>\n",
       "    <tr>\n",
       "      <th>13</th>\n",
       "      <td>21:44:10</td>\n",
       "      <td>Ahsan</td>\n",
       "      <td>PIAIC185091</td>\n",
       "    </tr>\n",
       "  </tbody>\n",
       "</table>\n",
       "</div>"
      ],
      "text/plain": [
       "        Time                     Name            ID\n",
       "0   21:41:42            Altaf Hussain  PIAIC-173738\n",
       "1   21:41:51             Hina Zargham   PIAIC101499\n",
       "2   21:41:51           Ahmed Siddiqui   PIAIC123456\n",
       "3   21:41:57  Rehan Baig - PIAIC73919    PIAIC73919\n",
       "4   21:42:00                        .   PIAIC210905\n",
       "5   21:42:08          Arshad Siddiqui   PIAIC120702\n",
       "6   21:42:10             Azfar Suhail   PIAIC218333\n",
       "7   21:42:17            Ayesha Arshad  PIAIC-225620\n",
       "8   21:42:31               Arif Najmi  PIAIC 125657\n",
       "9   21:42:34                    Ahmed  PIAIC-216511\n",
       "10  21:42:43                  M Qasim   PIAIC178397\n",
       "11  21:42:56                    IMRAN   PIAIC216423\n",
       "12  21:43:26            Zeeshan Abbas   PIAIC221479\n",
       "13  21:44:10                    Ahsan   PIAIC185091"
      ]
     },
     "execution_count": 101,
     "metadata": {},
     "output_type": "execute_result"
    }
   ],
   "source": [
    "df : pd.DataFrame = pd.DataFrame(data,columns=[\"Time\",\"Name\",\"ID\"]) # type: ignore\n",
    "\n",
    "df"
   ]
  }
 ],
 "metadata": {
  "kernelspec": {
   "display_name": "python12",
   "language": "python",
   "name": "python3"
  },
  "language_info": {
   "codemirror_mode": {
    "name": "ipython",
    "version": 3
   },
   "file_extension": ".py",
   "mimetype": "text/x-python",
   "name": "python",
   "nbconvert_exporter": "python",
   "pygments_lexer": "ipython3",
   "version": "3.12.0"
  }
 },
 "nbformat": 4,
 "nbformat_minor": 2
}
