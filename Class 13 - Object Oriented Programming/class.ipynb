{
 "cells": [
  {
   "cell_type": "markdown",
   "metadata": {},
   "source": [
    "## OOP (Object Oriented Programming)\n",
    "* Class\n",
    "    * method\n",
    "        * first argument must be additional variable (self, this, or anything else)\n",
    "    * attribute\n",
    "        * connect with individual object\n",
    "    * class variables\n",
    "    * constructor\n",
    "        * def ```__init__(self,arg1, arg2)```\n",
    "\n",
    "    * Class variable\n",
    "        * this value use for all objects\n",
    "            * `ClassName.class_vriable`\n",
    "        * \n",
    "```\n",
    "class ClassName():\n",
    "    class_variable1 : type = Value\n",
    "```\n",
    "\n",
    "\n",
    "## Syntax of class\n",
    "```\n",
    "class ClassName():\n",
    "    pass\n",
    "```\n"
   ]
  },
  {
   "cell_type": "code",
   "execution_count": 5,
   "metadata": {},
   "outputs": [
    {
     "data": {
      "text/plain": [
       "['__class__',\n",
       " '__delattr__',\n",
       " '__dict__',\n",
       " '__dir__',\n",
       " '__doc__',\n",
       " '__eq__',\n",
       " '__format__',\n",
       " '__ge__',\n",
       " '__getattribute__',\n",
       " '__getstate__',\n",
       " '__gt__',\n",
       " '__hash__',\n",
       " '__init__',\n",
       " '__init_subclass__',\n",
       " '__le__',\n",
       " '__lt__',\n",
       " '__module__',\n",
       " '__ne__',\n",
       " '__new__',\n",
       " '__reduce__',\n",
       " '__reduce_ex__',\n",
       " '__repr__',\n",
       " '__setattr__',\n",
       " '__sizeof__',\n",
       " '__str__',\n",
       " '__subclasshook__',\n",
       " '__weakref__',\n",
       " 'id',\n",
       " 'name',\n",
       " 'organization_name',\n",
       " 'speak',\n",
       " 'teaching']"
      ]
     },
     "execution_count": 5,
     "metadata": {},
     "output_type": "execute_result"
    }
   ],
   "source": [
    "class Teacher():\n",
    "    def __init__(self,teacher_id : int , teacher_name : str)-> None: # Constructor\n",
    "        self.name : str = teacher_name\n",
    "        self.id : int = teacher_id\n",
    "        self.organization_name : str = \"PIAIC\"\n",
    "    \n",
    "    def speak(self , word : str) -> None: # Function\n",
    "        print(f\"{self.name} is speaking {word}\")\n",
    "\n",
    "    def teaching(self , subject : str) -> None: # Function\n",
    "        print(f\"{self.name} is teaching {subject}...\")\n",
    "\n",
    "# \n",
    "obj1 : Teacher = Teacher(1 , \"Sir Zia\" )\n",
    "obj2 : Teacher = Teacher(2 , \"Sir Qasim\")\n",
    "\n",
    "dir(obj1)"
   ]
  },
  {
   "cell_type": "code",
   "execution_count": 6,
   "metadata": {},
   "outputs": [
    {
     "name": "stdout",
     "output_type": "stream",
     "text": [
      "Sir Zia\n",
      "1\n",
      "PIAIC\n",
      "Sir Zia is teaching Generative AI...\n"
     ]
    }
   ],
   "source": [
    "print(obj1.name)\n",
    "print(obj1.id)\n",
    "print(obj1.organization_name)\n",
    "obj1.teaching(\"Generative AI\")\n"
   ]
  },
  {
   "cell_type": "code",
   "execution_count": 7,
   "metadata": {},
   "outputs": [
    {
     "name": "stdout",
     "output_type": "stream",
     "text": [
      "Sir Qasim\n",
      "2\n",
      "PIAIC\n",
      "Sir Qasim is teaching Deep Learning...\n"
     ]
    }
   ],
   "source": [
    "print(obj2.name)\n",
    "print(obj2.id)\n",
    "print(obj2.organization_name)\n",
    "obj2.teaching(\"Deep Learning\")"
   ]
  },
  {
   "cell_type": "markdown",
   "metadata": {},
   "source": [
    "# Class Variable or Static Variable"
   ]
  },
  {
   "cell_type": "code",
   "execution_count": 14,
   "metadata": {},
   "outputs": [
    {
     "name": "stdout",
     "output_type": "stream",
     "text": [
      "2\n",
      "2\n",
      "2\n"
     ]
    }
   ],
   "source": [
    "class Teacher():\n",
    "    counter : int = 0 # Class Variable\n",
    "    helpline_num : str = \"021123456789\" # Class Variable\n",
    "    def __init__(self,teacher_id : int , teacher_name : str)-> None: # Constructor\n",
    "        self.name : str = teacher_name # Object  Variable\n",
    "        self.id : int = teacher_id # Object  Variable\n",
    "        self.organization_name : str = \"PIAIC\" # Object  Variable\n",
    "        Teacher.counter += 1\n",
    "    \n",
    "    def speak(self , word : str) -> None: # Function\n",
    "        print(f\"{self.name} is speaking {word}\")\n",
    "\n",
    "    def teaching(self , subject : str) -> None: # Function\n",
    "        print(f\"{self.name} is teaching {subject}...\")\n",
    "\n",
    "    def detail(self) -> None:\n",
    "        information : str = f\"\"\" \n",
    "Teacher name is {self.name} and he is \n",
    "\"\"\"\n",
    "obj1 : Teacher = Teacher(1 , \"Sir Zia\" )\n",
    "obj2 : Teacher = Teacher(2 , \"Sir Qasim\")\n",
    "\n",
    "print(obj1.counter)\n",
    "print(Teacher.counter)\n",
    "print(obj2.counter)"
   ]
  },
  {
   "cell_type": "code",
   "execution_count": 12,
   "metadata": {},
   "outputs": [
    {
     "name": "stdout",
     "output_type": "stream",
     "text": [
      "PIAIC\n"
     ]
    }
   ],
   "source": [
    "print(obj1.organization_name)"
   ]
  },
  {
   "cell_type": "markdown",
   "metadata": {},
   "source": [
    "## Inheritance\n",
    "\n",
    "```\n",
    "class ChildClass(ParentClass):\n",
    "    pass\n",
    "    \n",
    "```"
   ]
  },
  {
   "cell_type": "code",
   "execution_count": 21,
   "metadata": {},
   "outputs": [
    {
     "name": "stdout",
     "output_type": "stream",
     "text": [
      "Brown\n",
      "Black\n",
      "Parent Method Speak : Hello\n",
      "Brown\n",
      "Black\n",
      "Parent Method Speak : Hello World\n",
      "Child Method Called : OOP\n"
     ]
    }
   ],
   "source": [
    "class Parent():\n",
    "    def __init__(self) -> None:\n",
    "        self.eye_color : str = \"Brown\"\n",
    "        self.hair_color : str = \"Black\"\n",
    "\n",
    "    def speak(self,words : str) -> None:\n",
    "        print(f\"Parent Method Speak : {words}\")\n",
    "\n",
    "    def watch(self,object_name : str ) ->None:\n",
    "        print(f\"You are looking at {object_name}\")\n",
    "\n",
    "class Child(Parent):\n",
    "    def teaching(self,subject : str ) -> None:\n",
    "        print(f\"Child Method Called : {subject}\")\n",
    "\n",
    "obj1 : Parent = Parent()\n",
    "print(obj1.eye_color)\n",
    "print(obj1.hair_color)\n",
    "obj1.speak(\"Hello\")\n",
    "\n",
    "###\n",
    "\n",
    "obj2 : Child = Child()\n",
    "print(obj2.eye_color)\n",
    "print(obj2.hair_color)\n",
    "obj2.speak(\"Hello World\")\n",
    "obj2.teaching(\"OOP\")"
   ]
  },
  {
   "cell_type": "code",
   "execution_count": 1,
   "metadata": {},
   "outputs": [
    {
     "name": "stdout",
     "output_type": "stream",
     "text": [
      "Animation Artist Azfar\n",
      "['Python', 'Gen AI Engineer']\n"
     ]
    }
   ],
   "source": [
    "class Employee():\n",
    "    def __init__(self, name : str) -> None:\n",
    "        self.name : str = name\n",
    "        self.education : str = \" \"\n",
    "        self.department : str = \" \"\n",
    "\n",
    "class Designer(Employee):\n",
    "    def __init__(self , title : str , name : str) -> None:\n",
    "        super().__init__(name)\n",
    "        self.title : str = title\n",
    "\n",
    "class Developer(Employee):\n",
    "    def __init__(self, programming_skills : list[str], name : str) -> None:\n",
    "        super().__init__(name)\n",
    "        self.programming_skills : list[str] = [\"Python\"]\n",
    "\n",
    "des1 : Designer = Designer(\"Animation Artist\",\"Azfar\")\n",
    "\n",
    "dev: Developer = Developer(\"Gen AI Engineer\", \"Aneeq\")\n",
    "\n",
    "print(des1.title,des1.name)\n",
    "\n",
    "print(dev.programming_skills)"
   ]
  },
  {
   "cell_type": "markdown",
   "metadata": {},
   "source": [
    "## 1. Encapsulation\n",
    "Encapsulation: The bundling of data with the methods that operate on that data. It restricts direct access to some of an object's components and can prevent the accidental modification of data.\n",
    "\n",
    "## 2. Abstraction\n",
    "Abstraction: The concept of hiding the complex reality while exposing only the necessary parts. It helps to reduce programming complexity and effort.\n",
    "\n",
    "## 3. Inheritance\n",
    "Inheritance: A mechanism wherein a new class inherits properties and behavior (methods) from another class. This helps to create a new class based on an existing class.\n",
    "\n",
    "## 4. Polymorphism\n",
    "Polymorphism: The ability of different classes to respond to the same message (method call) in different ways. This allows for code to work with objects of various classes as if they were objects of a common superclass."
   ]
  }
 ],
 "metadata": {
  "kernelspec": {
   "display_name": "python12",
   "language": "python",
   "name": "python3"
  },
  "language_info": {
   "codemirror_mode": {
    "name": "ipython",
    "version": 3
   },
   "file_extension": ".py",
   "mimetype": "text/x-python",
   "name": "python",
   "nbconvert_exporter": "python",
   "pygments_lexer": "ipython3",
   "version": "3.12.0"
  }
 },
 "nbformat": 4,
 "nbformat_minor": 2
}
