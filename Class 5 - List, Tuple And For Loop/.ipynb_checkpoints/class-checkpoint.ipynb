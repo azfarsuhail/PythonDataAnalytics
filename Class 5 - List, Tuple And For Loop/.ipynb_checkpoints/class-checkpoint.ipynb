{
 "cells": [
  {
   "cell_type": "markdown",
   "metadata": {},
   "source": [
    "# List\n",
    "    * Iteration Operation with loop\n",
    "    * Apply any operation on element"
   ]
  },
  {
   "cell_type": "code",
   "execution_count": 5,
   "metadata": {},
   "outputs": [
    {
     "name": "stdout",
     "output_type": "stream",
     "text": [
      "Azfar\n",
      "Huzaifa\n",
      "Imaz\n",
      "Hamza\n"
     ]
    }
   ],
   "source": [
    "names : list[str] = [\"Azfar\",\"Huzaifa\",\"Imaz\",\"Hamza\"]\n",
    "for name in names:\n",
    "    print(name)"
   ]
  },
  {
   "cell_type": "code",
   "execution_count": 6,
   "metadata": {},
   "outputs": [
    {
     "name": "stdout",
     "output_type": "stream",
     "text": [
      "Welcome Azfar\n",
      "Welcome Huzaifa\n",
      "Welcome Imaz\n",
      "Welcome Hamza\n"
     ]
    }
   ],
   "source": [
    "for name in names:\n",
    "    print(f'Welcome {name}')"
   ]
  },
  {
   "cell_type": "code",
   "execution_count": 22,
   "metadata": {},
   "outputs": [
    {
     "name": "stdout",
     "output_type": "stream",
     "text": [
      "('Azfar', 123)\n",
      "('Huzaifa', 456)\n",
      "('Imaz', 789)\n",
      "Azfar 123\n",
      "Valid Data\n"
     ]
    }
   ],
   "source": [
    "data_base : list[tuple] = [(\"Azfar\",123),(\"Huzaifa\",456),(\"Imaz\",789)]\n",
    "for row in data_base:\n",
    "    print(row)\n",
    "\n",
    "input1 : str = input(\"Enter Name\")\n",
    "input2 : int = int(input(\"Enter Password\"))\n",
    "print(input1,input2)\n",
    "\n",
    "for row in data_base:\n",
    "   user,password = row \n",
    "   if input1 == user and input2 == password:\n",
    "      print(\"Valid Data\")\n",
    "      break\n",
    "else:\n",
    "   print(\"Invalid Data\")"
   ]
  }
 ],
 "metadata": {
  "kernelspec": {
   "display_name": "python12",
   "language": "python",
   "name": "python3"
  },
  "language_info": {
   "codemirror_mode": {
    "name": "ipython",
    "version": 3
   },
   "file_extension": ".py",
   "mimetype": "text/x-python",
   "name": "python",
   "nbconvert_exporter": "python",
   "pygments_lexer": "ipython3",
   "version": "3.12.0"
  }
 },
 "nbformat": 4,
 "nbformat_minor": 2
}
