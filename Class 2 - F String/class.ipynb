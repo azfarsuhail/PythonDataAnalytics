{
 "cells": [
  {
   "cell_type": "markdown",
   "metadata": {},
   "source": [
    "String data type in Python"
   ]
  },
  {
   "cell_type": "code",
   "execution_count": 2,
   "metadata": {},
   "outputs": [],
   "source": [
    "# Boundaries\n",
    "# 'string' , \"string\" , '''string''' , \"\"string\"\"\"\n",
    "# use appropriate boundary according to string\n",
    "name : str = \"Azfar\"\n",
    "f_name : str = \"Suhail\"\n",
    "print(name)"
   ]
  },
  {
   "cell_type": "markdown",
   "metadata": {},
   "source": [
    "Double Quote Usage"
   ]
  },
  {
   "cell_type": "code",
   "execution_count": 5,
   "metadata": {},
   "outputs": [
    {
     "name": "stdout",
     "output_type": "stream",
     "text": [
      "PIAIC Student Card \n",
      " Father's Name\n"
     ]
    }
   ],
   "source": [
    "message : str = \"PIAIC Student Card \\n Father's Name\"\n",
    "print(message)"
   ]
  },
  {
   "cell_type": "markdown",
   "metadata": {},
   "source": [
    "Single Quote Usage"
   ]
  },
  {
   "cell_type": "code",
   "execution_count": null,
   "metadata": {},
   "outputs": [],
   "source": [
    "# convert any special character into simple character, place \\ before character\n",
    "# Defining boundaries while making special characters\n",
    "message : str = 'PIAIC Student Card \\n Father\\'s Name'\n",
    "print(message)"
   ]
  },
  {
   "cell_type": "markdown",
   "metadata": {},
   "source": [
    "Adding string and integer"
   ]
  },
  {
   "cell_type": "code",
   "execution_count": 12,
   "metadata": {},
   "outputs": [
    {
     "name": "stdout",
     "output_type": "stream",
     "text": [
      "PIAIC Student Card\n",
      "Student Name: Azfar\n",
      "Father Name: Suhail\n",
      "Age: 21\n",
      "Current Education: Studying Computer Science\n"
     ]
    }
   ],
   "source": [
    "name : str = \"Azfar\"\n",
    "f_name : str = \"Suhail\"\n",
    "education : str = \"Studying Computer Science\"\n",
    "age : int = 21\n",
    "card : str = \"PIAIC Student Card\\nStudent Name: \" + name + \"\\nFather Name: \" + f_name + \"\\nAge: \" + str(age) +\"\\nCurrent Education: \" + education\n",
    "print(card)"
   ]
  },
  {
   "cell_type": "markdown",
   "metadata": {},
   "source": [
    "Using backslash to use multiple lines so python sees the code in new line"
   ]
  },
  {
   "cell_type": "code",
   "execution_count": 15,
   "metadata": {},
   "outputs": [
    {
     "name": "stdout",
     "output_type": "stream",
     "text": [
      "20\n"
     ]
    }
   ],
   "source": [
    "print(7 + \\\n",
    "      8 + \\\n",
    "        2 + \\\n",
    "            3)"
   ]
  },
  {
   "cell_type": "markdown",
   "metadata": {},
   "source": [
    "Using backslash to make code easier to handle"
   ]
  },
  {
   "cell_type": "code",
   "execution_count": null,
   "metadata": {},
   "outputs": [],
   "source": [
    "name : str = \"Azfar\"\n",
    "f_name : str = \"Suhail\"\n",
    "education : str = \"Studying Computer Science\"\n",
    "age : int = 21\n",
    "card : str = \"PIAIC Student Card\\nStudent Name: \" + name + \\\n",
    "            \"\\nFather Name: \" + f_name + \\\n",
    "            \"\\nAge: \" + str(age) + \\\n",
    "            \"\\nCurrent Education: \" + education\n",
    "print(card)"
   ]
  },
  {
   "cell_type": "markdown",
   "metadata": {},
   "source": [
    "Definin Multiline String using triple double quotes and F-String"
   ]
  },
  {
   "cell_type": "code",
   "execution_count": 21,
   "metadata": {},
   "outputs": [
    {
     "name": "stdout",
     "output_type": "stream",
     "text": [
      "PIAIC Student Card\n",
      "Student Name: Azfar \n",
      "Father Name: Suhail\n",
      "Age: 21\n",
      "Current Education: Studying Computer Science \n",
      "Total: 5\n",
      "\n"
     ]
    }
   ],
   "source": [
    "name : str = \"Azfar\"\n",
    "f_name : str = \"Suhail\"\n",
    "education : str = \"Studying Computer Science\"\n",
    "age : int = 21\n",
    "card : str = f\"\"\"PIAIC Student Card\n",
    "Student Name: {name} \n",
    "Father Name: {f_name}\n",
    "Age: {age}\n",
    "Current Education: {education} \n",
    "Total: {1+1+1+1+1}\n",
    "\"\"\"\n",
    "# can use python expressions and functions as well\n",
    "print(card)"
   ]
  },
  {
   "cell_type": "markdown",
   "metadata": {},
   "source": [
    "Jinja Style"
   ]
  },
  {
   "cell_type": "code",
   "execution_count": 24,
   "metadata": {},
   "outputs": [
    {
     "data": {
      "text/plain": [
       "'\\nStudent Name {Name}\\n'"
      ]
     },
     "execution_count": 24,
     "metadata": {},
     "output_type": "execute_result"
    }
   ],
   "source": [
    "# Jinja Style\n",
    "\"\"\"\n",
    "Student Name \n",
    "\"\"\""
   ]
  },
  {
   "cell_type": "markdown",
   "metadata": {},
   "source": [
    "Using Placeholder"
   ]
  },
  {
   "cell_type": "code",
   "execution_count": 25,
   "metadata": {},
   "outputs": [
    {
     "name": "stdout",
     "output_type": "stream",
     "text": [
      "PIAIC Student Card\n",
      "Student Name: Azfar\n",
      "Father Name: Suhail\n",
      "Age: 21\n",
      "Current Education: Studying Computer Science\n",
      "Total: 5\n",
      "\n"
     ]
    }
   ],
   "source": [
    "name : str = \"Azfar\"\n",
    "f_name : str = \"Suhail\"\n",
    "education : str = \"Studying Computer Science\"\n",
    "age : int = 21\n",
    "card : str = f\"\"\"PIAIC Student Card\n",
    "Student Name: %s\n",
    "Father Name: %s\n",
    "Age: %d\n",
    "Current Education: %s\n",
    "Total: {1+1+1+1+1}\n",
    "\"\"\"%(name,f_name,age,education)\n",
    "\n",
    "print(card)"
   ]
  },
  {
   "cell_type": "markdown",
   "metadata": {},
   "source": [
    "Function and Attributes for Strings"
   ]
  },
  {
   "cell_type": "code",
   "execution_count": 27,
   "metadata": {},
   "outputs": [
    {
     "data": {
      "text/plain": [
       "['capitalize',\n",
       " 'casefold',\n",
       " 'center',\n",
       " 'count',\n",
       " 'encode',\n",
       " 'endswith',\n",
       " 'expandtabs',\n",
       " 'find',\n",
       " 'format',\n",
       " 'format_map',\n",
       " 'index',\n",
       " 'isalnum',\n",
       " 'isalpha',\n",
       " 'isascii',\n",
       " 'isdecimal',\n",
       " 'isdigit',\n",
       " 'isidentifier',\n",
       " 'islower',\n",
       " 'isnumeric',\n",
       " 'isprintable',\n",
       " 'isspace',\n",
       " 'istitle',\n",
       " 'isupper',\n",
       " 'join',\n",
       " 'ljust',\n",
       " 'lower',\n",
       " 'lstrip',\n",
       " 'maketrans',\n",
       " 'partition',\n",
       " 'removeprefix',\n",
       " 'removesuffix',\n",
       " 'replace',\n",
       " 'rfind',\n",
       " 'rindex',\n",
       " 'rjust',\n",
       " 'rpartition',\n",
       " 'rsplit',\n",
       " 'rstrip',\n",
       " 'split',\n",
       " 'splitlines',\n",
       " 'startswith',\n",
       " 'strip',\n",
       " 'swapcase',\n",
       " 'title',\n",
       " 'translate',\n",
       " 'upper',\n",
       " 'zfill']"
      ]
     },
     "execution_count": 27,
     "metadata": {},
     "output_type": "execute_result"
    }
   ],
   "source": [
    "[i for i in dir(str) if \"__\" not in i]"
   ]
  },
  {
   "cell_type": "markdown",
   "metadata": {},
   "source": [
    "Using string functions"
   ]
  },
  {
   "cell_type": "code",
   "execution_count": 30,
   "metadata": {},
   "outputs": [
    {
     "name": "stdout",
     "output_type": "stream",
     "text": [
      "aZfAr\n",
      "Azfar\n"
     ]
    }
   ],
   "source": [
    "name : str = \"aZfAr\"\n",
    "print(name)\n",
    "print(name.capitalize())"
   ]
  },
  {
   "cell_type": "markdown",
   "metadata": {},
   "source": [
    "Placeholder {} using F-String"
   ]
  },
  {
   "cell_type": "code",
   "execution_count": 31,
   "metadata": {},
   "outputs": [
    {
     "data": {
      "text/plain": [
       "'Pakistan value a= 5 and b= 5'"
      ]
     },
     "execution_count": 31,
     "metadata": {},
     "output_type": "execute_result"
    }
   ],
   "source": [
    "a = 5\n",
    "b = 9\n",
    "#                   0         1         0 1\n",
    "\"Pakistan value a= {} and b= {}\".format(a,b)"
   ]
  },
  {
   "cell_type": "markdown",
   "metadata": {},
   "source": [
    "Using F-String using indexing"
   ]
  },
  {
   "cell_type": "code",
   "execution_count": 34,
   "metadata": {},
   "outputs": [
    {
     "name": "stdout",
     "output_type": "stream",
     "text": [
      "PIAIC Student Card\n",
      "Student Name: Azfar \n",
      "Father Name: Suhail\n",
      "Age: 21\n",
      "Current Education: Studying Computer Science \n",
      "\n"
     ]
    }
   ],
   "source": [
    "name : str = \"Azfar\"\n",
    "f_name : str = \"Suhail\"\n",
    "education : str = \"Studying Computer Science\"\n",
    "age : int = 21\n",
    "card : str = \"\"\"PIAIC Student Card\n",
    "Student Name: {2} \n",
    "Father Name: {0}\n",
    "Age: {1}\n",
    "Current Education: {3} \n",
    "\"\"\".format(f_name,age,name,education)\n",
    "# Index=      0     1    2      3\n",
    "print(card)"
   ]
  },
  {
   "cell_type": "markdown",
   "metadata": {},
   "source": [
    "Using custom indexing using F-String"
   ]
  },
  {
   "cell_type": "code",
   "execution_count": 35,
   "metadata": {},
   "outputs": [
    {
     "name": "stdout",
     "output_type": "stream",
     "text": [
      "PIAIC Student Card\n",
      "Student Name: Azfar \n",
      "Father Name: Suhail\n",
      "Age: 21\n",
      "Current Education: Studying Computer Science \n",
      "\n"
     ]
    }
   ],
   "source": [
    "name : str = \"Azfar\"\n",
    "f_name : str = \"Suhail\"\n",
    "education : str = \"Studying Computer Science\"\n",
    "age : int = 21\n",
    "card : str = \"\"\"PIAIC Student Card\n",
    "Student Name: {a} \n",
    "Father Name: {b}\n",
    "Age: {c}\n",
    "Current Education: {d} \n",
    "\"\"\".format(b=f_name,c=age,a=name,d=education)\n",
    "print(card)"
   ]
  },
  {
   "cell_type": "markdown",
   "metadata": {},
   "source": [
    "F-String Functionality can be used flike this as well"
   ]
  },
  {
   "cell_type": "code",
   "execution_count": 45,
   "metadata": {},
   "outputs": [
    {
     "ename": "SyntaxError",
     "evalue": "unterminated string literal (detected at line 1) (<string>, line 1)",
     "output_type": "error",
     "traceback": [
      "Traceback \u001b[1;36m(most recent call last)\u001b[0m:\n",
      "\u001b[0m  File \u001b[0;32mc:\\Users\\azfar\\anaconda3\\envs\\python12\\Lib\\site-packages\\IPython\\core\\interactiveshell.py:3526\u001b[0m in \u001b[0;35mrun_code\u001b[0m\n    exec(code_obj, self.user_global_ns, self.user_ns)\u001b[0m\n",
      "\u001b[1;36m  Cell \u001b[1;32mIn[45], line 7\u001b[1;36m\n\u001b[1;33m    exec(code)\u001b[1;36m\n",
      "\u001b[1;36m  File \u001b[1;32m<string>:1\u001b[1;36m\u001b[0m\n\u001b[1;33m    \"\u001b[0m\n\u001b[1;37m    ^\u001b[0m\n\u001b[1;31mSyntaxError\u001b[0m\u001b[1;31m:\u001b[0m unterminated string literal (detected at line 1)\n"
     ]
    }
   ],
   "source": [
    "code : str = \"\"\"\"\n",
    "print(\"My Name is Azfar Suhail\")\n",
    "a : int = 8\n",
    "b : int = 3\n",
    "print(a+b)\n",
    "\"\"\"\n",
    "exec(code)"
   ]
  },
  {
   "cell_type": "markdown",
   "metadata": {},
   "source": [
    "Other Functions and Attributes for String"
   ]
  },
  {
   "cell_type": "code",
   "execution_count": 58,
   "metadata": {},
   "outputs": [
    {
     "name": "stdout",
     "output_type": "stream",
     "text": [
      "['capitalize', 'casefold', 'center', 'count', 'encode', 'endswith', 'expandtabs', 'find', 'format', 'format_map', 'index', 'isalnum', 'isalpha', 'isascii', 'isdecimal', 'isdigit', 'isidentifier', 'islower', 'isnumeric', 'isprintable', 'isspace', 'istitle', 'isupper', 'join', 'ljust', 'lower', 'lstrip', 'maketrans', 'partition', 'removeprefix', 'removesuffix', 'replace', 'rfind', 'rindex', 'rjust', 'rpartition', 'rsplit', 'rstrip', 'split', 'splitlines', 'startswith', 'strip', 'swapcase', 'title', 'translate', 'upper', 'zfill']\n"
     ]
    }
   ],
   "source": [
    "a : list = [i for i in dir(str) if \"__\" not in i]\n",
    "print(a)"
   ]
  },
  {
   "cell_type": "code",
   "execution_count": 57,
   "metadata": {},
   "outputs": [
    {
     "name": "stdout",
     "output_type": "stream",
     "text": [
      "   Azfar  Suhail \n"
     ]
    },
    {
     "data": {
      "text/plain": [
       "'Azfar  Suhail '"
      ]
     },
     "metadata": {},
     "output_type": "display_data"
    },
    {
     "data": {
      "text/plain": [
       "<function str.strip(chars=None, /)>"
      ]
     },
     "metadata": {},
     "output_type": "display_data"
    }
   ],
   "source": [
    "name : str = \"   Azfar  Suhail \"\n",
    "print(name)\n",
    "display(name.lstrip())\n",
    "display(name.strip)"
   ]
  },
  {
   "cell_type": "code",
   "execution_count": 65,
   "metadata": {},
   "outputs": [
    {
     "name": "stdout",
     "output_type": "stream",
     "text": [
      "Azfar Suhail\n"
     ]
    }
   ],
   "source": [
    "name : str = \"azfar suhail\"\n",
    "print(name.title())"
   ]
  }
 ],
 "metadata": {
  "kernelspec": {
   "display_name": "python12",
   "language": "python",
   "name": "python3"
  },
  "language_info": {
   "codemirror_mode": {
    "name": "ipython",
    "version": 3
   },
   "file_extension": ".py",
   "mimetype": "text/x-python",
   "name": "python",
   "nbconvert_exporter": "python",
   "pygments_lexer": "ipython3",
   "version": "3.12.0"
  }
 },
 "nbformat": 4,
 "nbformat_minor": 2
}
